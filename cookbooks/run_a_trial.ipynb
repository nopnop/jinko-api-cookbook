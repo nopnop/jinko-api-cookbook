{
 "cells": [
  {
   "cell_type": "markdown",
   "id": "97de1512",
   "metadata": {},
   "source": [
    "# From CM to trial results\n",
    "\n",
    "## Introduction\n",
    "\n",
    "Goal of this cookbook is to illustrate how one can post the material needed for a trial, run it and visualize the results.\n",
    "\n",
    "Steps: \n",
    "1. Post a Computational Model\n",
    "2. Create a Virtual Population (Vpop) Design\n",
    "3. Generate a Vpop from the Vpop Design\n",
    "4. Post a Protocol\n",
    "5. Post a Data Table\n",
    "6. Post a Trial\n",
    "7. Run and monitor a Trial\n",
    "8. Visualize the trial results\n",
    "\n",
    "Linked resources: \n",
    "- [Folder on jinko](https://jinko.ai/project/e0fbb5bb-8929-439a-bad6-9e12d19d9ae4)."
   ]
  },
  {
   "cell_type": "code",
   "execution_count": 1,
   "id": "f4a8a8c1",
   "metadata": {},
   "outputs": [
    {
     "name": "stdout",
     "output_type": "stream",
     "text": [
      "Defaulting to user installation because normal site-packages is not writeable\n",
      "Requirement already satisfied: jinko-sdk in /home/ubuntu/.local/lib/python3.10/site-packages (0.5.2)\n",
      "Requirement already satisfied: pandas<3.0.0,>=2.2.2 in /home/ubuntu/.local/lib/python3.10/site-packages (from jinko-sdk) (2.3.2)\n",
      "Requirement already satisfied: requests<3.0.0,>=2.25.1 in /home/ubuntu/.local/lib/python3.10/site-packages (from jinko-sdk) (2.32.5)\n",
      "Requirement already satisfied: tqdm<5.0.0,>=4.66.5 in /home/ubuntu/.local/lib/python3.10/site-packages (from jinko-sdk) (4.67.1)\n",
      "Requirement already satisfied: numpy>=1.22.4 in /home/ubuntu/.local/lib/python3.10/site-packages (from pandas<3.0.0,>=2.2.2->jinko-sdk) (2.2.6)\n",
      "Requirement already satisfied: python-dateutil>=2.8.2 in /home/ubuntu/.local/lib/python3.10/site-packages (from pandas<3.0.0,>=2.2.2->jinko-sdk) (2.9.0.post0)\n",
      "Requirement already satisfied: pytz>=2020.1 in /home/ubuntu/.local/lib/python3.10/site-packages (from pandas<3.0.0,>=2.2.2->jinko-sdk) (2025.2)\n",
      "Requirement already satisfied: tzdata>=2022.7 in /home/ubuntu/.local/lib/python3.10/site-packages (from pandas<3.0.0,>=2.2.2->jinko-sdk) (2025.2)\n",
      "Requirement already satisfied: charset_normalizer<4,>=2 in /home/ubuntu/.local/lib/python3.10/site-packages (from requests<3.0.0,>=2.25.1->jinko-sdk) (3.4.3)\n",
      "Requirement already satisfied: idna<4,>=2.5 in /home/ubuntu/.local/lib/python3.10/site-packages (from requests<3.0.0,>=2.25.1->jinko-sdk) (3.10)\n",
      "Requirement already satisfied: urllib3<3,>=1.21.1 in /home/ubuntu/.local/lib/python3.10/site-packages (from requests<3.0.0,>=2.25.1->jinko-sdk) (2.5.0)\n",
      "Requirement already satisfied: certifi>=2017.4.17 in /home/ubuntu/.local/lib/python3.10/site-packages (from requests<3.0.0,>=2.25.1->jinko-sdk) (2025.8.3)\n",
      "Requirement already satisfied: six>=1.5 in /usr/lib/python3/dist-packages (from python-dateutil>=2.8.2->pandas<3.0.0,>=2.2.2->jinko-sdk) (1.16.0)\n",
      "\n",
      "\u001b[1m[\u001b[0m\u001b[34;49mnotice\u001b[0m\u001b[1;39;49m]\u001b[0m\u001b[39;49m A new release of pip is available: \u001b[0m\u001b[31;49m24.2\u001b[0m\u001b[39;49m -> \u001b[0m\u001b[32;49m25.2\u001b[0m\n",
      "\u001b[1m[\u001b[0m\u001b[34;49mnotice\u001b[0m\u001b[1;39;49m]\u001b[0m\u001b[39;49m To update, run: \u001b[0m\u001b[32;49mpip install --upgrade pip\u001b[0m\n",
      "Note: you may need to restart the kernel to use updated packages.\n"
     ]
    },
    {
     "name": "stderr",
     "output_type": "stream",
     "text": [
      "Authentication successful\n"
     ]
    }
   ],
   "source": [
    "%pip install jinko-sdk\n",
    "\n",
    "# Jinko specifics imports & initialization\n",
    "# Please fold this section and do not change\n",
    "import jinko_helpers as jinko\n",
    "\n",
    "# Connect to Jinko (see README.md for more options)\n",
    "jinko.initialize()"
   ]
  },
  {
   "cell_type": "code",
   "execution_count": 2,
   "id": "b8a8364c",
   "metadata": {},
   "outputs": [
    {
     "name": "stdout",
     "output_type": "stream",
     "text": [
      "Defaulting to user installation because normal site-packages is not writeable\n",
      "Requirement already satisfied: plotly in /home/ubuntu/.local/lib/python3.10/site-packages (6.3.0)\n",
      "Requirement already satisfied: narwhals>=1.15.1 in /home/ubuntu/.local/lib/python3.10/site-packages (from plotly) (2.2.0)\n",
      "Requirement already satisfied: packaging in /home/ubuntu/.local/lib/python3.10/site-packages (from plotly) (25.0)\n",
      "\n",
      "\u001b[1m[\u001b[0m\u001b[34;49mnotice\u001b[0m\u001b[1;39;49m]\u001b[0m\u001b[39;49m A new release of pip is available: \u001b[0m\u001b[31;49m24.2\u001b[0m\u001b[39;49m -> \u001b[0m\u001b[32;49m25.2\u001b[0m\n",
      "\u001b[1m[\u001b[0m\u001b[34;49mnotice\u001b[0m\u001b[1;39;49m]\u001b[0m\u001b[39;49m To update, run: \u001b[0m\u001b[32;49mpip install --upgrade pip\u001b[0m\n",
      "Note: you may need to restart the kernel to use updated packages.\n"
     ]
    }
   ],
   "source": [
    "# Cookbook specifics imports\n",
    "\n",
    "%pip install plotly\n",
    "import io\n",
    "import json\n",
    "import os\n",
    "import pandas as pd\n",
    "import plotly.express as px\n",
    "import zipfile\n",
    "\n",
    "# Cookbook specifics constants:\n",
    "# put here the constants that are specific to your cookbook like\n",
    "# the reference to the Jinko items, the name of the model, etc.\n",
    "\n",
    "# @param {\"name\":\"folderId\", \"type\": \"string\"}\n",
    "# folder_id can be retrieved in the url, pattern is `https://jinko.ai/project/<project_id>?labels=<folder_id>`\n",
    "folder_id = \"a21d004f-a1f9-4e79-a8dd-a38bba74c4a3\"\n",
    "\n",
    "resources_dir = os.path.normpath(\"resources/run_a_trial\")\n",
    "\n",
    "model_file = os.path.join(resources_dir, \"computational_model.json\")\n",
    "model_file_copy = os.path.join(resources_dir, \"computational_model_copy.json\")\n",
    "\n",
    "solving_options_file = os.path.join(resources_dir, \"solving_options.json\")\n",
    "vpop_file = os.path.join(resources_dir, \"vpop.csv\")\n",
    "protocol_file = os.path.join(resources_dir, \"protocol.json\")\n",
    "data_table_file = os.path.join(resources_dir, \"data_table.csv\")"
   ]
  },
  {
   "cell_type": "markdown",
   "id": "cb7a6106",
   "metadata": {},
   "source": [
    "# Step 1: Post a Computational Model"
   ]
  },
  {
   "cell_type": "code",
   "execution_count": 3,
   "id": "6dd9f681",
   "metadata": {},
   "outputs": [
    {
     "name": "stdout",
     "output_type": "stream",
     "text": [
      "Resource link: https://jinko.ai/cm-u3yL-eKz8\n"
     ]
    },
    {
     "name": "stderr",
     "output_type": "stream",
     "text": [
      "201: {\"coreItemId\":\"e5daa806-63f5-4142-912f-fb66711876d2\",\"metadata\":{\"internal\":{\"contentHash\":\"ad612f371b1c60de1e678376fd7819a84d67ebe2127ddce3f1fede76894731be\",\"projectId\":\"e0fbb5bb-8929-439a-bad6-9e12d19d9ae4\"},\"public\":{\"algebraicRuleCount\":0,\"baselineCheckCount\":0,\"categoricalParameterCount\":1,\"compartmentCount\":5,\"eventCount\":2,\"odeCount\":0,\"parameterCount\":25,\"reactionCount\":11,\"speciesCount\":6}},\"snapshotId\":\"d4cb15e2-dae2-4c0b-9a12-aeddb44aea5c\",\"warnings\":[]}\n"
     ]
    }
   ],
   "source": [
    "# Load the model\n",
    "with open(model_file, \"r\") as f:\n",
    "    model = json.load(f)\n",
    "\n",
    "# Load the solving options\n",
    "with open(solving_options_file, \"r\") as f:\n",
    "    solving_options = json.load(f)\n",
    "\n",
    "# Post the model with its options\n",
    "# https://doc.jinko.ai/api/#/paths/core-v2-model_manager-jinko_model/post\n",
    "response = jinko.make_request(\n",
    "    path=\"/core/v2/model_manager/jinko_model\",\n",
    "    method=\"POST\",\n",
    "    json={\"model\": model, \"solvingOptions\": solving_options},\n",
    "    options={\"name\": \"simple tumor model\", \"folder_id\": folder_id},\n",
    ")\n",
    "\n",
    "# Get the ids of the resource\n",
    "project_item_info = jinko.get_project_item_info_from_response(response)\n",
    "model_core_item_id = project_item_info[\"coreItemId\"][\"id\"]\n",
    "model_snapshot_id = project_item_info[\"coreItemId\"][\"snapshotId\"]\n",
    "\n",
    "# Get the URL of the resource\n",
    "print(f\"Resource link: {jinko.get_project_item_url_from_response(response)}\")"
   ]
  },
  {
   "cell_type": "markdown",
   "id": "9687db1c",
   "metadata": {},
   "source": [
    "# Step 2: Create a Vpop Design"
   ]
  },
  {
   "cell_type": "markdown",
   "id": "32b69e5f",
   "metadata": {},
   "source": [
    "### Get model descriptors\n"
   ]
  },
  {
   "cell_type": "code",
   "execution_count": 4,
   "id": "a6621fb7",
   "metadata": {},
   "outputs": [
    {
     "data": {
      "text/plain": [
       "[{'distribution': {'highBound': 1.2, 'lowBound': 0.8, 'tag': 'Uniform'},\n",
       "  'id': 'Blood'},\n",
       " {'distribution': {'highBound': 0.36, 'lowBound': 0.24, 'tag': 'Uniform'},\n",
       "  'id': 'Lymph'},\n",
       " {'distribution': {'highBound': 12, 'lowBound': 8, 'tag': 'Uniform'},\n",
       "  'id': 'SubcutaneousInjectionSite'},\n",
       " {'distribution': {'highBound': 0.6, 'lowBound': 0.4, 'tag': 'Uniform'},\n",
       "  'id': 'Tissue'},\n",
       " {'distribution': {'highBound': 120, 'lowBound': 80, 'tag': 'Uniform'},\n",
       "  'id': 'bloodFlowRate'},\n",
       " {'distribution': {'highBound': 0.0006, 'lowBound': 0.0004, 'tag': 'Uniform'},\n",
       "  'id': 'ec50Drug'},\n",
       " {'distribution': {'highBound': 60, 'lowBound': 40, 'tag': 'Uniform'},\n",
       "  'id': 'initialTumorBurden'},\n",
       " {'distribution': {'highBound': 0.096, 'lowBound': 0.064, 'tag': 'Uniform'},\n",
       "  'id': 'kClearanceDrug'},\n",
       " {'distribution': {'highBound': 0.0012, 'lowBound': 0.0008, 'tag': 'Uniform'},\n",
       "  'id': 'kGrowthCancerCell'},\n",
       " {'distribution': {'highBound': 1200000000000,\n",
       "   'lowBound': 800000000000,\n",
       "   'tag': 'Uniform'},\n",
       "  'id': 'kccCancerCell'},\n",
       " {'distribution': {'highBound': 0.12,\n",
       "   'lowBound': 0.08000000000000002,\n",
       "   'tag': 'Uniform'},\n",
       "  'id': 'lymphDrainingRate'},\n",
       " {'distribution': {'highBound': 0.12,\n",
       "   'lowBound': 0.08000000000000002,\n",
       "   'tag': 'Uniform'},\n",
       "  'id': 'vmaxCancerCellDeath'}]"
      ]
     },
     "execution_count": 4,
     "metadata": {},
     "output_type": "execute_result"
    }
   ],
   "source": [
    "# get model baseline descriptors\n",
    "# https://doc.jinko.ai/api/#/paths/core-v2-model_manager-jinko_model-jinkoModelId--snapshots--jinkoModelIdSnapshot--baseline_descriptors/get\n",
    "response = jinko.make_request(\n",
    "    path=f\"/core/v2/model_manager/jinko_model/{model_core_item_id}/snapshots/{model_snapshot_id}/baseline_descriptors\",\n",
    ")\n",
    "\n",
    "response_json = response.json()\n",
    "\n",
    "numeric_descriptors = response_json[\"numericDescriptors\"]\n",
    "\n",
    "# build the default marginal distributions that will be used to create the vpop design\n",
    "# we only select descriptors that are PatientDescriptorKnown, PatientDescriptorUnknown or PatientDescriptorPartiallyKnown\n",
    "default_marginal_distributions = [\n",
    "    {\n",
    "        \"distribution\": {\n",
    "            \"highBound\": descriptor[\"distribution\"][\"highBound\"],\n",
    "            \"lowBound\": descriptor[\"distribution\"][\"lowBound\"],\n",
    "            \"tag\": descriptor[\"distribution\"][\"tag\"],\n",
    "        },\n",
    "        \"id\": descriptor[\"id\"],\n",
    "    }\n",
    "    for descriptor in numeric_descriptors\n",
    "    if any(\n",
    "        tag in descriptor[\"inputTag\"]\n",
    "        for tag in [\n",
    "            \"PatientDescriptorKnown\",\n",
    "            \"PatientDescriptorUnknown\",\n",
    "            \"PatientDescriptorPartiallyKnown\",\n",
    "        ]\n",
    "    )\n",
    "]\n",
    "\n",
    "# Creating a formatted message with the IDs from marginal distributions\n",
    "ids_output = \"IDs present in the Marginal Distributions:\\n\" + \"\\n\".join(\n",
    "    [distribution[\"id\"] for distribution in default_marginal_distributions]\n",
    ")\n",
    "\n",
    "default_marginal_distributions"
   ]
  },
  {
   "cell_type": "markdown",
   "id": "c5642058",
   "metadata": {},
   "source": [
    "### Create a new list with the updated distributions"
   ]
  },
  {
   "cell_type": "code",
   "execution_count": 5,
   "id": "26a73b2c",
   "metadata": {},
   "outputs": [],
   "source": [
    "# Define a dictionary for distribution settings\n",
    "distribution_settings = {\n",
    "    \"initialTumorBurden\": {\"mean\": 1.8, \"stdev\": 0.08, \"base\": 10, \"tag\": \"LogNormal\"},\n",
    "    \"kccCancerCell\": {\"mean\": 12, \"stdev\": 0.5, \"base\": 10, \"tag\": \"LogNormal\"},\n",
    "    \"kGrowthCancerCell\": {\"mean\": -3, \"stdev\": 0.05, \"base\": 10, \"tag\": \"LogNormal\"},\n",
    "    \"vmaxCancerCellDeath\": {\"mean\": -1, \"stdev\": 0.05, \"base\": 10, \"tag\": \"LogNormal\"},\n",
    "    \"ec50Drug\": {\"mean\": -3.5, \"stdev\": 0.05, \"base\": 10, \"tag\": \"LogNormal\"},\n",
    "}\n",
    "\n",
    "# Refactor the list comprehension using the dictionary\n",
    "updated_marginal_distributions = [\n",
    "    {\n",
    "        \"id\": element[\"id\"],\n",
    "        \"distribution\": distribution_settings.get(\n",
    "            element[\"id\"],\n",
    "            element[\n",
    "                \"distribution\"\n",
    "            ],  # Default to the existing distribution if id is not found\n",
    "        ),\n",
    "    }\n",
    "    for element in default_marginal_distributions\n",
    "]"
   ]
  },
  {
   "cell_type": "markdown",
   "id": "8c2cb0bc",
   "metadata": {},
   "source": [
    "### Post the vpop design"
   ]
  },
  {
   "cell_type": "code",
   "execution_count": 6,
   "id": "0f13ff94",
   "metadata": {},
   "outputs": [
    {
     "name": "stdout",
     "output_type": "stream",
     "text": [
      "Resource link: https://jinko.ai/vd-3lwq-veNt\n"
     ]
    },
    {
     "name": "stderr",
     "output_type": "stream",
     "text": [
      "201: {\"coreItemId\":\"02ff57c5-fc8e-425d-8861-b1c53f8f4fb5\",\"metadata\":{\"internal\":{\"tag\":\"VpopGeneratorMetadataEmpty\"},\"public\":{\"correlationCount\":0,\"descriptorCount\":12}},\"snapshotId\":\"2e1b78dc-3076-47b7-a57d-58e75da98eb8\",\"warnings\":[]}\n"
     ]
    }
   ],
   "source": [
    "# https://doc.jinko.ai/api/#/paths/core-v2-vpop_manager-vpop_generator/post\n",
    "response = jinko.make_request(\n",
    "    path=\"/core/v2/vpop_manager/vpop_generator\",\n",
    "    method=\"POST\",\n",
    "    json={\n",
    "        \"contents\": {\n",
    "            \"computationalModelId\": {\n",
    "                \"coreItemId\": model_core_item_id,\n",
    "                \"snapshotId\": model_snapshot_id,\n",
    "            },\n",
    "            \"correlations\": [],\n",
    "            \"marginalCategoricals\": [],\n",
    "            \"marginalDistributions\": updated_marginal_distributions,\n",
    "        },\n",
    "        \"tag\": \"VpopGeneratorFromDesign\",\n",
    "    },\n",
    "    options={\n",
    "        \"name\": \"vpop design for simple tumor model\",\n",
    "        \"folder_id\": folder_id,\n",
    "    },\n",
    ")\n",
    "\n",
    "project_item_info = jinko.get_project_item_info_from_response(response)\n",
    "vpop_generator_core_item_id = project_item_info[\"coreItemId\"][\"id\"]\n",
    "vpop_generator_snapshot_id = project_item_info[\"coreItemId\"][\"snapshotId\"]\n",
    "\n",
    "print(f\"Resource link: {jinko.get_project_item_url_from_response(response)}\")"
   ]
  },
  {
   "cell_type": "markdown",
   "id": "6516445a",
   "metadata": {},
   "source": [
    "# Step 3: Generate a Vpop from the Vpop design"
   ]
  },
  {
   "cell_type": "code",
   "execution_count": 7,
   "id": "d603dd35",
   "metadata": {},
   "outputs": [
    {
     "name": "stdout",
     "output_type": "stream",
     "text": [
      "Resource link: https://jinko.ai/vp-aehA-UWuR\n"
     ]
    }
   ],
   "source": [
    "# https://doc.jinko.ai/api/#/paths/core-v2-vpop_manager-vpop_generator-vpopGeneratorId--snapshots--vpopGeneratorIdSnapshot--vpop/post\n",
    "\n",
    "response = jinko.make_request(\n",
    "    path=f\"/core/v2/vpop_manager/vpop_generator/{vpop_generator_core_item_id}/snapshots/{vpop_generator_snapshot_id}/vpop\",\n",
    "    method=\"POST\",\n",
    "    json={\n",
    "        \"contents\": {\n",
    "            \"computationalModelId\": {\n",
    "                \"coreItemId\": model_core_item_id,\n",
    "                \"snapshotId\": model_snapshot_id,\n",
    "            },\n",
    "            \"size\": 10,  # vpop has 10 patients\n",
    "        },\n",
    "        \"tag\": \"VpopGeneratorOptionsForVpopDesign\",\n",
    "    },\n",
    "    options={\n",
    "        \"name\": \"vpop for simple tumor model\",\n",
    "        \"folder_id\": folder_id,\n",
    "    },\n",
    ")\n",
    "\n",
    "project_item_info = jinko.get_project_item_info_from_response(response)\n",
    "vpop_core_item_id = project_item_info[\"coreItemId\"][\"id\"]\n",
    "vpop_snapshot_id = project_item_info[\"coreItemId\"][\"snapshotId\"]\n",
    "\n",
    "print(f\"Resource link: {jinko.get_project_item_url_from_response(response)}\")"
   ]
  },
  {
   "cell_type": "markdown",
   "id": "75ad1868",
   "metadata": {},
   "source": [
    "# Step 3 bis - not mandatory: Directly post a csv vpop"
   ]
  },
  {
   "cell_type": "code",
   "execution_count": 8,
   "id": "9ee5cfb4",
   "metadata": {},
   "outputs": [
    {
     "name": "stdout",
     "output_type": "stream",
     "text": [
      "Resource link: https://jinko.ai/vp-0HGm-Xv0F\n"
     ]
    },
    {
     "name": "stderr",
     "output_type": "stream",
     "text": [
      "201: {\"coreItemId\":\"272fd0f2-0b1b-4354-b133-139d6b796911\",\"metadata\":{\"internal\":{\"contentHash\":\"b9f309415d7ef7c0053ccb87c433e5563c6d7e331eff1cac215370747ff0e4dd\",\"projectId\":\"e0fbb5bb-8929-439a-bad6-9e12d19d9ae4\"},\"public\":{\"descriptorCount\":12,\"patientCount\":10}},\"snapshotId\":\"f2c264a1-511e-4da2-a916-a0f818778cd1\",\"warnings\":[]}\n"
     ]
    }
   ],
   "source": [
    "with open(vpop_file, \"r\") as file:\n",
    "    vpop = file.read()\n",
    "\n",
    "# https://doc.jinko.ai/api/#/paths/core-v2-vpop_manager-vpop/post\n",
    "\n",
    "response = jinko.make_request(\n",
    "    path=f\"/core/v2/vpop_manager/vpop\",\n",
    "    method=\"POST\",\n",
    "    csv_data=vpop,\n",
    "    options={\n",
    "        \"name\": \"vpop for simple tumor model\",\n",
    "        \"folder_id\": folder_id,\n",
    "    },\n",
    ")\n",
    "\n",
    "project_item_info = jinko.get_project_item_info_from_response(response)\n",
    "vpop_bis_core_item_id = project_item_info[\"coreItemId\"][\"id\"]\n",
    "vpop_bis_snapshot_id = project_item_info[\"coreItemId\"][\"snapshotId\"]\n",
    "\n",
    "print(f\"Resource link: {jinko.get_project_item_url_from_response(response)}\")"
   ]
  },
  {
   "cell_type": "markdown",
   "id": "c2297e60",
   "metadata": {},
   "source": [
    "# Step 4 : Post a Protocol"
   ]
  },
  {
   "cell_type": "code",
   "execution_count": 9,
   "id": "49ed14e9",
   "metadata": {},
   "outputs": [
    {
     "name": "stdout",
     "output_type": "stream",
     "text": [
      "Resource link: https://jinko.ai/pd-5bpe-mA7y\n"
     ]
    },
    {
     "name": "stderr",
     "output_type": "stream",
     "text": [
      "201: {\"coreItemId\":\"7d23096f-cf7c-4b03-8d50-8328ca0bbd23\",\"metadata\":{\"internal\":{\"contentHash\":\"5a72f106e63d15986b34838f6a652bf8b5395258e261c7fa9b5c11f7b1b9d888\",\"projectId\":\"e0fbb5bb-8929-439a-bad6-9e12d19d9ae4\"},\"public\":{\"activeArmCount\":12,\"armCount\":12,\"armOverrideCount\":3}},\"snapshotId\":\"930d717c-b1dc-4a9e-8d52-5c5c2e91abf5\",\"warnings\":[]}\n"
     ]
    }
   ],
   "source": [
    "# Load the protocol\n",
    "with open(protocol_file, \"r\") as f:\n",
    "    protocol = json.load(f)\n",
    "\n",
    "# Post the protocol\n",
    "# https://doc.jinko.ai/api/#/paths/core-v2-scenario_manager-protocol_design/post\n",
    "response = jinko.make_request(\n",
    "    path=\"/core/v2/scenario_manager/protocol_design\",\n",
    "    method=\"POST\",\n",
    "    json=protocol,\n",
    "    options={\n",
    "        \"name\": \"protocol for simple tumor model\",\n",
    "        \"folder_id\": folder_id,\n",
    "    },\n",
    ")\n",
    "\n",
    "project_item_info = jinko.get_project_item_info_from_response(response)\n",
    "protocol_core_item_id = project_item_info[\"coreItemId\"][\"id\"]\n",
    "protocol_snapshot_id = project_item_info[\"coreItemId\"][\"snapshotId\"]\n",
    "\n",
    "print(f\"Resource link: {jinko.get_project_item_url_from_response(response)}\")"
   ]
  },
  {
   "cell_type": "markdown",
   "id": "5394a9b6",
   "metadata": {},
   "source": [
    "# Step 5: Post a Data Table"
   ]
  },
  {
   "cell_type": "code",
   "execution_count": 10,
   "id": "69a3c62d",
   "metadata": {},
   "outputs": [
    {
     "name": "stdout",
     "output_type": "stream",
     "text": [
      "Resource link: https://jinko.ai/dt-FVlA-EzKY\n"
     ]
    },
    {
     "name": "stderr",
     "output_type": "stream",
     "text": [
      "201: {\"coreItemId\":\"be6d7299-8355-42f5-baa8-cffd99cdbe83\",\"metadata\":{\"internal\":{\"contentHash\":\"e88fb7928e8be37afbd83161d4d95538b8c9443eda3fb9228a916434841f49c2\",\"projectId\":\"e0fbb5bb-8929-439a-bad6-9e12d19d9ae4\"},\"public\":{\"initialColumnCount\":4,\"initialRowCount\":60,\"observableCount\":1,\"timePointCount\":5,\"validForFitnessFunction\":true,\"withMappingColumnCount\":4,\"withMappingRowCount\":60}},\"snapshotId\":\"214dafb2-b66e-416d-b276-0f8b55cff7c8\",\"warnings\":[]}\n"
     ]
    }
   ],
   "source": [
    "# the source data table is a CSV file, we convert it to SQLite and encode it in base64\n",
    "\n",
    "encoded_data_table = jinko.data_table_to_sqlite(data_table_file)\n",
    "\n",
    "# Step 3: Post the data table\n",
    "# https://doc.jinko.ai/api/#/paths/core-v2-data_table_manager-data_table/post\n",
    "response = jinko.make_request(\n",
    "    path=\"/core/v2/data_table_manager/data_table\",\n",
    "    method=\"POST\",\n",
    "    json={\n",
    "        \"mappings\": [],\n",
    "        \"rawData\": encoded_data_table,\n",
    "    },\n",
    "    options={\n",
    "        \"name\": \"data table for simple tumor model\",\n",
    "        \"folder_id\": folder_id,\n",
    "    },\n",
    ")\n",
    "\n",
    "project_item_info = jinko.get_project_item_info_from_response(response)\n",
    "data_table_core_item_id = project_item_info[\"coreItemId\"][\"id\"]\n",
    "data_table_snapshot_id = project_item_info[\"coreItemId\"][\"snapshotId\"]\n",
    "\n",
    "print(f\"Resource link: {jinko.get_project_item_url_from_response(response)}\")"
   ]
  },
  {
   "cell_type": "markdown",
   "id": "179fef2e",
   "metadata": {},
   "source": [
    "# Step 6: Post a Trial"
   ]
  },
  {
   "cell_type": "code",
   "execution_count": 11,
   "id": "dec630b2",
   "metadata": {},
   "outputs": [
    {
     "name": "stdout",
     "output_type": "stream",
     "text": [
      "Resource link: https://jinko.ai/tr-NgNl-W0TW\n"
     ]
    },
    {
     "name": "stderr",
     "output_type": "stream",
     "text": [
      "201: {\"coreItemId\":\"a0a81067-9093-49b0-9398-e2d3f7f3d0df\",\"metadata\":{\"internal\":{\"contentHash\":\"c834c7214f043fe82938a84d09ddb203ab733b852e9b7e924f4d12283b7dc556\",\"solveScoreVpopUuid\":null,\"status\":\"not_launched\"},\"public\":{\"armCount\":12,\"patientCount\":10}},\"snapshotId\":\"e9c95937-bf0e-4253-9eeb-dddaa5b1eb43\",\"warnings\":[]}\n"
     ]
    }
   ],
   "source": [
    "# https://doc.jinko.ai/api/#/paths/core-v2-trial_manager-trial/post\n",
    "\n",
    "# Define the data payload\n",
    "trial_data = {\n",
    "    \"computationalModelId\": {\n",
    "        \"coreItemId\": model_core_item_id,\n",
    "        \"snapshotId\": model_snapshot_id,\n",
    "    },\n",
    "    \"protocolDesignId\": {\n",
    "        \"coreItemId\": protocol_core_item_id,\n",
    "        \"snapshotId\": protocol_snapshot_id,\n",
    "    },\n",
    "    \"vpopId\": {\"coreItemId\": vpop_core_item_id, \"snapshotId\": vpop_snapshot_id},\n",
    "    \"dataTableDesigns\": [\n",
    "        {\n",
    "            \"dataTableId\": {\n",
    "                \"coreItemId\": data_table_core_item_id,\n",
    "                \"snapshotId\": data_table_snapshot_id,\n",
    "            },\n",
    "            \"options\": {\n",
    "                \"logTransformWideBounds\": [],\n",
    "                \"label\": \"data_table_simple_tumor\",\n",
    "            },\n",
    "            \"include\": True,\n",
    "        }\n",
    "    ],\n",
    "}\n",
    "\n",
    "response = jinko.make_request(\n",
    "    path=\"/core/v2/trial_manager/trial\",\n",
    "    method=\"POST\",\n",
    "    json=trial_data,\n",
    "    options={\n",
    "        \"name\": \"trial for simple tumor model\",\n",
    "        \"folder_id\": folder_id,\n",
    "    },\n",
    ")\n",
    "\n",
    "project_item_info = jinko.get_project_item_info_from_response(response)\n",
    "trial_core_item_id = project_item_info[\"coreItemId\"][\"id\"]\n",
    "trial_snapshot_id = project_item_info[\"coreItemId\"][\"snapshotId\"]\n",
    "\n",
    "print(f\"Resource link: {jinko.get_project_item_url_from_response(response)}\")"
   ]
  },
  {
   "cell_type": "markdown",
   "id": "df357702",
   "metadata": {},
   "source": [
    "# Step 7 : Run and monitor a trial\n"
   ]
  },
  {
   "cell_type": "markdown",
   "id": "2c80a258",
   "metadata": {},
   "source": [
    "### Run the trial"
   ]
  },
  {
   "cell_type": "code",
   "execution_count": 12,
   "id": "f1aed5e4",
   "metadata": {},
   "outputs": [
    {
     "name": "stderr",
     "output_type": "stream",
     "text": [
      "Query successfully done, got a 204 response\n"
     ]
    }
   ],
   "source": [
    "# https://doc.jinko.ai/api/#/paths/core-v2-trial_manager-trial-trialId--snapshots--trialIdSnapshot--run/post\n",
    "response = jinko.make_request(\n",
    "    path=f\"/core/v2/trial_manager/trial/{trial_core_item_id}/snapshots/{trial_snapshot_id}/run\",\n",
    "    method=\"POST\",\n",
    ")"
   ]
  },
  {
   "cell_type": "markdown",
   "id": "dbfad06c",
   "metadata": {},
   "source": [
    "### get trial status\n"
   ]
  },
  {
   "cell_type": "code",
   "execution_count": 13,
   "id": "94701668",
   "metadata": {},
   "outputs": [
    {
     "name": "stderr",
     "output_type": "stream",
     "text": [
      "Trial Progress: 100%|██████████| 120/120 [00:11<00:00, 10.46tasks/s]"
     ]
    },
    {
     "name": "stdout",
     "output_type": "stream",
     "text": [
      "Job succeeded.\n"
     ]
    },
    {
     "name": "stderr",
     "output_type": "stream",
     "text": [
      "\n"
     ]
    },
    {
     "data": {
      "text/html": [
       "<div>\n",
       "<style scoped>\n",
       "    .dataframe tbody tr th:only-of-type {\n",
       "        vertical-align: middle;\n",
       "    }\n",
       "\n",
       "    .dataframe tbody tr th {\n",
       "        vertical-align: top;\n",
       "    }\n",
       "\n",
       "    .dataframe thead th {\n",
       "        text-align: right;\n",
       "    }\n",
       "</style>\n",
       "<table border=\"1\" class=\"dataframe\">\n",
       "  <thead>\n",
       "    <tr style=\"text-align: right;\">\n",
       "      <th></th>\n",
       "      <th>Arm</th>\n",
       "      <th>countError</th>\n",
       "      <th>countPending</th>\n",
       "      <th>countSuccess</th>\n",
       "    </tr>\n",
       "  </thead>\n",
       "  <tbody>\n",
       "    <tr>\n",
       "      <th>0</th>\n",
       "      <td>iv-0.1-10</td>\n",
       "      <td>0</td>\n",
       "      <td>0</td>\n",
       "      <td>10</td>\n",
       "    </tr>\n",
       "    <tr>\n",
       "      <th>1</th>\n",
       "      <td>iv-0.1-30</td>\n",
       "      <td>0</td>\n",
       "      <td>0</td>\n",
       "      <td>10</td>\n",
       "    </tr>\n",
       "    <tr>\n",
       "      <th>2</th>\n",
       "      <td>iv-1-10</td>\n",
       "      <td>0</td>\n",
       "      <td>0</td>\n",
       "      <td>10</td>\n",
       "    </tr>\n",
       "    <tr>\n",
       "      <th>3</th>\n",
       "      <td>iv-1-30</td>\n",
       "      <td>0</td>\n",
       "      <td>0</td>\n",
       "      <td>10</td>\n",
       "    </tr>\n",
       "    <tr>\n",
       "      <th>4</th>\n",
       "      <td>iv-5-10</td>\n",
       "      <td>0</td>\n",
       "      <td>0</td>\n",
       "      <td>10</td>\n",
       "    </tr>\n",
       "    <tr>\n",
       "      <th>5</th>\n",
       "      <td>iv-5-30</td>\n",
       "      <td>0</td>\n",
       "      <td>0</td>\n",
       "      <td>10</td>\n",
       "    </tr>\n",
       "    <tr>\n",
       "      <th>6</th>\n",
       "      <td>sc-0.1-10</td>\n",
       "      <td>0</td>\n",
       "      <td>0</td>\n",
       "      <td>10</td>\n",
       "    </tr>\n",
       "    <tr>\n",
       "      <th>7</th>\n",
       "      <td>sc-0.1-30</td>\n",
       "      <td>0</td>\n",
       "      <td>0</td>\n",
       "      <td>10</td>\n",
       "    </tr>\n",
       "    <tr>\n",
       "      <th>8</th>\n",
       "      <td>sc-1-10</td>\n",
       "      <td>0</td>\n",
       "      <td>0</td>\n",
       "      <td>10</td>\n",
       "    </tr>\n",
       "    <tr>\n",
       "      <th>9</th>\n",
       "      <td>sc-1-30</td>\n",
       "      <td>0</td>\n",
       "      <td>0</td>\n",
       "      <td>10</td>\n",
       "    </tr>\n",
       "    <tr>\n",
       "      <th>10</th>\n",
       "      <td>sc-5-10</td>\n",
       "      <td>0</td>\n",
       "      <td>0</td>\n",
       "      <td>10</td>\n",
       "    </tr>\n",
       "    <tr>\n",
       "      <th>11</th>\n",
       "      <td>sc-5-30</td>\n",
       "      <td>0</td>\n",
       "      <td>0</td>\n",
       "      <td>10</td>\n",
       "    </tr>\n",
       "  </tbody>\n",
       "</table>\n",
       "</div>"
      ],
      "text/plain": [
       "          Arm  countError  countPending  countSuccess\n",
       "0   iv-0.1-10           0             0            10\n",
       "1   iv-0.1-30           0             0            10\n",
       "2     iv-1-10           0             0            10\n",
       "3     iv-1-30           0             0            10\n",
       "4     iv-5-10           0             0            10\n",
       "5     iv-5-30           0             0            10\n",
       "6   sc-0.1-10           0             0            10\n",
       "7   sc-0.1-30           0             0            10\n",
       "8     sc-1-10           0             0            10\n",
       "9     sc-1-30           0             0            10\n",
       "10    sc-5-10           0             0            10\n",
       "11    sc-5-30           0             0            10"
      ]
     },
     "execution_count": 13,
     "metadata": {},
     "output_type": "execute_result"
    }
   ],
   "source": [
    "jinko.monitor_trial_until_completion(trial_core_item_id, trial_snapshot_id)"
   ]
  },
  {
   "cell_type": "markdown",
   "id": "e5830ed8",
   "metadata": {},
   "source": [
    "# Step 8 : Visualize the trial results "
   ]
  },
  {
   "cell_type": "code",
   "execution_count": 14,
   "id": "a53c5379",
   "metadata": {},
   "outputs": [
    {
     "name": "stdout",
     "output_type": "stream",
     "text": [
      "Available time series:\n",
      " [{'displayName': None, 'id': 'Time'}, {'displayName': 'Memory usage', 'id': '__jinkoAllocationMiB'}, {'displayName': 'Solver re-initialisation count', 'id': '__jinkoNumReInit'}, {'displayName': 'Solver steps count', 'id': '__jinkoNumSteps'}, {'displayName': 'Rhs function calls', 'id': '__jinkoRhsCalls'}, {'displayName': 'Root function calls', 'id': '__jinkoRootFunctionCalls'}, {'displayName': 'Solving time', 'id': '__jinkoSolvingTime'}, {'displayName': None, 'id': 'tumorBurden'}] \n",
      "\n"
     ]
    }
   ],
   "source": [
    "# Retrieve time series ids (https://doc.jinko.ai/api/#/paths/core-v2-trial_manager-trial-trialId--snapshots--trialIdSnapshot--output_ids/get)\n",
    "\n",
    "response = jinko.make_request(\n",
    "    \"/core/v2/trial_manager/trial/%s/snapshots/%s/output_ids\"\n",
    "    % (trial_core_item_id, trial_snapshot_id),\n",
    "    method=\"GET\",\n",
    ")\n",
    "responseSummary = json.loads(response.content.decode(\"utf-8\"))\n",
    "print(\"Available time series:\\n\", responseSummary, \"\\n\")"
   ]
  },
  {
   "cell_type": "code",
   "execution_count": 15,
   "id": "ba414fe2",
   "metadata": {},
   "outputs": [
    {
     "name": "stdout",
     "output_type": "stream",
     "text": [
      "Retrieving time series data...\n",
      "Time series data retrieved successfully.\n",
      "Extracted time series file: timeseries-f3230453-4da7-5169-b5a2-95f55a81a358.csv\n"
     ]
    }
   ],
   "source": [
    "# Retrieve time series (https://doc.jinko.ai/api/#/paths/core-v2-result_manager-timeseries_summary/post)\n",
    "\n",
    "# replace here by the time series ids list you want\n",
    "idsForTimeSeries = [\"tumorBurden\"]\n",
    "\n",
    "try:\n",
    "    print(\"Retrieving time series data...\")\n",
    "    response = jinko.make_request(\n",
    "        \"/core/v2/result_manager/timeseries_summary\",\n",
    "        method=\"POST\",\n",
    "        json={\n",
    "            \"select\": idsForTimeSeries,\n",
    "            \"trialId\": {\n",
    "                \"coreItemId\": trial_core_item_id,\n",
    "                \"snapshotId\": trial_snapshot_id,\n",
    "            },\n",
    "        },\n",
    "    )\n",
    "    if response.status_code == 200:\n",
    "        print(\"Time series data retrieved successfully.\")\n",
    "        archive = zipfile.ZipFile(io.BytesIO(response.content))\n",
    "        filename = archive.namelist()[0]\n",
    "        print(f\"Extracted time series file: {filename}\")\n",
    "        csvTimeSeries = archive.read(filename).decode(\"utf-8\")\n",
    "    else:\n",
    "        print(\n",
    "            f\"Failed to retrieve time series data: {response.status_code} - {response.reason}\"\n",
    "        )\n",
    "        response.raise_for_status()\n",
    "except Exception as e:\n",
    "    print(f\"Error during time series retrieval or processing: {e}\")\n",
    "    raise"
   ]
  },
  {
   "cell_type": "code",
   "execution_count": 16,
   "id": "413fda57",
   "metadata": {},
   "outputs": [
    {
     "data": {
      "text/html": [
       "<div>\n",
       "<style scoped>\n",
       "    .dataframe tbody tr th:only-of-type {\n",
       "        vertical-align: middle;\n",
       "    }\n",
       "\n",
       "    .dataframe tbody tr th {\n",
       "        vertical-align: top;\n",
       "    }\n",
       "\n",
       "    .dataframe thead th {\n",
       "        text-align: right;\n",
       "    }\n",
       "</style>\n",
       "<table border=\"1\" class=\"dataframe\">\n",
       "  <thead>\n",
       "    <tr style=\"text-align: right;\">\n",
       "      <th></th>\n",
       "      <th>Patient Id</th>\n",
       "      <th>Arm</th>\n",
       "      <th>Descriptor</th>\n",
       "      <th>Time</th>\n",
       "      <th>Value</th>\n",
       "    </tr>\n",
       "  </thead>\n",
       "  <tbody>\n",
       "    <tr>\n",
       "      <th>0</th>\n",
       "      <td>0a33e347-c3d0-efc2-c11b-d546c92c7f26</td>\n",
       "      <td>iv-0.1-10</td>\n",
       "      <td>tumorBurden</td>\n",
       "      <td>0.0</td>\n",
       "      <td>45.701616</td>\n",
       "    </tr>\n",
       "    <tr>\n",
       "      <th>1</th>\n",
       "      <td>0a33e347-c3d0-efc2-c11b-d546c92c7f26</td>\n",
       "      <td>iv-0.1-10</td>\n",
       "      <td>tumorBurden</td>\n",
       "      <td>21600.0</td>\n",
       "      <td>45.709608</td>\n",
       "    </tr>\n",
       "    <tr>\n",
       "      <th>2</th>\n",
       "      <td>0a33e347-c3d0-efc2-c11b-d546c92c7f26</td>\n",
       "      <td>iv-0.1-10</td>\n",
       "      <td>tumorBurden</td>\n",
       "      <td>43200.0</td>\n",
       "      <td>45.720472</td>\n",
       "    </tr>\n",
       "    <tr>\n",
       "      <th>3</th>\n",
       "      <td>0a33e347-c3d0-efc2-c11b-d546c92c7f26</td>\n",
       "      <td>iv-0.1-10</td>\n",
       "      <td>tumorBurden</td>\n",
       "      <td>64800.0</td>\n",
       "      <td>45.732555</td>\n",
       "    </tr>\n",
       "    <tr>\n",
       "      <th>4</th>\n",
       "      <td>0a33e347-c3d0-efc2-c11b-d546c92c7f26</td>\n",
       "      <td>iv-0.1-10</td>\n",
       "      <td>tumorBurden</td>\n",
       "      <td>86400.0</td>\n",
       "      <td>45.744879</td>\n",
       "    </tr>\n",
       "  </tbody>\n",
       "</table>\n",
       "</div>"
      ],
      "text/plain": [
       "                             Patient Id        Arm   Descriptor     Time  \\\n",
       "0  0a33e347-c3d0-efc2-c11b-d546c92c7f26  iv-0.1-10  tumorBurden      0.0   \n",
       "1  0a33e347-c3d0-efc2-c11b-d546c92c7f26  iv-0.1-10  tumorBurden  21600.0   \n",
       "2  0a33e347-c3d0-efc2-c11b-d546c92c7f26  iv-0.1-10  tumorBurden  43200.0   \n",
       "3  0a33e347-c3d0-efc2-c11b-d546c92c7f26  iv-0.1-10  tumorBurden  64800.0   \n",
       "4  0a33e347-c3d0-efc2-c11b-d546c92c7f26  iv-0.1-10  tumorBurden  86400.0   \n",
       "\n",
       "       Value  \n",
       "0  45.701616  \n",
       "1  45.709608  \n",
       "2  45.720472  \n",
       "3  45.732555  \n",
       "4  45.744879  "
      ]
     },
     "metadata": {},
     "output_type": "display_data"
    },
    {
     "name": "stdout",
     "output_type": "stream",
     "text": [
      "['0a33e347-c3d0-efc2-c11b-d546c92c7f26', '1a94e14a-ce73-5a5b-72e3-e7eb3b89ae95', '1dcf0a0a-27ee-6783-2434-d5fa813d8981', '21411afc-7e38-8a80-8cb0-6e7bcfc0f524', '46408c20-c0d8-55c2-a620-8ac6019b6d4a', '51ce2695-a89b-05a0-b361-52cc94dcbcda', '75e959fc-9601-c1ca-138d-eb8b78fb9c0e', '82e3f080-7207-03db-ab7e-4b0b07df2f30', 'd962ed3c-98dc-7da3-34dc-0769e64061ff', 'e2a1d7a3-8c3f-227a-d431-5c85a0b87bf6']\n"
     ]
    }
   ],
   "source": [
    "dfTimeSeries = pd.read_csv(io.StringIO(csvTimeSeries))\n",
    "display(dfTimeSeries.head(5))\n",
    "\n",
    "# Extract unique patient IDs\n",
    "unique_patient_ids = dfTimeSeries[\"Patient Id\"].unique().tolist()\n",
    "\n",
    "# Display unique patient IDs\n",
    "print(unique_patient_ids)"
   ]
  },
  {
   "cell_type": "code",
   "execution_count": 17,
   "id": "e6ec21de",
   "metadata": {},
   "outputs": [
    {
     "name": "stdout",
     "output_type": "stream",
     "text": [
      "Defaulting to user installation because normal site-packages is not writeable\n",
      "Requirement already satisfied: nbformat in /home/ubuntu/.local/lib/python3.10/site-packages (5.10.4)\n",
      "Requirement already satisfied: fastjsonschema>=2.15 in /home/ubuntu/.local/lib/python3.10/site-packages (from nbformat) (2.21.2)\n",
      "Requirement already satisfied: jsonschema>=2.6 in /home/ubuntu/.local/lib/python3.10/site-packages (from nbformat) (4.25.1)\n",
      "Requirement already satisfied: jupyter-core!=5.0.*,>=4.12 in /home/ubuntu/.local/lib/python3.10/site-packages (from nbformat) (5.8.1)\n",
      "Requirement already satisfied: traitlets>=5.1 in /home/ubuntu/.local/lib/python3.10/site-packages (from nbformat) (5.14.3)\n",
      "Requirement already satisfied: attrs>=22.2.0 in /home/ubuntu/.local/lib/python3.10/site-packages (from jsonschema>=2.6->nbformat) (25.3.0)\n",
      "Requirement already satisfied: jsonschema-specifications>=2023.03.6 in /home/ubuntu/.local/lib/python3.10/site-packages (from jsonschema>=2.6->nbformat) (2025.4.1)\n",
      "Requirement already satisfied: referencing>=0.28.4 in /home/ubuntu/.local/lib/python3.10/site-packages (from jsonschema>=2.6->nbformat) (0.36.2)\n",
      "Requirement already satisfied: rpds-py>=0.7.1 in /home/ubuntu/.local/lib/python3.10/site-packages (from jsonschema>=2.6->nbformat) (0.27.1)\n",
      "Requirement already satisfied: platformdirs>=2.5 in /home/ubuntu/.local/lib/python3.10/site-packages (from jupyter-core!=5.0.*,>=4.12->nbformat) (4.4.0)\n",
      "Requirement already satisfied: typing-extensions>=4.4.0 in /home/ubuntu/.local/lib/python3.10/site-packages (from referencing>=0.28.4->jsonschema>=2.6->nbformat) (4.15.0)\n",
      "\n",
      "\u001b[1m[\u001b[0m\u001b[34;49mnotice\u001b[0m\u001b[1;39;49m]\u001b[0m\u001b[39;49m A new release of pip is available: \u001b[0m\u001b[31;49m24.2\u001b[0m\u001b[39;49m -> \u001b[0m\u001b[32;49m25.2\u001b[0m\n",
      "\u001b[1m[\u001b[0m\u001b[34;49mnotice\u001b[0m\u001b[1;39;49m]\u001b[0m\u001b[39;49m To update, run: \u001b[0m\u001b[32;49mpip install --upgrade pip\u001b[0m\n",
      "Note: you may need to restart the kernel to use updated packages.\n"
     ]
    },
    {
     "data": {
      "application/vnd.plotly.v1+json": {
       "config": {
        "plotlyServerURL": "https://plot.ly"
       },
       "data": [
        {
         "hovertemplate": "Arm=iv-0.1-10<br>Time (seconds)=%{x}<br>Tumor Burden Value=%{y}<extra></extra>",
         "legendgroup": "iv-0.1-10",
         "line": {
          "color": "#636efa",
          "dash": "solid"
         },
         "marker": {
          "symbol": "circle"
         },
         "mode": "lines+markers",
         "name": "iv-0.1-10",
         "showlegend": true,
         "type": "scattergl",
         "x": {
          "bdata": "AAAAAAAAAAAAAAAAABjVQAAAAAAAGOVAAAAAAACk70AAAAAAABj1QAAAAAAAXvpAAAAAAACk/0AAAAAAAHUCQQAAAAAAGAVBAAAAAAC7B0EAAAAAAF4KQQAAAAAAAQ1BAAAAAACkD0EAAAAAgCMRQQAAAAAAdRJBAAAAAIDGE0EAAAAAABgVQQAAAACAaRZBAAAAAAC7F0EAAAAAgAwZQQAAAAAAXhpBAAAAAICvG0EAAAAAAAEdQQAAAACAUh5BAAAAAACkH0EAAAAAwHogQQAAAACAIyFBAAAAAEDMIUEAAAAAAHUiQQAAAADAHSNBAAAAAIDGI0EAAAAAQG8kQQAAAAAAGCVBAAAAAMDAJUEAAAAAgGkmQQAAAABAEidBAAAAAAC7J0EAAAAAwGMoQQAAAACADClBAAAAAEC1KUEAAAAAAF4qQQAAAADABitBAAAAAICvK0EAAAAAQFgsQQAAAAAAAS1BAAAAAMCpLUEAAAAAgFIuQQAAAABA+y5BAAAAAACkL0EAAAAAYCYwQQAAAADAejBBAAAAACDPMEEAAAAAgCMxQQAAAADgdzFBAAAAAEDMMUEAAAAAoCAyQQAAAAAAdTJBAAAAAGDJMkEAAAAAwB0zQQAAAAAgcjNBAAAAAIDGM0EAAAAA4Bo0QQAAAABAbzRBAAAAAKDDNEEAAAAAABg1QQAAAABgbDVBAAAAAMDANUEAAAAAIBU2QQAAAACAaTZBAAAAAOC9NkEAAAAAQBI3QQAAAACgZjdBAAAAAAC7N0EAAAAAYA84QQAAAADAYzhBAAAAACC4OEEAAAAAgAw5QQAAAADgYDlBAAAAAEC1OUEAAAAAoAk6QQAAAAAAXjpBAAAAAGCyOkEAAAAAwAY7QQAAAAAgWztBAAAAAICvO0EAAAAA4AM8QQAAAABAWDxBAAAAAKCsPEEAAAAAAAE9QQAAAABgVT1BAAAAAMCpPUEAAAAAIP49QQAAAACAUj5BAAAAAOCmPkEAAAAAQPs+QQAAAACgTz9BAAAAAACkP0EAAAAAYPg/QQAAAABgJkBBAAAAAJBQQEEAAAAAwHpAQQAAAADwpEBBAAAAACDPQEEAAAAAUPlAQQAAAACAI0FBAAAAALBNQUEAAAAA4HdBQQAAAAAQokFBAAAAAEDMQUEAAAAAcPZBQQAAAACgIEJBAAAAANBKQkEAAAAAAHVCQQAAAAAwn0JBAAAAAGDJQkEAAAAAkPNCQQAAAADAHUNBAAAAAPBHQ0EAAAAAIHJDQQAAAABQnENBAAAAAIDGQ0EAAAAAsPBDQQAAAABUEERB",
          "dtype": "f8"
         },
         "xaxis": "x",
         "y": {
          "bdata": "o1o9i87ZRkBrPRtt1NpGQHWpGW843EZAUu8sWsTdRkDX3+EyWN9GQEwZRbXu4EZA5zIFaoriRkCl9H0rKeRGQPQSi+jK5UZAQ1ff/G7nRkBgidhsFOlGQP0IUCW76kZAYfgf7WLsRkAeZFmZC+5GQMliGMy070ZAWY0MYF7xRkCHijpnCPNGQNiMmKyy9EZABQsuMV32RkDurWX4B/hGQPbeTOyy+UZA7l25Cl77RkBIR8FGCf1GQBZakJa0/kZAhmsz8F8AR0Bo4D5xCwJHQDdXNAy3A0dAye63wGIFR0AgvyqRDgdHQIiB9doeokZAqeJ53sRQRkByD79Q2RZGQOouKk/N6UVANVMRzbjERUA/w8Dl1aVFQEm2zCdEjEVA5PqgBU53RUDSkmeVTGZFQF9VaBalWEVAnTK1y8tNRUALnKfMRUVFQAoGZJqpPkVA2cxKOZ45RUD3ElRz2TVFQLAkKe0dM0VAIFLVMTkxRUBxg4D1ATBFQHl3GpJWL0VAJivVuhsvRUB87fxcOy9FQOnGZKqjL0VAtty3S0YwRUD5wGS3FzFFQEYQ7acOMkVA25L0qyMzRUAyEofMUDRFQCvDylmRNUVAolxOJODZRECSwXWa7pFEQEbXRiKRX0RAusdb8Zw4REDQAk9qphhEQH3lttgh/kNAwzK+XTzoQ0D9tVEkWtZDQHYoLwjmx0NAnQgomFa8Q0CR4aZ8MLNDQOoZUnMIrENA+SMAzoKmQ0DAErywUqJDQC6mgu04n0NA5Xuo4gGdQ0DKbEd5gptDQLrRTG2XmkNARahm0COaQ0DvKIcwEJpDQEzQrpdJmkNAOvNt+8CaQ0B/NXc7aptDQKaqgq07nENAiW50oy2dQ0CCzKwJOZ5DQKAJOSFZn0NAaEEBr4mgQ0B8UkQ+MU1DQH5GyHuyDUNAW/yhdwviQkBg9PehlcBCQI70FsRFpUJAveHBXraOQkDF8kS1LnxCQNqpI0cWbUJAzeHFoe5gQkBWkVyzP1dCQDRBmsWeT0JAXtHC/a9JQkDK+DyOJUVCQMOKB3m9QUJAR8QxakE/QkCA+2CrhD1CQOzjg9RiPEJAG0j7OL47QkCzAoJmfjtCQCZizZWPO0JAPunI4+E7QkAKAOaGaDxCQII1Vx0ZPUJATEhBPOs9QkBhJ8BS2D5CQHcz+q3aP0JAEP9Dre5AQkDGa8w3EUJCQNfY4tH19UFAlWT8mI+9QUB5tQXJhJdBQInA7cKRekFA2S0WrgtjQUArQCWTr09BQOt2+VvXP0FAcQzU4/8yQUDo2TrRsihBQG17E+BjIkFA",
          "dtype": "f8"
         },
         "yaxis": "y"
        },
        {
         "hovertemplate": "Arm=iv-0.1-30<br>Time (seconds)=%{x}<br>Tumor Burden Value=%{y}<extra></extra>",
         "legendgroup": "iv-0.1-30",
         "line": {
          "color": "#EF553B",
          "dash": "solid"
         },
         "marker": {
          "symbol": "circle"
         },
         "mode": "lines+markers",
         "name": "iv-0.1-30",
         "showlegend": true,
         "type": "scattergl",
         "x": {
          "bdata": "AAAAAAAAAAAAAAAAABjVQAAAAAAAGOVAAAAAAACk70AAAAAAABj1QAAAAAAAXvpAAAAAAACk/0AAAAAAAHUCQQAAAAAAGAVBAAAAAAC7B0EAAAAAAF4KQQAAAAAAAQ1BAAAAAACkD0EAAAAAgCMRQQAAAAAAdRJBAAAAAIDGE0EAAAAAABgVQQAAAACAaRZBAAAAAAC7F0EAAAAAgAwZQQAAAAAAXhpBAAAAAICvG0EAAAAAAAEdQQAAAACAUh5BAAAAAACkH0EAAAAAwHogQQAAAACAIyFBAAAAAEDMIUEAAAAAAHUiQQAAAADAHSNBAAAAAIDGI0EAAAAAQG8kQQAAAAAAGCVBAAAAAMDAJUEAAAAAgGkmQQAAAABAEidBAAAAAAC7J0EAAAAAwGMoQQAAAACADClBAAAAAEC1KUEAAAAAAF4qQQAAAADABitBAAAAAICvK0EAAAAAQFgsQQAAAAAAAS1BAAAAAMCpLUEAAAAAgFIuQQAAAABA+y5BAAAAAACkL0EAAAAAYCYwQQAAAADAejBBAAAAACDPMEEAAAAAgCMxQQAAAADgdzFBAAAAAEDMMUEAAAAAoCAyQQAAAAAAdTJBAAAAAGDJMkEAAAAAwB0zQQAAAAAgcjNBAAAAAIDGM0EAAAAA4Bo0QQAAAABAbzRBAAAAAKDDNEEAAAAAABg1QQAAAABgbDVBAAAAAMDANUEAAAAAIBU2QQAAAACAaTZBAAAAAOC9NkEAAAAAQBI3QQAAAACgZjdBAAAAAAC7N0EAAAAAYA84QQAAAADAYzhBAAAAACC4OEEAAAAAgAw5QQAAAADgYDlBAAAAAEC1OUEAAAAAoAk6QQAAAAAAXjpBAAAAAGCyOkEAAAAAwAY7QQAAAAAgWztBAAAAAICvO0EAAAAA4AM8QQAAAABAWDxBAAAAAKCsPEEAAAAAAAE9QQAAAABgVT1BAAAAAMCpPUEAAAAAIP49QQAAAACAUj5BAAAAAOCmPkEAAAAAQPs+QQAAAACgTz9BAAAAAACkP0EAAAAAYPg/QQAAAABgJkBBAAAAAJBQQEEAAAAAwHpAQQAAAADwpEBBAAAAACDPQEEAAAAAUPlAQQAAAACAI0FBAAAAALBNQUEAAAAA4HdBQQAAAAAQokFBAAAAAEDMQUEAAAAAcPZBQQAAAACgIEJBAAAAANBKQkEAAAAAAHVCQQAAAAAwn0JBAAAAAGDJQkEAAAAAkPNCQQAAAADAHUNBAAAAAPBHQ0EAAAAAIHJDQQAAAABQnENBAAAAAIDGQ0EAAAAAsPBDQQAAAABUEERB",
          "dtype": "f8"
         },
         "xaxis": "x",
         "y": {
          "bdata": "o1o9i87ZRkBrPRtt1NpGQHWpGW843EZAUu8sWsTdRkDX3+EyWN9GQEwZRbXu4EZA5zIFaoriRkCl9H0rKeRGQPQSi+jK5UZAQ1ff/G7nRkBgidhsFOlGQP0IUCW76kZAYfgf7WLsRkAeZFmZC+5GQMliGMy070ZAWY0MYF7xRkCHijpnCPNGQNiMmKyy9EZABQsuMV32RkDurWX4B/hGQPbeTOyy+UZA7l25Cl77RkBIR8FGCf1GQBZakJa0/kZAhmsz8F8AR0Bo4D5xCwJHQDdXNAy3A0dAye63wGIFR0AgvyqRDgdHQJf9mvNBkEZA3voRJpIgRkD7JadNOb1FQNcoeALXY0VAVXetd48SRUAwKd6s38hEQJEs1PPBhkRAjRnsGy9MRECavtHC9RhEQCeWOjq/7ENAjXLkgBDHQ0BDPlJTUadDQD/R+brcjENAOdifsAl3Q0BjcFM7OWVDQE7nEKnPVkNAn/nCqERLQ0DItrATIEJDQEDWoGH2OkNAGAW6anA1Q0D2l4x6PDFDQHZWP6gjLkNAljjY1eorQ0CM5Mb6ZypDQBBTgwR4KUNAGr378v4oQ0CC0AGN5ShDQIRyHnsZKUNApW2PzyDHQkBDilav2mxCQAvn5ilSHkJAD3CubrDYQUANJRwaGppBQD2UXKoBYkFAO9kJ90MwQUAZiRkZuQRBQKSr/VMS30BAasrpyO2+QEDp93Sm1KNAQCnvh8U5jUBAFQTCcIp6QEBN1HO8PWtAQMtfuUjmXkBAvRuLp/tUQEBBIkxQEU1AQDH+z1rkRkBAYlZJFSFCQEAnQQXLfT5AQANfPV3NO0BAIbAE1t05QEDoumqoiDhAQChmaG+2N0BAf7iw2EE3QEDYQnaSLDdAQCww3jBXN0BAhCN2LrE3QEDwiM+Vacs/QGMYFjzqNz9AOZVRprG6PkBJHhoziE0+QCR7+iap7D1AB/7G09iWPUBWoFuGo0s9QJCLBqmJCj1AHeYLbejSPEBpqbT/66M8QCIivjSvfDxA2vYJDT5cPEB6FZSvuEE8QLqiThg6LDxAvYshsfAaPEBsmaxaOw08QIcUm7JqAjxAatE3LBb6O0D+DKl8vvM7QCjWB3oA7ztAzC1cZpbrO0A9qO5VP+k7QMD4o8bF5ztA6j890f/mO0CQVrI6yuY7QJ09a9II5ztAQ5b0hqXnO0DPusasjeg7QDvlL4QoXTtACP7YOAfjOkAGNc06/n06QOH3MhJdJzpAliAGxGPbOUDnAIA+0Jg5QGIHZ1cVXzlA5IYNeqItOUDtk8bexgM5QMHj+Snp6DhA",
          "dtype": "f8"
         },
         "yaxis": "y"
        },
        {
         "hovertemplate": "Arm=iv-1-10<br>Time (seconds)=%{x}<br>Tumor Burden Value=%{y}<extra></extra>",
         "legendgroup": "iv-1-10",
         "line": {
          "color": "#00cc96",
          "dash": "solid"
         },
         "marker": {
          "symbol": "circle"
         },
         "mode": "lines+markers",
         "name": "iv-1-10",
         "showlegend": true,
         "type": "scattergl",
         "x": {
          "bdata": "AAAAAAAAAAAAAAAAABjVQAAAAAAAGOVAAAAAAACk70AAAAAAABj1QAAAAAAAXvpAAAAAAACk/0AAAAAAAHUCQQAAAAAAGAVBAAAAAAC7B0EAAAAAAF4KQQAAAAAAAQ1BAAAAAACkD0EAAAAAgCMRQQAAAAAAdRJBAAAAAIDGE0EAAAAAABgVQQAAAACAaRZBAAAAAAC7F0EAAAAAgAwZQQAAAAAAXhpBAAAAAICvG0EAAAAAAAEdQQAAAACAUh5BAAAAAACkH0EAAAAAwHogQQAAAACAIyFBAAAAAEDMIUEAAAAAAHUiQQAAAADAHSNBAAAAAIDGI0EAAAAAQG8kQQAAAAAAGCVBAAAAAMDAJUEAAAAAgGkmQQAAAABAEidBAAAAAAC7J0EAAAAAwGMoQQAAAACADClBAAAAAEC1KUEAAAAAAF4qQQAAAADABitBAAAAAICvK0EAAAAAQFgsQQAAAAAAAS1BAAAAAMCpLUEAAAAAgFIuQQAAAABA+y5BAAAAAACkL0EAAAAAYCYwQQAAAADAejBBAAAAACDPMEEAAAAAgCMxQQAAAADgdzFBAAAAAEDMMUEAAAAAoCAyQQAAAAAAdTJBAAAAAGDJMkEAAAAAwB0zQQAAAAAgcjNBAAAAAIDGM0EAAAAA4Bo0QQAAAABAbzRBAAAAAKDDNEEAAAAAABg1QQAAAABgbDVBAAAAAMDANUEAAAAAIBU2QQAAAACAaTZBAAAAAOC9NkEAAAAAQBI3QQAAAACgZjdBAAAAAAC7N0EAAAAAYA84QQAAAADAYzhBAAAAACC4OEEAAAAAgAw5QQAAAADgYDlBAAAAAEC1OUEAAAAAoAk6QQAAAAAAXjpBAAAAAGCyOkEAAAAAwAY7QQAAAAAgWztBAAAAAICvO0EAAAAA4AM8QQAAAABAWDxBAAAAAKCsPEEAAAAAAAE9QQAAAABgVT1BAAAAAMCpPUEAAAAAIP49QQAAAACAUj5BAAAAAOCmPkEAAAAAQPs+QQAAAACgTz9BAAAAAACkP0EAAAAAYPg/QQAAAABgJkBBAAAAAJBQQEEAAAAAwHpAQQAAAADwpEBBAAAAACDPQEEAAAAAUPlAQQAAAACAI0FBAAAAALBNQUEAAAAA4HdBQQAAAAAQokFBAAAAAEDMQUEAAAAAcPZBQQAAAACgIEJBAAAAANBKQkEAAAAAAHVCQQAAAAAwn0JBAAAAAGDJQkEAAAAAkPNCQQAAAADAHUNBAAAAAPBHQ0EAAAAAIHJDQQAAAABQnENBAAAAAIDGQ0EAAAAAsPBDQQAAAABUEERB",
          "dtype": "f8"
         },
         "xaxis": "x",
         "y": {
          "bdata": "o1o9i87ZRkDxM4R8gspGQCPJJFNPxEZAlx596jXCRkB8Pc6LVsFGQODSKCILwUZA1ZmjQSXBRkDfv9hhjsFGQHTfOgk2wkZA6AN0SxDDRkC1kdBUFMRGQLEuAPM5xUZAM8K4knrGRkAL2Z8P0MdGQCtFZMw1yUZAskLrVanKRkC9tGN9J8xGQNS6ITSuzUZAZ4UacDvPRkDO6B4+ztBGQJ25VI9l0kZA/oIsXgDURkARM+EnntVGQC9Ixz8+10ZALwscR+DYRkAgXxzdg9pGQBd/dp0o3EZAK9WUNc7dRkCFk0SsdN9GQJK8hAlMe0ZAX2Qv97oqRkCZLox9evFFQM0WtHT3xEVAJrW4N1SgRUDNTmAq0oFFQIQlNCGTaEVAw32j3eFTRUDXLWhUF0NFQGLU1xKcNUVAuQQEsOQqRUBkNo55dyJFQA5x2nLrG0VAfU1HsOsWRUD7XSKnMxNFQCpYMzqFEEVAqqDaoakORUD2kS1Xdg1FQGUhNELNDEVA+uIJaJIMRUDshe+irwxFQK0wedMVDUVAWBaENrUNRUC1e97nhQ5FQBAGzuF/D0VAR0MDtJgQRUD12nnPxxFFQCowEGsIE0VAuKkwWw24REBUswjp1XBEQGUEzJwPP0RAiysKYpUYREDzY+6TCPlDQFliNd/g3kNAufibnE/JQ0Cq/xH/rLdDQLCCwC5qqUNAEsepvgKeQ0B7sZye/ZRDQHediQHwjUNAys9vY3+IQ0CtYoimYIRDQNBBOvtTgUNATkGShCZ/Q0C0IqVvrX1DQNmxiuTFfENApZnMaFV8Q0AQ1GroQ3xDQJt+piOAfENAMClNVfl8Q0C0c7DNo31DQLZReHt2fkNA9l+qN2h/Q0DnMYIbc4BDQMkP9yCSgUNAO0gtVsGCQ0BBo5dnBjBDQJrrUdAk8UJAjI0SPvrFQkDRC8dM6aRCQJGZp3XuiUJAmkn8Q6dzQkC3DILWXGFCQI0dBPp2UkJA0dZfzXhGQkB/7Bvg6zxCQFpYAqdmNUJATntdLY4vQkB3piN9FStCQF8vsIO7J0JA6KqSakolQkCBaVUyliNCQDFwYsx6IkJADxG4CdshQkA7akrEniFCQLN84nKyIUJA053+ZQYiQkDOjgr9jSJCQNlXIgg/I0JAYkj+HxEkQkDEGIr//SRCQMRCl7r/JUJAQsn74xInQkBI4RUiNChCQM84uIyh3EFAj8IGtsCkQUCnuKVMHn9BQL6elPd8YkFA+0IZ2D1LQUBjdCWhHThBQFGJoWt4KEFA9HThMMgbQUBNMgv/nBFBQCtUVH9iC0FA",
          "dtype": "f8"
         },
         "yaxis": "y"
        },
        {
         "hovertemplate": "Arm=iv-1-30<br>Time (seconds)=%{x}<br>Tumor Burden Value=%{y}<extra></extra>",
         "legendgroup": "iv-1-30",
         "line": {
          "color": "#ab63fa",
          "dash": "solid"
         },
         "marker": {
          "symbol": "circle"
         },
         "mode": "lines+markers",
         "name": "iv-1-30",
         "showlegend": true,
         "type": "scattergl",
         "x": {
          "bdata": "AAAAAAAAAAAAAAAAABjVQAAAAAAAGOVAAAAAAACk70AAAAAAABj1QAAAAAAAXvpAAAAAAACk/0AAAAAAAHUCQQAAAAAAGAVBAAAAAAC7B0EAAAAAAF4KQQAAAAAAAQ1BAAAAAACkD0EAAAAAgCMRQQAAAAAAdRJBAAAAAIDGE0EAAAAAABgVQQAAAACAaRZBAAAAAAC7F0EAAAAAgAwZQQAAAAAAXhpBAAAAAICvG0EAAAAAAAEdQQAAAACAUh5BAAAAAACkH0EAAAAAwHogQQAAAACAIyFBAAAAAEDMIUEAAAAAAHUiQQAAAADAHSNBAAAAAIDGI0EAAAAAQG8kQQAAAAAAGCVBAAAAAMDAJUEAAAAAgGkmQQAAAABAEidBAAAAAAC7J0EAAAAAwGMoQQAAAACADClBAAAAAEC1KUEAAAAAAF4qQQAAAADABitBAAAAAICvK0EAAAAAQFgsQQAAAAAAAS1BAAAAAMCpLUEAAAAAgFIuQQAAAABA+y5BAAAAAACkL0EAAAAAYCYwQQAAAADAejBBAAAAACDPMEEAAAAAgCMxQQAAAADgdzFBAAAAAEDMMUEAAAAAoCAyQQAAAAAAdTJBAAAAAGDJMkEAAAAAwB0zQQAAAAAgcjNBAAAAAIDGM0EAAAAA4Bo0QQAAAABAbzRBAAAAAKDDNEEAAAAAABg1QQAAAABgbDVBAAAAAMDANUEAAAAAIBU2QQAAAACAaTZBAAAAAOC9NkEAAAAAQBI3QQAAAACgZjdBAAAAAAC7N0EAAAAAYA84QQAAAADAYzhBAAAAACC4OEEAAAAAgAw5QQAAAADgYDlBAAAAAEC1OUEAAAAAoAk6QQAAAAAAXjpBAAAAAGCyOkEAAAAAwAY7QQAAAAAgWztBAAAAAICvO0EAAAAA4AM8QQAAAABAWDxBAAAAAKCsPEEAAAAAAAE9QQAAAABgVT1BAAAAAMCpPUEAAAAAIP49QQAAAACAUj5BAAAAAOCmPkEAAAAAQPs+QQAAAACgTz9BAAAAAACkP0EAAAAAYPg/QQAAAABgJkBBAAAAAJBQQEEAAAAAwHpAQQAAAADwpEBBAAAAACDPQEEAAAAAUPlAQQAAAACAI0FBAAAAALBNQUEAAAAA4HdBQQAAAAAQokFBAAAAAEDMQUEAAAAAcPZBQQAAAACgIEJBAAAAANBKQkEAAAAAAHVCQQAAAAAwn0JBAAAAAGDJQkEAAAAAkPNCQQAAAADAHUNBAAAAAPBHQ0EAAAAAIHJDQQAAAABQnENBAAAAAIDGQ0EAAAAAsPBDQQAAAABUEERB",
          "dtype": "f8"
         },
         "xaxis": "x",
         "y": {
          "bdata": "o1o9i87ZRkDxM4R8gspGQCPJJFNPxEZAlx596jXCRkB8Pc6LVsFGQODSKCILwUZA1ZmjQSXBRkDfv9hhjsFGQHTfOgk2wkZA6AN0SxDDRkC1kdBUFMRGQLEuAPM5xUZAM8K4knrGRkAL2Z8P0MdGQCtFZMw1yUZAskLrVanKRkC9tGN9J8xGQNS6ITSuzUZAZ4UacDvPRkDO6B4+ztBGQJ25VI9l0kZA/oIsXgDURkARM+EnntVGQC9Ixz8+10ZALwscR+DYRkAgXxzdg9pGQBd/dp0o3EZAK9WUNc7dRkCFk0SsdN9GQCfUeJp3aUZAa7uLE676RUD6H+6kJJhFQE2CpcuLP0VAxKwBvQDvREB/VtssCaZEQJd4wZiZZERAsalJx6QqREBgUFv5+fdDQLWwrS5FzENAaEZgpwenQ0B9WGP7qYdDQPJK8m6JbUNAysB+/fxXQ0C6fLFhZEZDQDoK/7wtOENAiSs7n80sQ0CJJQbDxSNDQMx4qTS0HENAmxF/dEIXQ0CC+GJ1IRNDQJSa6W4PEENAhrq0FtwNQ0BtU8rUXwxDQNm/XgV1C0NAm+K16QILQ0BZqJfG7gpDQJaT5awjC0NAXt8Ne82pQkAhMAshL1BCQP93wKBJAkJAIqfw6kK9QUAuVZ0dP39BQNpcURawR0FALtTppnEWQUBhsu/jWutAQBo41I8cxkBA0ls/d1SmQECFfzvIi4tAQJMTzxw2dUBAxZKIn8FiQED4NGsxplNAQNe+EER3R0BAOTY6l649QEBK07nP3zVAQMG37nPIL0BAfsoiKRcrQEC2ngDVgSdAQCwM9wLcJEBAXc2UdvUiQEASQNVFpyFAQNr5f+PZIEBAmnpYNmkgQECP7WskVSBAQJm8qx6DIEBAEZRq4d0gQECu94h2oZ4/QE80tOIgDD9AbUiYZdyPPkBztlBMmiM+QC6vfO6Pwz1ACC50R4huPUBY2oK5BCQ9QCvEWD2U4zxAhV1kGH2sPECqWcD5A348QHsAJv88VzxAvEfLFTM3PEAcnP3l+Bw8QM5tvcW1BzxAtPqAi6X2O0B/XScAGek7QIj5lVJ33jtALILWgDzWO0C+E8gL+c87QEQMAGlPyztAnLfZ6fLHO0As9dukpcU7QLqhw+QzxDtAsclWtnPDO0DtG+iqQsM7QDDIbUeEwztAtDF/UCDEO0Cfoi6CB8U7QC02iCNlOjtAnJyn+grBOkBpEpA4vlw6QKUW7/bKBjpAQ1Ix9XG7OUC1dc4LcXk5QKnae086QDlAeBje/DwPOUAaXU9EyOU4QLTfuFcuyzhA",
          "dtype": "f8"
         },
         "yaxis": "y"
        },
        {
         "hovertemplate": "Arm=iv-5-10<br>Time (seconds)=%{x}<br>Tumor Burden Value=%{y}<extra></extra>",
         "legendgroup": "iv-5-10",
         "line": {
          "color": "#FFA15A",
          "dash": "solid"
         },
         "marker": {
          "symbol": "circle"
         },
         "mode": "lines+markers",
         "name": "iv-5-10",
         "showlegend": true,
         "type": "scattergl",
         "x": {
          "bdata": "AAAAAAAAAAAAAAAAABjVQAAAAAAAGOVAAAAAAACk70AAAAAAABj1QAAAAAAAXvpAAAAAAACk/0AAAAAAAHUCQQAAAAAAGAVBAAAAAAC7B0EAAAAAAF4KQQAAAAAAAQ1BAAAAAACkD0EAAAAAgCMRQQAAAAAAdRJBAAAAAIDGE0EAAAAAABgVQQAAAACAaRZBAAAAAAC7F0EAAAAAgAwZQQAAAAAAXhpBAAAAAICvG0EAAAAAAAEdQQAAAACAUh5BAAAAAACkH0EAAAAAwHogQQAAAACAIyFBAAAAAEDMIUEAAAAAAHUiQQAAAADAHSNBAAAAAIDGI0EAAAAAQG8kQQAAAAAAGCVBAAAAAMDAJUEAAAAAgGkmQQAAAABAEidBAAAAAAC7J0EAAAAAwGMoQQAAAACADClBAAAAAEC1KUEAAAAAAF4qQQAAAADABitBAAAAAICvK0EAAAAAQFgsQQAAAAAAAS1BAAAAAMCpLUEAAAAAgFIuQQAAAABA+y5BAAAAAACkL0EAAAAAYCYwQQAAAADAejBBAAAAACDPMEEAAAAAgCMxQQAAAADgdzFBAAAAAEDMMUEAAAAAoCAyQQAAAAAAdTJBAAAAAGDJMkEAAAAAwB0zQQAAAAAgcjNBAAAAAIDGM0EAAAAA4Bo0QQAAAABAbzRBAAAAAKDDNEEAAAAAABg1QQAAAABgbDVBAAAAAMDANUEAAAAAIBU2QQAAAACAaTZBAAAAAOC9NkEAAAAAQBI3QQAAAACgZjdBAAAAAAC7N0EAAAAAYA84QQAAAADAYzhBAAAAACC4OEEAAAAAgAw5QQAAAADgYDlBAAAAAEC1OUEAAAAAoAk6QQAAAAAAXjpBAAAAAGCyOkEAAAAAwAY7QQAAAAAgWztBAAAAAICvO0EAAAAA4AM8QQAAAABAWDxBAAAAAKCsPEEAAAAAAAE9QQAAAABgVT1BAAAAAMCpPUEAAAAAIP49QQAAAACAUj5BAAAAAOCmPkEAAAAAQPs+QQAAAACgTz9BAAAAAACkP0EAAAAAYPg/QQAAAABgJkBBAAAAAJBQQEEAAAAAwHpAQQAAAADwpEBBAAAAACDPQEEAAAAAUPlAQQAAAACAI0FBAAAAALBNQUEAAAAA4HdBQQAAAAAQokFBAAAAAEDMQUEAAAAAcPZBQQAAAACgIEJBAAAAANBKQkEAAAAAAHVCQQAAAAAwn0JBAAAAAGDJQkEAAAAAkPNCQQAAAADAHUNBAAAAAPBHQ0EAAAAAIHJDQQAAAABQnENBAAAAAIDGQ0EAAAAAsPBDQQAAAABUEERB",
          "dtype": "f8"
         },
         "xaxis": "x",
         "y": {
          "bdata": "o1o9i87ZRkAsbe62/Y1GQB/HNyLaW0ZA+EbqNpY+RkAbjdY08SlGQNUMiHjVGUZAYAYkDAoNRkDdeYU05QJGQFPi0VX1+kVAFF4PINX0RUCKzVoHMfBFQK30K2fD7EVAa2cb0VLqRUBOec+4ruhFQAtdQdqw50VA2WNpmzTnRUCk9rBGIOdFQH42EvBf50VAJ3IG9ePnRUCzzhZXn+hFQEHOvEaH6UVAQvZsu5PqRUCUL0/avOtFQG+3y4387EVAqX1WJ07uRUB0G+g6ru9FQLONFBwY8UVA/QL+MoryRUBYVPswBPRFQIuoKOyKlEVAWFpUG8pIRUDaz1UjXBNFQG0+m6IH6kRABDmKXBLIREBKcl4i1qtEQNFY4MyAlERA6gQKCmuBREDa95z593FEQB7jWnGWZURA6DwmjcRbREBCILZWEVREQOsIasEcTkRA4BQ5+ZVJREA0nWtxOUZEQIv2nwTPQ0RAdyD8iihCREBbkDAAIEFEQBUtvH+WQERAfxwUIXNAREBW9E0Bo0BEQJsmByoVQURAOQljML1BREDPMSiTkEJEQEhnhyGHQ0RAifn2y5lERECpHQktwUVEQA+EOzD6RkRAuEJcDzPwQ0DiQbvFQa1DQCiIDmzjfkNAImwQGTRbQ0CcMDYMAz5DQHIZMSPcJUNAeueVOvgRQ0Cxtl2rwgFDQNY0+O6u9EJA7VKfqD7qQkBzygK3AOJCQI36cPeS20JAtvWp1aLWQkAFE1Tn69JCQEvKSK0x0EJAmUjiz0TOQkBVF5S4/sxCQIvayiM+zEJAKD3PgenLQkD7cB5x7MtCQAUTy4M1zEJAw/pEnrbMQkA9qy7bZM1CQL0Gmlo3zkJAosv60ibPQkCtjIpKLdBCQHJWvUBG0UJA2eq5H27SQkCkI445V4NCQMZ3z10QSEJAKdEGX7sfQkCaWsGi9ABCQObPwr3m50FAadpdt0HTQUAsl5nYXcJBQDmn+AWetEFAmUA5rJGpQUBk6aVfzKBBQGWCQanpmUFAvxe2CpKUQUDqEa4MfpBBQB9KzXtzjUFAZRx1L0GLQUAR4HLgvYlBQOv0FpPHiEFA4UgtgUKIQUDiWkiuGIhBQImsJkg4iEFARSo6bpOIQUAhP/wPIIlBQBUDArHSiUFAhtSB6aSKQUATAADuj4tBQJpgzzaPjEFAQgBi9Z2NQUCFiOQquY5BQBIaCqZSRkFABliCxIIRQUCNdstrPO5AQBGd6m+A00BAwL3X89C9QEA3aR6rBKxAQMarCid7nUBAtc1kDrqRQEBqjHXmUYhAQCHVWNiRgkBA",
          "dtype": "f8"
         },
         "yaxis": "y"
        },
        {
         "hovertemplate": "Arm=iv-5-30<br>Time (seconds)=%{x}<br>Tumor Burden Value=%{y}<extra></extra>",
         "legendgroup": "iv-5-30",
         "line": {
          "color": "#19d3f3",
          "dash": "solid"
         },
         "marker": {
          "symbol": "circle"
         },
         "mode": "lines+markers",
         "name": "iv-5-30",
         "showlegend": true,
         "type": "scattergl",
         "x": {
          "bdata": "AAAAAAAAAAAAAAAAABjVQAAAAAAAGOVAAAAAAACk70AAAAAAABj1QAAAAAAAXvpAAAAAAACk/0AAAAAAAHUCQQAAAAAAGAVBAAAAAAC7B0EAAAAAAF4KQQAAAAAAAQ1BAAAAAACkD0EAAAAAgCMRQQAAAAAAdRJBAAAAAIDGE0EAAAAAABgVQQAAAACAaRZBAAAAAAC7F0EAAAAAgAwZQQAAAAAAXhpBAAAAAICvG0EAAAAAAAEdQQAAAACAUh5BAAAAAACkH0EAAAAAwHogQQAAAACAIyFBAAAAAEDMIUEAAAAAAHUiQQAAAADAHSNBAAAAAIDGI0EAAAAAQG8kQQAAAAAAGCVBAAAAAMDAJUEAAAAAgGkmQQAAAABAEidBAAAAAAC7J0EAAAAAwGMoQQAAAACADClBAAAAAEC1KUEAAAAAAF4qQQAAAADABitBAAAAAICvK0EAAAAAQFgsQQAAAAAAAS1BAAAAAMCpLUEAAAAAgFIuQQAAAABA+y5BAAAAAACkL0EAAAAAYCYwQQAAAADAejBBAAAAACDPMEEAAAAAgCMxQQAAAADgdzFBAAAAAEDMMUEAAAAAoCAyQQAAAAAAdTJBAAAAAGDJMkEAAAAAwB0zQQAAAAAgcjNBAAAAAIDGM0EAAAAA4Bo0QQAAAABAbzRBAAAAAKDDNEEAAAAAABg1QQAAAABgbDVBAAAAAMDANUEAAAAAIBU2QQAAAACAaTZBAAAAAOC9NkEAAAAAQBI3QQAAAACgZjdBAAAAAAC7N0EAAAAAYA84QQAAAADAYzhBAAAAACC4OEEAAAAAgAw5QQAAAADgYDlBAAAAAEC1OUEAAAAAoAk6QQAAAAAAXjpBAAAAAGCyOkEAAAAAwAY7QQAAAAAgWztBAAAAAICvO0EAAAAA4AM8QQAAAABAWDxBAAAAAKCsPEEAAAAAAAE9QQAAAABgVT1BAAAAAMCpPUEAAAAAIP49QQAAAACAUj5BAAAAAOCmPkEAAAAAQPs+QQAAAACgTz9BAAAAAACkP0EAAAAAYPg/QQAAAABgJkBBAAAAAJBQQEEAAAAAwHpAQQAAAADwpEBBAAAAACDPQEEAAAAAUPlAQQAAAACAI0FBAAAAALBNQUEAAAAA4HdBQQAAAAAQokFBAAAAAEDMQUEAAAAAcPZBQQAAAACgIEJBAAAAANBKQkEAAAAAAHVCQQAAAAAwn0JBAAAAAGDJQkEAAAAAkPNCQQAAAADAHUNBAAAAAPBHQ0EAAAAAIHJDQQAAAABQnENBAAAAAIDGQ0EAAAAAsPBDQQAAAABUEERB",
          "dtype": "f8"
         },
         "xaxis": "x",
         "y": {
          "bdata": "o1o9i87ZRkAsbe62/Y1GQB/HNyLaW0ZA+EbqNpY+RkAbjdY08SlGQNUMiHjVGUZAYAYkDAoNRkDdeYU05QJGQFPi0VX1+kVAFF4PINX0RUCKzVoHMfBFQK30K2fD7EVAa2cb0VLqRUBOec+4ruhFQAtdQdqw50VA2WNpmzTnRUCk9rBGIOdFQH42EvBf50VAJ3IG9ePnRUCzzhZXn+hFQEHOvEaH6UVAQvZsu5PqRUCUL0/avOtFQG+3y4387EVAqX1WJ07uRUB0G+g6ru9FQLONFBwY8UVA/QL+MoryRUBYVPswBPRFQFoen/fugkVAOB81JjIZRUBH3sHMr7tEQHtccqbfZ0RA0J69IeQbRED8ipALONdDQAGfPH3LmUNA9Lx5y4xjQ0An0U7LQTRDQG+ugtiPC0NAkhIU0/foQkDaJAGn5ctCQEv4c5y8s0JAGgxVgt+fQkAmBrXLr49CQMaZb/KggkJAQthbSjN4QkCDQl9i8W9CQB2PqVOFaUJAaw6z55BkQkBBwcoF0mBCQHGZBiASXkJAIgDCrydcQkAjCn9621pCQGhOIWQZWkJA/Be1/8FZQkBlHGCrt1lCQEK3nw78WUJARU1NSGb8QUC5CTAwqKZBQAURX0eAXEFA116dNwobQUDAi0k0Y+BAQHsFy+z5q0BA1KORAad9QEDGCkLEMlVAQDNLTIRXMkBAW5vC164UQEB0BYbyb/c/QC/rxJTgzT9AtPr5UaerP0BUcWnXu48/QN6n3ZseeT9AJVWlvhVnP0BMe4+8zVg/QOwh0QOgTT9AFNOiSgtFP0BsC60rjj4/QJjlz5zEOT9Ad52YsFY2P0ARX5JUCDQ/QLUzIdWkMj9ASjxQLv4xP0Ct4MWV7jE/QBEgWRBZMj9AvDIt+CUzP0B1XkSVz5U+QGHrQDc9CT5A5JtnhKWSPUD0QYx1sys9QPJDZ+Sc0DxAK9HKMCmAPEBM0Xpx0zk8QNgLvVYk/TtA8L/HGGXJO0BXB1LVzp07QAqJ8sN4eTtAwfZ4zXxbO0AU+W8FBkM7QPV326I4LztAUUE1Wl0fO0A16R7Q0xI7QAyQolX4CDtAfHVrRFQBO0BjnsXShvs6QJ+TdPk59zpAW1ghNCT0OkBrqv7eEfI6QN0w0bjP8DpAda5xRjLwOkD+Ukp5GfA6QMYPAYZr8DpAFonwqRLxOkDurLuN/vE6QEAx1lbhazpAFcm14CT3OUD5oVnFMZc5QIzlhuVARTlA57E8QJj9OEBaBJ2f9b44QJx7fgvHiDhAb27/sHpaOEDgRyA5YDM4QCseIqlSGjhA",
          "dtype": "f8"
         },
         "yaxis": "y"
        },
        {
         "hovertemplate": "Arm=sc-0.1-10<br>Time (seconds)=%{x}<br>Tumor Burden Value=%{y}<extra></extra>",
         "legendgroup": "sc-0.1-10",
         "line": {
          "color": "#FF6692",
          "dash": "solid"
         },
         "marker": {
          "symbol": "circle"
         },
         "mode": "lines+markers",
         "name": "sc-0.1-10",
         "showlegend": true,
         "type": "scattergl",
         "x": {
          "bdata": "AAAAAAAAAAAAAAAAABjVQAAAAAAAGOVAAAAAAACk70AAAAAAABj1QAAAAAAAXvpAAAAAAACk/0AAAAAAAHUCQQAAAAAAGAVBAAAAAAC7B0EAAAAAAF4KQQAAAAAAAQ1BAAAAAACkD0EAAAAAgCMRQQAAAAAAdRJBAAAAAIDGE0EAAAAAABgVQQAAAACAaRZBAAAAAAC7F0EAAAAAgAwZQQAAAAAAXhpBAAAAAICvG0EAAAAAAAEdQQAAAACAUh5BAAAAAACkH0EAAAAAwHogQQAAAACAIyFBAAAAAEDMIUEAAAAAAHUiQQAAAADAHSNBAAAAAIDGI0EAAAAAQG8kQQAAAAAAGCVBAAAAAMDAJUEAAAAAgGkmQQAAAABAEidBAAAAAAC7J0EAAAAAwGMoQQAAAACADClBAAAAAEC1KUEAAAAAAF4qQQAAAADABitBAAAAAICvK0EAAAAAQFgsQQAAAAAAAS1BAAAAAMCpLUEAAAAAgFIuQQAAAABA+y5BAAAAAACkL0EAAAAAYCYwQQAAAADAejBBAAAAACDPMEEAAAAAgCMxQQAAAADgdzFBAAAAAEDMMUEAAAAAoCAyQQAAAAAAdTJBAAAAAGDJMkEAAAAAwB0zQQAAAAAgcjNBAAAAAIDGM0EAAAAA4Bo0QQAAAABAbzRBAAAAAKDDNEEAAAAAABg1QQAAAABgbDVBAAAAAMDANUEAAAAAIBU2QQAAAACAaTZBAAAAAOC9NkEAAAAAQBI3QQAAAACgZjdBAAAAAAC7N0EAAAAAYA84QQAAAADAYzhBAAAAACC4OEEAAAAAgAw5QQAAAADgYDlBAAAAAEC1OUEAAAAAoAk6QQAAAAAAXjpBAAAAAGCyOkEAAAAAwAY7QQAAAAAgWztBAAAAAICvO0EAAAAA4AM8QQAAAABAWDxBAAAAAKCsPEEAAAAAAAE9QQAAAABgVT1BAAAAAMCpPUEAAAAAIP49QQAAAACAUj5BAAAAAOCmPkEAAAAAQPs+QQAAAACgTz9BAAAAAACkP0EAAAAAYPg/QQAAAABgJkBBAAAAAJBQQEEAAAAAwHpAQQAAAADwpEBBAAAAACDPQEEAAAAAUPlAQQAAAACAI0FBAAAAALBNQUEAAAAA4HdBQQAAAAAQokFBAAAAAEDMQUEAAAAAcPZBQQAAAACgIEJBAAAAANBKQkEAAAAAAHVCQQAAAAAwn0JBAAAAAGDJQkEAAAAAkPNCQQAAAADAHUNBAAAAAPBHQ0EAAAAAIHJDQQAAAABQnENBAAAAAIDGQ0EAAAAAsPBDQQAAAABUEERB",
          "dtype": "f8"
         },
         "xaxis": "x",
         "y": {
          "bdata": "o1o9i87ZRkD/pSv2d9tGQPTXXkQg3UZAWqIM0cbeRkBF2dAPbOBGQIIbcmQQ4kZAav3RHbTjRkAcxuZ6V+VGQOzYVqz65kZAbJkc153oRkBh+gQeQepGQNZDlXPk60ZAy3HS/4ftRkD3d+3IK+9GQLw0ngjQ8EZA8JLTlXTyRkDzs121GfRGQL4YPyG/9UZAAAwmCmX3RkCP9JWNC/lGQP9ZIaay+kZAbjdARFr8RkDCVYQ5Av5GQFjqpZuq/0ZA8/Uih1MBR0Cxm4DY/AJHQKmk64OmBEdAexKSfFAGR0BRRAO7+gdHQAAMZ40PCUdAagGUhI8FR0AHahZq4/tGQJpGzL+n7UZAcD3oIHvcRkCJrjiheMlGQLNMEgVctUZAfydFx6mgRkAJqNsiyItGQOeuRLAEd0ZAvSg+B5xiRkBWJwVdvk5GQB1BC7uQO0ZAwYfB5S0pRkBxseMOqBdGQCiq4qEMB0ZAIcqYAWH3RUBoaSnmp+hFQAu616Xg2kVAuXAl6gfORUDKcS+YGMJFQOSlQwAMt0VAseWQgtmsRUDc5CzVd6NFQPXV/pPdmkVA9ZP3Cf+SRUCa4j8f04tFQNM9I1dOhUVACl1STwV+RUD5sbLGGHFFQKoM/KiwXkVArsLdAudIRUA/8j+rQTFFQAZmBjmvGEVAtTfJCsb/RECXAv/27uZEQJJsV4F3zkRAnDJP75i2RECEb/x2fp9EQPfqxUFIiURAPCW5ow10REDJnwsx3l9EQDVHOTrDTERAbZvYQME6REAgCBUr2ClEQMxGVEMFGkRAI/IPT0MLREAlvfroiv1DQJmsBQ/T8ENAkYCvnhHlQ0D29UCbO9pDQLZ1eJVF0ENAuSt3wyPHQ0CDXfM5yr5DQJoGgTEtt0NApbfrDEGwQ0D6j0/IwahDQDVEAo6LnENAHEKcN9uLQ0BAyjpwdXhDQDEk9pSbY0NApijR5A9OQ0Dygl7QTzhDQHtV1OSyIkNA/QOvRngNQ0Dii4hszvhCQClnMcrY5EJA+a/CvbHRQkANS8gabL9CQB+QbrsTrkJAEAAYQq+dQkDAlpGuQY5CQPaZEBrKf0JA5qqVUkVyQkAcA4NKrmVCQIjqGyD+WUJAaQHAdSxPQkDiaFsvMEVCQEws54X/O0JAO0Q5PJAzQkC1Igrl1ytCQNFdlx3MJEJA4J/6jWIeQkC3I4cIkRhCQEXc6hJBEkJAUcvk7vcHQkDqn/z67flBQD8qIx+c6UFAri7sSw/YQUAz025A7cVBQBkMXY+fs0FAoX881m6hQUC92qPuj49BQI6aZ6Z3gkFA",
          "dtype": "f8"
         },
         "yaxis": "y"
        },
        {
         "hovertemplate": "Arm=sc-0.1-30<br>Time (seconds)=%{x}<br>Tumor Burden Value=%{y}<extra></extra>",
         "legendgroup": "sc-0.1-30",
         "line": {
          "color": "#B6E880",
          "dash": "solid"
         },
         "marker": {
          "symbol": "circle"
         },
         "mode": "lines+markers",
         "name": "sc-0.1-30",
         "showlegend": true,
         "type": "scattergl",
         "x": {
          "bdata": "AAAAAAAAAAAAAAAAABjVQAAAAAAAGOVAAAAAAACk70AAAAAAABj1QAAAAAAAXvpAAAAAAACk/0AAAAAAAHUCQQAAAAAAGAVBAAAAAAC7B0EAAAAAAF4KQQAAAAAAAQ1BAAAAAACkD0EAAAAAgCMRQQAAAAAAdRJBAAAAAIDGE0EAAAAAABgVQQAAAACAaRZBAAAAAAC7F0EAAAAAgAwZQQAAAAAAXhpBAAAAAICvG0EAAAAAAAEdQQAAAACAUh5BAAAAAACkH0EAAAAAwHogQQAAAACAIyFBAAAAAEDMIUEAAAAAAHUiQQAAAADAHSNBAAAAAIDGI0EAAAAAQG8kQQAAAAAAGCVBAAAAAMDAJUEAAAAAgGkmQQAAAABAEidBAAAAAAC7J0EAAAAAwGMoQQAAAACADClBAAAAAEC1KUEAAAAAAF4qQQAAAADABitBAAAAAICvK0EAAAAAQFgsQQAAAAAAAS1BAAAAAMCpLUEAAAAAgFIuQQAAAABA+y5BAAAAAACkL0EAAAAAYCYwQQAAAADAejBBAAAAACDPMEEAAAAAgCMxQQAAAADgdzFBAAAAAEDMMUEAAAAAoCAyQQAAAAAAdTJBAAAAAGDJMkEAAAAAwB0zQQAAAAAgcjNBAAAAAIDGM0EAAAAA4Bo0QQAAAABAbzRBAAAAAKDDNEEAAAAAABg1QQAAAABgbDVBAAAAAMDANUEAAAAAIBU2QQAAAACAaTZBAAAAAOC9NkEAAAAAQBI3QQAAAACgZjdBAAAAAAC7N0EAAAAAYA84QQAAAADAYzhBAAAAACC4OEEAAAAAgAw5QQAAAADgYDlBAAAAAEC1OUEAAAAAoAk6QQAAAAAAXjpBAAAAAGCyOkEAAAAAwAY7QQAAAAAgWztBAAAAAICvO0EAAAAA4AM8QQAAAABAWDxBAAAAAKCsPEEAAAAAAAE9QQAAAABgVT1BAAAAAMCpPUEAAAAAIP49QQAAAACAUj5BAAAAAOCmPkEAAAAAQPs+QQAAAACgTz9BAAAAAACkP0EAAAAAYPg/QQAAAABgJkBBAAAAAJBQQEEAAAAAwHpAQQAAAADwpEBBAAAAACDPQEEAAAAAUPlAQQAAAACAI0FBAAAAALBNQUEAAAAA4HdBQQAAAAAQokFBAAAAAEDMQUEAAAAAcPZBQQAAAACgIEJBAAAAANBKQkEAAAAAAHVCQQAAAAAwn0JBAAAAAGDJQkEAAAAAkPNCQQAAAADAHUNBAAAAAPBHQ0EAAAAAIHJDQQAAAABQnENBAAAAAIDGQ0EAAAAAsPBDQQAAAABUEERB",
          "dtype": "f8"
         },
         "xaxis": "x",
         "y": {
          "bdata": "o1o9i87ZRkD/pSv2d9tGQPTXXkQg3UZAWqIM0cbeRkBF2dAPbOBGQIIbcmQQ4kZAav3RHbTjRkAcxuZ6V+VGQOzYVqz65kZAbJkc153oRkBh+gQeQepGQNZDlXPk60ZAy3HS/4ftRkD3d+3IK+9GQLw0ngjQ8EZA8JLTlXTyRkDzs121GfRGQL4YPyG/9UZAAAwmCmX3RkCP9JWNC/lGQP9ZIaay+kZAbjdARFr8RkDCVYQ5Av5GQFjqpZuq/0ZA8/Uih1MBR0Cxm4DY/AJHQKmk64OmBEdAexKSfFAGR0BRRAO7+gdHQCmOzczfBkdAWctP1y7yRkDVyjXllslGQNhRxmsslkZAAVhgRFZdRkB63bYszCFGQM7ddREi5UVAPXeYplWoRUBig2W4FGxFQBmicgHgMEVAgJL6rxP3REASc65A875EQMICdTixiERAiDkcfnhUREAhXC14ZyJEQKEOY6aU8kNAcSO4tgfFQ0AP3emmyJlDQCZbYpXRcENAHLw5JyRKQ0Czqg9ItSVDQLmUeaGBA0NAG7LWbXrjQkBAkFBQicVCQCvW+raWqUJAxbOkdoyPQkCFDCCHZndCQNzpqFMHYUJA6a3/tuNIQkAwY/FsQiVCQDcWeDcB+UFA0ww26p3IQUCOzepXipZBQFnI9ogDZEFAtRabo8UxQUBqHrJUSQBBQIIPsK/gz0BALbNdj8ugQEBxKt1/OXNAQLqw1GpMR0BAGg3EIx0dQEDB2Y9pe+k/QI4EULV0nD9AotwesjRTP0Bb5KAFtg0/QAJbt/j7yz5AfydsKAmOPkCBMxMZxVM+QLzaDBwNHT5AnaSzbczpPUCUexOG6bk9QJ4KkFhFjT1AwsVCC79jPUDhMQh+Mj09QAnCBaN6GT1AnuspLXL4PEDr4vwgTtU8QDG76xVIozxArnBMC9dlPEAxioyXwiI8QFQBF4dL3TtA0S0StiyXO0BvSCijdVE7QFOm5nHXDDtAxLncrMvJOkCXpM2Lrog6QKuwDorFSTpAL0T/D0QNOkCIApNATdM5QNwc5K34mzlAzXN+4VVnOUDlUnoAbDU5QNZMU4Y6BjlAChbvDrvZOEBLFyS+4684QM5zLw2kiDhA5PW2rupjOED/If6YqEE4QMmkz8/DIThAOyhgtCEEOEDpCgTspOg3QBTreTMuzzdAw3J+n5+3N0DrH2Rw6KE3QI1FKAyjijdABFpdw8ZoN0ARLAAzkj43QGUL7sAHEDdAjOKfHYvfNkBBKlp7aq42QAnVhQN1fTZAvU+WQzJNNkD/39XmAx42QNkA5PCD+zVA",
          "dtype": "f8"
         },
         "yaxis": "y"
        },
        {
         "hovertemplate": "Arm=sc-1-10<br>Time (seconds)=%{x}<br>Tumor Burden Value=%{y}<extra></extra>",
         "legendgroup": "sc-1-10",
         "line": {
          "color": "#FF97FF",
          "dash": "solid"
         },
         "marker": {
          "symbol": "circle"
         },
         "mode": "lines+markers",
         "name": "sc-1-10",
         "showlegend": true,
         "type": "scattergl",
         "x": {
          "bdata": "AAAAAAAAAAAAAAAAABjVQAAAAAAAGOVAAAAAAACk70AAAAAAABj1QAAAAAAAXvpAAAAAAACk/0AAAAAAAHUCQQAAAAAAGAVBAAAAAAC7B0EAAAAAAF4KQQAAAAAAAQ1BAAAAAACkD0EAAAAAgCMRQQAAAAAAdRJBAAAAAIDGE0EAAAAAABgVQQAAAACAaRZBAAAAAAC7F0EAAAAAgAwZQQAAAAAAXhpBAAAAAICvG0EAAAAAAAEdQQAAAACAUh5BAAAAAACkH0EAAAAAwHogQQAAAACAIyFBAAAAAEDMIUEAAAAAAHUiQQAAAADAHSNBAAAAAIDGI0EAAAAAQG8kQQAAAAAAGCVBAAAAAMDAJUEAAAAAgGkmQQAAAABAEidBAAAAAAC7J0EAAAAAwGMoQQAAAACADClBAAAAAEC1KUEAAAAAAF4qQQAAAADABitBAAAAAICvK0EAAAAAQFgsQQAAAAAAAS1BAAAAAMCpLUEAAAAAgFIuQQAAAABA+y5BAAAAAACkL0EAAAAAYCYwQQAAAADAejBBAAAAACDPMEEAAAAAgCMxQQAAAADgdzFBAAAAAEDMMUEAAAAAoCAyQQAAAAAAdTJBAAAAAGDJMkEAAAAAwB0zQQAAAAAgcjNBAAAAAIDGM0EAAAAA4Bo0QQAAAABAbzRBAAAAAKDDNEEAAAAAABg1QQAAAABgbDVBAAAAAMDANUEAAAAAIBU2QQAAAACAaTZBAAAAAOC9NkEAAAAAQBI3QQAAAACgZjdBAAAAAAC7N0EAAAAAYA84QQAAAADAYzhBAAAAACC4OEEAAAAAgAw5QQAAAADgYDlBAAAAAEC1OUEAAAAAoAk6QQAAAAAAXjpBAAAAAGCyOkEAAAAAwAY7QQAAAAAgWztBAAAAAICvO0EAAAAA4AM8QQAAAABAWDxBAAAAAKCsPEEAAAAAAAE9QQAAAABgVT1BAAAAAMCpPUEAAAAAIP49QQAAAACAUj5BAAAAAOCmPkEAAAAAQPs+QQAAAACgTz9BAAAAAACkP0EAAAAAYPg/QQAAAABgJkBBAAAAAJBQQEEAAAAAwHpAQQAAAADwpEBBAAAAACDPQEEAAAAAUPlAQQAAAACAI0FBAAAAALBNQUEAAAAA4HdBQQAAAAAQokFBAAAAAEDMQUEAAAAAcPZBQQAAAACgIEJBAAAAANBKQkEAAAAAAHVCQQAAAAAwn0JBAAAAAGDJQkEAAAAAkPNCQQAAAADAHUNBAAAAAPBHQ0EAAAAAIHJDQQAAAABQnENBAAAAAIDGQ0EAAAAAsPBDQQAAAABUEERB",
          "dtype": "f8"
         },
         "xaxis": "x",
         "y": {
          "bdata": "o1o9i87ZRkD5bgNqc9tGQIyJBezx3EZAq0/XZDneRkA5PbLpUt9GQG1j3bdL4EZAMdtTSS7hRkBZGRL1AuJGQHn5Eu7N4kZAX1uhPZTjRkBM8/d5WuRGQAwWoD8k5UZAkgfEpvLlRkAPdFUsx+ZGQCzQRaej50ZA+OHgQ4joRkASQ2L8dulGQNmeBwVv6kZAZe4B73HrRkDmlThWfuxGQFcmqWaV7UZAnwEfoLXuRkBptb3H3+9GQICfWbIS8UZA6NgBXk7yRkBSmPtekvNGQMUMa+7d9EZADk+pLDH2RkCklT7pivdGQDYZg1kj+EZAcfCWt77zRkAyyi1qGelGQHdjs7X32UZANfDHt/rHRkDVgJP7NrRGQFv+kRxpn0ZAL46InRaKRkCqe0cBpHRGQAEghlddX0ZAMwltVH5KRkAbM/JxNTZGQHrtTAqmIkZAM3XAoukPRkDaNOdHEv5FQH0CTCcr7UVAFHgoRTrdRUCCki4KQs5FQOgadJ9BwEVALTP88zSzRUAa8xdmFqdFQKOLZufdm0VANyM8koORRUA5zEIV/YdFQJoRVLo/f0VA7EKqLkF3RUC9EAe2929FQEG/IFRYaUVAAYIZQfhhRUAc8t7gBlVFQJ62oaWoQkVAHuLQgfMsRUCShGjUahVFQLZB2jj6/ERA/OLi6jfkREDIOa1eictEQFxG5N45s0RAmXfxj4ObREDKJ+IAkoREQLbZmbeEbkRAP7bh7HFZREDJ/mbiaEVEQDQojTVyMkRAg5VJaJIgRECl5uwzyg9EQD8+lZoWAERA7WZ0WXLxQ0B+tLLW1eNDQHZrBQw410NAaL8q/47LQ0C0GHi2z8BDQPidnc/utkNAZDMJjOCtQ0DB1okWmaVDQKKgyrgMnkNAdfMR7C+XQ0ABZn1uwY9DQGobWA6og0NAlDcbiCBzQ0C4U/DB6l9DQHTMXb1ES0NAkcvgve41Q0ByrQH2ZCBDQPwgTxr+CkNAaNlBufj1QkBKDe/YguFCQC+poJW/zUJAjnHgDMm6QkBZAFHmsahCQAxgxtqFl0JAB9nwfkuHQkBlgBrLBXhCQJE4nsuzaUJAqLn/WlJcQkA+oN1y3E9CQBp2xj9LREJAGpUQc5Y5QkBPm94GtS9CQGEvukqdJkJAOhL7E0UeQkBOV04QohZCQPdlffSpD0JAViC+gFIJQkDDkYOdkQNCQHqPvDFT/UFAcpKt/STzQUCQh98AP+VBQJDV0mQW1UFAqczDg7XDQUC/4iSUwLFBQGPCFDign0FAfEAabpyNQUCRXAGc6XtBQCVng57xbkFA",
          "dtype": "f8"
         },
         "yaxis": "y"
        },
        {
         "hovertemplate": "Arm=sc-1-30<br>Time (seconds)=%{x}<br>Tumor Burden Value=%{y}<extra></extra>",
         "legendgroup": "sc-1-30",
         "line": {
          "color": "#FECB52",
          "dash": "solid"
         },
         "marker": {
          "symbol": "circle"
         },
         "mode": "lines+markers",
         "name": "sc-1-30",
         "showlegend": true,
         "type": "scattergl",
         "x": {
          "bdata": "AAAAAAAAAAAAAAAAABjVQAAAAAAAGOVAAAAAAACk70AAAAAAABj1QAAAAAAAXvpAAAAAAACk/0AAAAAAAHUCQQAAAAAAGAVBAAAAAAC7B0EAAAAAAF4KQQAAAAAAAQ1BAAAAAACkD0EAAAAAgCMRQQAAAAAAdRJBAAAAAIDGE0EAAAAAABgVQQAAAACAaRZBAAAAAAC7F0EAAAAAgAwZQQAAAAAAXhpBAAAAAICvG0EAAAAAAAEdQQAAAACAUh5BAAAAAACkH0EAAAAAwHogQQAAAACAIyFBAAAAAEDMIUEAAAAAAHUiQQAAAADAHSNBAAAAAIDGI0EAAAAAQG8kQQAAAAAAGCVBAAAAAMDAJUEAAAAAgGkmQQAAAABAEidBAAAAAAC7J0EAAAAAwGMoQQAAAACADClBAAAAAEC1KUEAAAAAAF4qQQAAAADABitBAAAAAICvK0EAAAAAQFgsQQAAAAAAAS1BAAAAAMCpLUEAAAAAgFIuQQAAAABA+y5BAAAAAACkL0EAAAAAYCYwQQAAAADAejBBAAAAACDPMEEAAAAAgCMxQQAAAADgdzFBAAAAAEDMMUEAAAAAoCAyQQAAAAAAdTJBAAAAAGDJMkEAAAAAwB0zQQAAAAAgcjNBAAAAAIDGM0EAAAAA4Bo0QQAAAABAbzRBAAAAAKDDNEEAAAAAABg1QQAAAABgbDVBAAAAAMDANUEAAAAAIBU2QQAAAACAaTZBAAAAAOC9NkEAAAAAQBI3QQAAAACgZjdBAAAAAAC7N0EAAAAAYA84QQAAAADAYzhBAAAAACC4OEEAAAAAgAw5QQAAAADgYDlBAAAAAEC1OUEAAAAAoAk6QQAAAAAAXjpBAAAAAGCyOkEAAAAAwAY7QQAAAAAgWztBAAAAAICvO0EAAAAA4AM8QQAAAABAWDxBAAAAAKCsPEEAAAAAAAE9QQAAAABgVT1BAAAAAMCpPUEAAAAAIP49QQAAAACAUj5BAAAAAOCmPkEAAAAAQPs+QQAAAACgTz9BAAAAAACkP0EAAAAAYPg/QQAAAABgJkBBAAAAAJBQQEEAAAAAwHpAQQAAAADwpEBBAAAAACDPQEEAAAAAUPlAQQAAAACAI0FBAAAAALBNQUEAAAAA4HdBQQAAAAAQokFBAAAAAEDMQUEAAAAAcPZBQQAAAACgIEJBAAAAANBKQkEAAAAAAHVCQQAAAAAwn0JBAAAAAGDJQkEAAAAAkPNCQQAAAADAHUNBAAAAAPBHQ0EAAAAAIHJDQQAAAABQnENBAAAAAIDGQ0EAAAAAsPBDQQAAAABUEERB",
          "dtype": "f8"
         },
         "xaxis": "x",
         "y": {
          "bdata": "o1o9i87ZRkD5bgNqc9tGQIyJBezx3EZAq0/XZDneRkA5PbLpUt9GQG1j3bdL4EZAMdtTSS7hRkBZGRL1AuJGQHn5Eu7N4kZAX1uhPZTjRkBM8/d5WuRGQAwWoD8k5UZAkgfEpvLlRkAPdFUsx+ZGQCzQRaej50ZA+OHgQ4joRkASQ2L8dulGQNmeBwVv6kZAZe4B73HrRkDmlThWfuxGQFcmqWaV7UZAnwEfoLXuRkBptb3H3+9GQICfWbIS8UZA6NgBXk7yRkBSmPtekvNGQMUMa+7d9EZADk+pLDH2RkCklT7pivdGQM0kyq/B9UZAX0Ok1BHgRkB5zk2axrZGQIm2QTDlgkZAHtJt0rpJRkA+GYh6/Q1GQCgLyvY10UVAlLg87VqURUAaNk/6ElhFQODh1xTaHEVAt20hQQ3jREApXup68qpEQIZRkTe9dERAyEMxtZRAREBfmhqwkw5EQFnYviXP3kNAc955GlGxQ0BaZcvoIYZDQGzHU4o9XUNAm/aceqI2Q0DwwDNYRxJDQBi1qo0k8EJAd5u++CPQQkC6HWzTOLJCQFRy5TFNlkJAIrkSD1R8QkB5eTVVN2RCQL20TdbfTUJA/Avi6Ms1QkB7+RaCUxJCQAjQ8sBN5kFAAiZsji62QUBuD0PbYoRBQKTAamolUkFAv1PaHjEgQUAzRADi/e5AQLLK/kPdvkBAGHpnuw6QQEBDFOeLwWJAQAkymmgXN0BAkVhX9igNQEAykUc6EMo/QGCdmgeCfT9AYDa2rrU0P0AmfQ2vpe8+QMu7PSBVrj5AUdobv8ZwPkBh3DQj4jY+QMLnyIuEAD5AcIOtNZnNPUBPhz24Bp49QDUOLCKucT1AJ8hWt25IPUBck8d9JCI9QKekO5Kq/jxAJDpv1tvdPEBeV8c59Lo8QHZtRxZBiTxAdFrFzzJMPEAJDHjIhwk8QJnoiUx8xDtAVsILGMl+O0CP1rdqfDk7QICooqdG9TpAjMBt3qCyOkC9jR/m5nE6QPhrFfJdMzpAP6NJNDn3OUCHMCepm705QKSzLb+chjlAJsNN5EtSOUC3XtM0sCA5QKsbli7J8ThAi3PMf5DFOEBrvBgu/Js4QDOtct37dDhAi88bc35QOEDjSiVgdC44QFRnMcnDDjhAemiITVLxN0A8bFq9AtY3QDGoT2y2vDdAFgZqJ1ClN0ALYP29vY83QMI5sB6feDdAkQTMhPdWN0DYbv+tAS03QLT//WG6/jZAZXprbYLONkDcUl6Jpp02QGHvdgj1bDZA1Bu59/Q8NkBev5SjBw42QDQsvC+36zVA",
          "dtype": "f8"
         },
         "yaxis": "y"
        },
        {
         "hovertemplate": "Arm=sc-5-10<br>Time (seconds)=%{x}<br>Tumor Burden Value=%{y}<extra></extra>",
         "legendgroup": "sc-5-10",
         "line": {
          "color": "#636efa",
          "dash": "solid"
         },
         "marker": {
          "symbol": "circle"
         },
         "mode": "lines+markers",
         "name": "sc-5-10",
         "showlegend": true,
         "type": "scattergl",
         "x": {
          "bdata": "AAAAAAAAAAAAAAAAABjVQAAAAAAAGOVAAAAAAACk70AAAAAAABj1QAAAAAAAXvpAAAAAAACk/0AAAAAAAHUCQQAAAAAAGAVBAAAAAAC7B0EAAAAAAF4KQQAAAAAAAQ1BAAAAAACkD0EAAAAAgCMRQQAAAAAAdRJBAAAAAIDGE0EAAAAAABgVQQAAAACAaRZBAAAAAAC7F0EAAAAAgAwZQQAAAAAAXhpBAAAAAICvG0EAAAAAAAEdQQAAAACAUh5BAAAAAACkH0EAAAAAwHogQQAAAACAIyFBAAAAAEDMIUEAAAAAAHUiQQAAAADAHSNBAAAAAIDGI0EAAAAAQG8kQQAAAAAAGCVBAAAAAMDAJUEAAAAAgGkmQQAAAABAEidBAAAAAAC7J0EAAAAAwGMoQQAAAACADClBAAAAAEC1KUEAAAAAAF4qQQAAAADABitBAAAAAICvK0EAAAAAQFgsQQAAAAAAAS1BAAAAAMCpLUEAAAAAgFIuQQAAAABA+y5BAAAAAACkL0EAAAAAYCYwQQAAAADAejBBAAAAACDPMEEAAAAAgCMxQQAAAADgdzFBAAAAAEDMMUEAAAAAoCAyQQAAAAAAdTJBAAAAAGDJMkEAAAAAwB0zQQAAAAAgcjNBAAAAAIDGM0EAAAAA4Bo0QQAAAABAbzRBAAAAAKDDNEEAAAAAABg1QQAAAABgbDVBAAAAAMDANUEAAAAAIBU2QQAAAACAaTZBAAAAAOC9NkEAAAAAQBI3QQAAAACgZjdBAAAAAAC7N0EAAAAAYA84QQAAAADAYzhBAAAAACC4OEEAAAAAgAw5QQAAAADgYDlBAAAAAEC1OUEAAAAAoAk6QQAAAAAAXjpBAAAAAGCyOkEAAAAAwAY7QQAAAAAgWztBAAAAAICvO0EAAAAA4AM8QQAAAABAWDxBAAAAAKCsPEEAAAAAAAE9QQAAAABgVT1BAAAAAMCpPUEAAAAAIP49QQAAAACAUj5BAAAAAOCmPkEAAAAAQPs+QQAAAACgTz9BAAAAAACkP0EAAAAAYPg/QQAAAABgJkBBAAAAAJBQQEEAAAAAwHpAQQAAAADwpEBBAAAAACDPQEEAAAAAUPlAQQAAAACAI0FBAAAAALBNQUEAAAAA4HdBQQAAAAAQokFBAAAAAEDMQUEAAAAAcPZBQQAAAACgIEJBAAAAANBKQkEAAAAAAHVCQQAAAAAwn0JBAAAAAGDJQkEAAAAAkPNCQQAAAADAHUNBAAAAAPBHQ0EAAAAAIHJDQQAAAABQnENBAAAAAIDGQ0EAAAAAsPBDQQAAAABUEERB",
          "dtype": "f8"
         },
         "xaxis": "x",
         "y": {
          "bdata": "o1o9i87ZRkDMSn8eR9tGQM9mFQ8i20ZADF6IeqrYRkDiYpSDWNRGQD/H0R3CzkZAD604W1XIRkDB4G/YX8FGQC6v5BsbukZA7TwqrLOyRkD/0kloS6tGQE8aliz+o0ZAaIV3YeOcRkAKqQR4DJZGQGKxWoeEj0ZAL7jWxFWJRkA2bZZFhoNGQN/i2nkZfkZAHqjOexF5RkBEE8T4bXRGQEpjx+EtcEZA1zsLBU9sRkCwKbdMzmhGQJUg5ACoZUZAQ11tLdhiRkCy20KVWmBGQNwUzswqXkZAy1kpfURcRkA7fjoLo1pGQKWxfIgNWEZA+PEas8BPRkAR0+g1XkFGQNMQ1a3wLkZAR4U46BgaRkB+MSV33gNGQPvPspzt7EVA8mxuLMDVRUD/IS/or75FQD60GIsAqEVASaqpI+aRRUDfFRxPiXxFQO02SxkHaEVA/b9Es3RURUBUVSt/4EFFQI21TWJRMEVAeQSkH8wfRUDZAHIrTxBFQD4I5AzYAUVAbHBEemD0REDvmGXP4edEQJuOM8FS3ERAA45IlKnRREDy9MOq28dEQJsIjpjdvkRAccIbCKW2REC4fES9Ja9EQMPkgaJVqERAUASiuNmgRECGfKpkK5REQIRElCd/gkRA1N6s9MZtREAHIUDtZldEQB2rU8s2QERAjjxSw8EoREDJoj7waBFEQPG1REFy+kNA1J7xdxHkQ0AVPFwtbs5DQKz6ieSluUNAX+dmnc2lQ0C0ZXMi85JDQPi6j/kdgUNAcplky1FwQ0ATu0WZjmBDQNq2PBvRUUNAJAzUKRREQ0D6gYmKUDdDQJDPxbR9K0NApXc2yZEgQ0C6+MRZghZDQE4cNZFEDUNA0+byRs0EQ0A3cGQ6Ef1CQIBC8E8F9kJA8rwjo57vQkDc7gTQruhCQKJDUGBj3UJAqoSpPPfNQkD7kA8tCrxCQIBAzV/EqEJAtxVwqtuUQkDLKBuaw4BCQJ4N827LbEJABLCJ0ixZQkCh4UWvFEZCQETWZp6kM0JAmYKt2fQhQkA5YECmFhFCQD0mHisUAUJApTVMBPTxQUDqvs3UuONBQNtigkpi1kFA83VnYO3JQUCO3AkNVb5BQFZtXeeSs0FAN9KqK5+pQUDZuuktcaBBQHqsJu3/l0FAaddkLkKQQUApKe/fLYlBQD8NYcm5gkFAp9cr8dt8QUCqwFiLindBQN2Y1b/AcUFAOtee80RoQUAu/EyTTFtBQGU52Tg0TEFASbCTRfU7QUAup//cKStBQOWA4HI0GkFAEVZL7lgJQUBBeyK7yPhAQCerSJil7EBA",
          "dtype": "f8"
         },
         "yaxis": "y"
        },
        {
         "hovertemplate": "Arm=sc-5-30<br>Time (seconds)=%{x}<br>Tumor Burden Value=%{y}<extra></extra>",
         "legendgroup": "sc-5-30",
         "line": {
          "color": "#EF553B",
          "dash": "solid"
         },
         "marker": {
          "symbol": "circle"
         },
         "mode": "lines+markers",
         "name": "sc-5-30",
         "showlegend": true,
         "type": "scattergl",
         "x": {
          "bdata": "AAAAAAAAAAAAAAAAABjVQAAAAAAAGOVAAAAAAACk70AAAAAAABj1QAAAAAAAXvpAAAAAAACk/0AAAAAAAHUCQQAAAAAAGAVBAAAAAAC7B0EAAAAAAF4KQQAAAAAAAQ1BAAAAAACkD0EAAAAAgCMRQQAAAAAAdRJBAAAAAIDGE0EAAAAAABgVQQAAAACAaRZBAAAAAAC7F0EAAAAAgAwZQQAAAAAAXhpBAAAAAICvG0EAAAAAAAEdQQAAAACAUh5BAAAAAACkH0EAAAAAwHogQQAAAACAIyFBAAAAAEDMIUEAAAAAAHUiQQAAAADAHSNBAAAAAIDGI0EAAAAAQG8kQQAAAAAAGCVBAAAAAMDAJUEAAAAAgGkmQQAAAABAEidBAAAAAAC7J0EAAAAAwGMoQQAAAACADClBAAAAAEC1KUEAAAAAAF4qQQAAAADABitBAAAAAICvK0EAAAAAQFgsQQAAAAAAAS1BAAAAAMCpLUEAAAAAgFIuQQAAAABA+y5BAAAAAACkL0EAAAAAYCYwQQAAAADAejBBAAAAACDPMEEAAAAAgCMxQQAAAADgdzFBAAAAAEDMMUEAAAAAoCAyQQAAAAAAdTJBAAAAAGDJMkEAAAAAwB0zQQAAAAAgcjNBAAAAAIDGM0EAAAAA4Bo0QQAAAABAbzRBAAAAAKDDNEEAAAAAABg1QQAAAABgbDVBAAAAAMDANUEAAAAAIBU2QQAAAACAaTZBAAAAAOC9NkEAAAAAQBI3QQAAAACgZjdBAAAAAAC7N0EAAAAAYA84QQAAAADAYzhBAAAAACC4OEEAAAAAgAw5QQAAAADgYDlBAAAAAEC1OUEAAAAAoAk6QQAAAAAAXjpBAAAAAGCyOkEAAAAAwAY7QQAAAAAgWztBAAAAAICvO0EAAAAA4AM8QQAAAABAWDxBAAAAAKCsPEEAAAAAAAE9QQAAAABgVT1BAAAAAMCpPUEAAAAAIP49QQAAAACAUj5BAAAAAOCmPkEAAAAAQPs+QQAAAACgTz9BAAAAAACkP0EAAAAAYPg/QQAAAABgJkBBAAAAAJBQQEEAAAAAwHpAQQAAAADwpEBBAAAAACDPQEEAAAAAUPlAQQAAAACAI0FBAAAAALBNQUEAAAAA4HdBQQAAAAAQokFBAAAAAEDMQUEAAAAAcPZBQQAAAACgIEJBAAAAANBKQkEAAAAAAHVCQQAAAAAwn0JBAAAAAGDJQkEAAAAAkPNCQQAAAADAHUNBAAAAAPBHQ0EAAAAAIHJDQQAAAABQnENBAAAAAIDGQ0EAAAAAsPBDQQAAAABUEERB",
          "dtype": "f8"
         },
         "xaxis": "x",
         "y": {
          "bdata": "o1o9i87ZRkDMSn8eR9tGQM9mFQ8i20ZADF6IeqrYRkDiYpSDWNRGQD/H0R3CzkZAD604W1XIRkDB4G/YX8FGQC6v5BsbukZA7TwqrLOyRkD/0kloS6tGQE8aliz+o0ZAaIV3YeOcRkAKqQR4DJZGQGKxWoeEj0ZAL7jWxFWJRkA2bZZFhoNGQN/i2nkZfkZAHqjOexF5RkBEE8T4bXRGQEpjx+EtcEZA1zsLBU9sRkCwKbdMzmhGQJUg5ACoZUZAQ11tLdhiRkCy20KVWmBGQNwUzswqXkZAy1kpfURcRkA7fjoLo1pGQE4PuNI+VUZAO9HfDQY8RkCmahYRDRFGQP+bYZ2+3EVA6oGOsd+jRUDuXRd43WhFQMRC7PgYLUVADdVVLG/xRED6Qi1oeLZEQAyofBOmfERA7so6qExEREBFhr2fqg1EQMLr6Qbu2ENAlEIlvTmmQ0ASnYAWp3VDQGZ+GtdHR0NA66Jp9yUbQ0AKgguuRfFCQLP3WXimyUJAsWDwoUGkQkBTFRjJEYFCQITvh4kDYEJA1A2AlhVBQkCz8vXYKyRCQOwj+mgxCUJACimEcxfwQUCsKGGNydhBQItUmA0xw0FATLKYf/urQUC5fkxU/YlBQLc3I/3hX0FAd/YbXt4xQUAysog3QQJBQFK/xVI30kBAN5ps0XOiQEA+UYRBanNAQKh9Ku9oRUBAPhni8KwYQEDBUzb/x9o/QBNO3hRdhz9A755N5kc3P0CXjGHYquo+QA20fqqdoT5A2mQhUS1cPkCwlAo4Uxo+QAW4se4P3D1ASrFfDGmhPUBMpehPSGo9QPieJmqJNj1AniDmEBYGPUC+Ixvh19g8QNKb1cSvrjxA/M7cfnyHPECxCV36G2M8QN5ReyNrQTxA1GmE2kYiPEChk3RdGgE8QLiva6q80TtAmg4MIHCXO0AeDeWgs1c7QNWS93mkFTtA4RIuyezSOkAXwvA+kpA6QAbybRVATzpAS8pKEmwPOkBiZj92b9E5QOjaFoqNlTlAdhISDPhbOUDXOFD30CQ5QG9++8Mu8DhAcwOvvx++OEDG4QW/qo44QHhqMnLQYThAnx96c4o3OECLVsL3zg84QFp+vrSN6jdAa2STkLfHN0BhGMpxMac3QK9bA0DoiDdAuV2ZAsJsN0BnQxzurFI3QDWMlYCSOjdAW09RFVYkN0Avl1+d1g83QGgSLk/I+TZAxFqfQZLZNkDmXqs+VLE2QLpT3MrjhDZAd4wdeY1WNkBkg5ymkyc2QB588ri++DVAqRxGPpLKNUDMpIDfbJ01QCAGzHZpfDVA",
          "dtype": "f8"
         },
         "yaxis": "y"
        }
       ],
       "layout": {
        "legend": {
         "title": {
          "text": "Arm"
         },
         "tracegroupgap": 0
        },
        "template": {
         "data": {
          "bar": [
           {
            "error_x": {
             "color": "#2a3f5f"
            },
            "error_y": {
             "color": "#2a3f5f"
            },
            "marker": {
             "line": {
              "color": "#E5ECF6",
              "width": 0.5
             },
             "pattern": {
              "fillmode": "overlay",
              "size": 10,
              "solidity": 0.2
             }
            },
            "type": "bar"
           }
          ],
          "barpolar": [
           {
            "marker": {
             "line": {
              "color": "#E5ECF6",
              "width": 0.5
             },
             "pattern": {
              "fillmode": "overlay",
              "size": 10,
              "solidity": 0.2
             }
            },
            "type": "barpolar"
           }
          ],
          "carpet": [
           {
            "aaxis": {
             "endlinecolor": "#2a3f5f",
             "gridcolor": "white",
             "linecolor": "white",
             "minorgridcolor": "white",
             "startlinecolor": "#2a3f5f"
            },
            "baxis": {
             "endlinecolor": "#2a3f5f",
             "gridcolor": "white",
             "linecolor": "white",
             "minorgridcolor": "white",
             "startlinecolor": "#2a3f5f"
            },
            "type": "carpet"
           }
          ],
          "choropleth": [
           {
            "colorbar": {
             "outlinewidth": 0,
             "ticks": ""
            },
            "type": "choropleth"
           }
          ],
          "contour": [
           {
            "colorbar": {
             "outlinewidth": 0,
             "ticks": ""
            },
            "colorscale": [
             [
              0,
              "#0d0887"
             ],
             [
              0.1111111111111111,
              "#46039f"
             ],
             [
              0.2222222222222222,
              "#7201a8"
             ],
             [
              0.3333333333333333,
              "#9c179e"
             ],
             [
              0.4444444444444444,
              "#bd3786"
             ],
             [
              0.5555555555555556,
              "#d8576b"
             ],
             [
              0.6666666666666666,
              "#ed7953"
             ],
             [
              0.7777777777777778,
              "#fb9f3a"
             ],
             [
              0.8888888888888888,
              "#fdca26"
             ],
             [
              1,
              "#f0f921"
             ]
            ],
            "type": "contour"
           }
          ],
          "contourcarpet": [
           {
            "colorbar": {
             "outlinewidth": 0,
             "ticks": ""
            },
            "type": "contourcarpet"
           }
          ],
          "heatmap": [
           {
            "colorbar": {
             "outlinewidth": 0,
             "ticks": ""
            },
            "colorscale": [
             [
              0,
              "#0d0887"
             ],
             [
              0.1111111111111111,
              "#46039f"
             ],
             [
              0.2222222222222222,
              "#7201a8"
             ],
             [
              0.3333333333333333,
              "#9c179e"
             ],
             [
              0.4444444444444444,
              "#bd3786"
             ],
             [
              0.5555555555555556,
              "#d8576b"
             ],
             [
              0.6666666666666666,
              "#ed7953"
             ],
             [
              0.7777777777777778,
              "#fb9f3a"
             ],
             [
              0.8888888888888888,
              "#fdca26"
             ],
             [
              1,
              "#f0f921"
             ]
            ],
            "type": "heatmap"
           }
          ],
          "histogram": [
           {
            "marker": {
             "pattern": {
              "fillmode": "overlay",
              "size": 10,
              "solidity": 0.2
             }
            },
            "type": "histogram"
           }
          ],
          "histogram2d": [
           {
            "colorbar": {
             "outlinewidth": 0,
             "ticks": ""
            },
            "colorscale": [
             [
              0,
              "#0d0887"
             ],
             [
              0.1111111111111111,
              "#46039f"
             ],
             [
              0.2222222222222222,
              "#7201a8"
             ],
             [
              0.3333333333333333,
              "#9c179e"
             ],
             [
              0.4444444444444444,
              "#bd3786"
             ],
             [
              0.5555555555555556,
              "#d8576b"
             ],
             [
              0.6666666666666666,
              "#ed7953"
             ],
             [
              0.7777777777777778,
              "#fb9f3a"
             ],
             [
              0.8888888888888888,
              "#fdca26"
             ],
             [
              1,
              "#f0f921"
             ]
            ],
            "type": "histogram2d"
           }
          ],
          "histogram2dcontour": [
           {
            "colorbar": {
             "outlinewidth": 0,
             "ticks": ""
            },
            "colorscale": [
             [
              0,
              "#0d0887"
             ],
             [
              0.1111111111111111,
              "#46039f"
             ],
             [
              0.2222222222222222,
              "#7201a8"
             ],
             [
              0.3333333333333333,
              "#9c179e"
             ],
             [
              0.4444444444444444,
              "#bd3786"
             ],
             [
              0.5555555555555556,
              "#d8576b"
             ],
             [
              0.6666666666666666,
              "#ed7953"
             ],
             [
              0.7777777777777778,
              "#fb9f3a"
             ],
             [
              0.8888888888888888,
              "#fdca26"
             ],
             [
              1,
              "#f0f921"
             ]
            ],
            "type": "histogram2dcontour"
           }
          ],
          "mesh3d": [
           {
            "colorbar": {
             "outlinewidth": 0,
             "ticks": ""
            },
            "type": "mesh3d"
           }
          ],
          "parcoords": [
           {
            "line": {
             "colorbar": {
              "outlinewidth": 0,
              "ticks": ""
             }
            },
            "type": "parcoords"
           }
          ],
          "pie": [
           {
            "automargin": true,
            "type": "pie"
           }
          ],
          "scatter": [
           {
            "fillpattern": {
             "fillmode": "overlay",
             "size": 10,
             "solidity": 0.2
            },
            "type": "scatter"
           }
          ],
          "scatter3d": [
           {
            "line": {
             "colorbar": {
              "outlinewidth": 0,
              "ticks": ""
             }
            },
            "marker": {
             "colorbar": {
              "outlinewidth": 0,
              "ticks": ""
             }
            },
            "type": "scatter3d"
           }
          ],
          "scattercarpet": [
           {
            "marker": {
             "colorbar": {
              "outlinewidth": 0,
              "ticks": ""
             }
            },
            "type": "scattercarpet"
           }
          ],
          "scattergeo": [
           {
            "marker": {
             "colorbar": {
              "outlinewidth": 0,
              "ticks": ""
             }
            },
            "type": "scattergeo"
           }
          ],
          "scattergl": [
           {
            "marker": {
             "colorbar": {
              "outlinewidth": 0,
              "ticks": ""
             }
            },
            "type": "scattergl"
           }
          ],
          "scattermap": [
           {
            "marker": {
             "colorbar": {
              "outlinewidth": 0,
              "ticks": ""
             }
            },
            "type": "scattermap"
           }
          ],
          "scattermapbox": [
           {
            "marker": {
             "colorbar": {
              "outlinewidth": 0,
              "ticks": ""
             }
            },
            "type": "scattermapbox"
           }
          ],
          "scatterpolar": [
           {
            "marker": {
             "colorbar": {
              "outlinewidth": 0,
              "ticks": ""
             }
            },
            "type": "scatterpolar"
           }
          ],
          "scatterpolargl": [
           {
            "marker": {
             "colorbar": {
              "outlinewidth": 0,
              "ticks": ""
             }
            },
            "type": "scatterpolargl"
           }
          ],
          "scatterternary": [
           {
            "marker": {
             "colorbar": {
              "outlinewidth": 0,
              "ticks": ""
             }
            },
            "type": "scatterternary"
           }
          ],
          "surface": [
           {
            "colorbar": {
             "outlinewidth": 0,
             "ticks": ""
            },
            "colorscale": [
             [
              0,
              "#0d0887"
             ],
             [
              0.1111111111111111,
              "#46039f"
             ],
             [
              0.2222222222222222,
              "#7201a8"
             ],
             [
              0.3333333333333333,
              "#9c179e"
             ],
             [
              0.4444444444444444,
              "#bd3786"
             ],
             [
              0.5555555555555556,
              "#d8576b"
             ],
             [
              0.6666666666666666,
              "#ed7953"
             ],
             [
              0.7777777777777778,
              "#fb9f3a"
             ],
             [
              0.8888888888888888,
              "#fdca26"
             ],
             [
              1,
              "#f0f921"
             ]
            ],
            "type": "surface"
           }
          ],
          "table": [
           {
            "cells": {
             "fill": {
              "color": "#EBF0F8"
             },
             "line": {
              "color": "white"
             }
            },
            "header": {
             "fill": {
              "color": "#C8D4E3"
             },
             "line": {
              "color": "white"
             }
            },
            "type": "table"
           }
          ]
         },
         "layout": {
          "annotationdefaults": {
           "arrowcolor": "#2a3f5f",
           "arrowhead": 0,
           "arrowwidth": 1
          },
          "autotypenumbers": "strict",
          "coloraxis": {
           "colorbar": {
            "outlinewidth": 0,
            "ticks": ""
           }
          },
          "colorscale": {
           "diverging": [
            [
             0,
             "#8e0152"
            ],
            [
             0.1,
             "#c51b7d"
            ],
            [
             0.2,
             "#de77ae"
            ],
            [
             0.3,
             "#f1b6da"
            ],
            [
             0.4,
             "#fde0ef"
            ],
            [
             0.5,
             "#f7f7f7"
            ],
            [
             0.6,
             "#e6f5d0"
            ],
            [
             0.7,
             "#b8e186"
            ],
            [
             0.8,
             "#7fbc41"
            ],
            [
             0.9,
             "#4d9221"
            ],
            [
             1,
             "#276419"
            ]
           ],
           "sequential": [
            [
             0,
             "#0d0887"
            ],
            [
             0.1111111111111111,
             "#46039f"
            ],
            [
             0.2222222222222222,
             "#7201a8"
            ],
            [
             0.3333333333333333,
             "#9c179e"
            ],
            [
             0.4444444444444444,
             "#bd3786"
            ],
            [
             0.5555555555555556,
             "#d8576b"
            ],
            [
             0.6666666666666666,
             "#ed7953"
            ],
            [
             0.7777777777777778,
             "#fb9f3a"
            ],
            [
             0.8888888888888888,
             "#fdca26"
            ],
            [
             1,
             "#f0f921"
            ]
           ],
           "sequentialminus": [
            [
             0,
             "#0d0887"
            ],
            [
             0.1111111111111111,
             "#46039f"
            ],
            [
             0.2222222222222222,
             "#7201a8"
            ],
            [
             0.3333333333333333,
             "#9c179e"
            ],
            [
             0.4444444444444444,
             "#bd3786"
            ],
            [
             0.5555555555555556,
             "#d8576b"
            ],
            [
             0.6666666666666666,
             "#ed7953"
            ],
            [
             0.7777777777777778,
             "#fb9f3a"
            ],
            [
             0.8888888888888888,
             "#fdca26"
            ],
            [
             1,
             "#f0f921"
            ]
           ]
          },
          "colorway": [
           "#636efa",
           "#EF553B",
           "#00cc96",
           "#ab63fa",
           "#FFA15A",
           "#19d3f3",
           "#FF6692",
           "#B6E880",
           "#FF97FF",
           "#FECB52"
          ],
          "font": {
           "color": "#2a3f5f"
          },
          "geo": {
           "bgcolor": "white",
           "lakecolor": "white",
           "landcolor": "#E5ECF6",
           "showlakes": true,
           "showland": true,
           "subunitcolor": "white"
          },
          "hoverlabel": {
           "align": "left"
          },
          "hovermode": "closest",
          "mapbox": {
           "style": "light"
          },
          "paper_bgcolor": "white",
          "plot_bgcolor": "#E5ECF6",
          "polar": {
           "angularaxis": {
            "gridcolor": "white",
            "linecolor": "white",
            "ticks": ""
           },
           "bgcolor": "#E5ECF6",
           "radialaxis": {
            "gridcolor": "white",
            "linecolor": "white",
            "ticks": ""
           }
          },
          "scene": {
           "xaxis": {
            "backgroundcolor": "#E5ECF6",
            "gridcolor": "white",
            "gridwidth": 2,
            "linecolor": "white",
            "showbackground": true,
            "ticks": "",
            "zerolinecolor": "white"
           },
           "yaxis": {
            "backgroundcolor": "#E5ECF6",
            "gridcolor": "white",
            "gridwidth": 2,
            "linecolor": "white",
            "showbackground": true,
            "ticks": "",
            "zerolinecolor": "white"
           },
           "zaxis": {
            "backgroundcolor": "#E5ECF6",
            "gridcolor": "white",
            "gridwidth": 2,
            "linecolor": "white",
            "showbackground": true,
            "ticks": "",
            "zerolinecolor": "white"
           }
          },
          "shapedefaults": {
           "line": {
            "color": "#2a3f5f"
           }
          },
          "ternary": {
           "aaxis": {
            "gridcolor": "white",
            "linecolor": "white",
            "ticks": ""
           },
           "baxis": {
            "gridcolor": "white",
            "linecolor": "white",
            "ticks": ""
           },
           "bgcolor": "#E5ECF6",
           "caxis": {
            "gridcolor": "white",
            "linecolor": "white",
            "ticks": ""
           }
          },
          "title": {
           "x": 0.05
          },
          "xaxis": {
           "automargin": true,
           "gridcolor": "white",
           "linecolor": "white",
           "ticks": "",
           "title": {
            "standoff": 15
           },
           "zerolinecolor": "white",
           "zerolinewidth": 2
          },
          "yaxis": {
           "automargin": true,
           "gridcolor": "white",
           "linecolor": "white",
           "ticks": "",
           "title": {
            "standoff": 15
           },
           "zerolinecolor": "white",
           "zerolinewidth": 2
          }
         }
        },
        "title": {
         "text": "Time Series of Tumor Burden"
        },
        "xaxis": {
         "anchor": "y",
         "domain": [
          0,
          1
         ],
         "title": {
          "text": "Time (seconds)"
         }
        },
        "yaxis": {
         "anchor": "x",
         "domain": [
          0,
          1
         ],
         "title": {
          "text": "Tumor Burden Value"
         }
        }
       }
      }
     },
     "metadata": {},
     "output_type": "display_data"
    }
   ],
   "source": [
    "%pip install nbformat\n",
    "# Filter data for the first patient\n",
    "patient_data = dfTimeSeries[dfTimeSeries[\"Patient Id\"] == unique_patient_ids[0]]\n",
    "\n",
    "# Plot using Plotly\n",
    "fig = px.line(\n",
    "    patient_data,\n",
    "    x=\"Time\",\n",
    "    y=\"Value\",\n",
    "    color=\"Arm\",\n",
    "    title=\"Time Series of Tumor Burden\",\n",
    "    labels={\"Time\": \"Time (seconds)\", \"Value\": \"Tumor Burden Value\"},\n",
    "    markers=True,\n",
    ")\n",
    "\n",
    "jinko.show_plot_conditionally(fig)"
   ]
  }
 ],
 "metadata": {
  "kernelspec": {
   "display_name": "jinko-api-doc-qhtqbAjx-py3.12",
   "language": "python",
   "name": "python3"
  },
  "language_info": {
   "codemirror_mode": {
    "name": "ipython",
    "version": 3
   },
   "file_extension": ".py",
   "mimetype": "text/x-python",
   "name": "python",
   "nbconvert_exporter": "python",
   "pygments_lexer": "ipython3",
   "version": "3.10.12"
  }
 },
 "nbformat": 4,
 "nbformat_minor": 5
}
