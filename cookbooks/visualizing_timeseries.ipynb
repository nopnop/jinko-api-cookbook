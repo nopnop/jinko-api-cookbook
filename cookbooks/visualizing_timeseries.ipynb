{
 "cells": [
  {
   "cell_type": "code",
   "execution_count": null,
   "id": "2bd348f8-3c99-4291-987c-acf8d51fb269",
   "metadata": {
    "tags": []
   },
   "outputs": [],
   "source": [
    "# Initialize your connection to Jinko\n",
    "\n",
    "import sys; sys.path.insert(0, '../lib')\n",
    "import jinko_helpers as jinko\n",
    "\n",
    "# Configuration\n",
    "\n",
    "# Fill your API key (ex: 'd74cc07e-4a86-4aab-952a-a5814ae6e1ee')\n",
    "# If not set, it will be retrieved from the JINKO_API_KEY environment variable.\n",
    "# If environment variable is not set, you will be asked for it interactively\n",
    "apiKey = None\n",
    "\n",
    "# Fill your Project Id (ex: '14495063-918c-441a-a898-3131d70b02b0')\n",
    "# If not set, it will be retrieved from the JINKO_PROJECT_ID environment variable.\n",
    "# If environment variable is not set, you will be asked for it interactively\n",
    "projectId = None\n",
    "\n",
    "# This function ensures that authentication is correct\n",
    "# It it also possible to override the base url by passing baseUrl=...\n",
    "jinko.initialize(projectId, apiKey = apiKey)"
   ]
  },
  {
   "cell_type": "code",
   "execution_count": null,
   "id": "986528f1-606f-4131-ac48-2d660947a1b4",
   "metadata": {
    "tags": []
   },
   "outputs": [],
   "source": [
    "# Listing available packages\n",
    "#help(\"modules\")"
   ]
  },
  {
   "cell_type": "code",
   "execution_count": null,
   "id": "7a9a222a-e9a6-44ac-bdb8-2dd87cfb2fa2",
   "metadata": {
    "tags": []
   },
   "outputs": [],
   "source": [
    "import zipfile\n",
    "import io\n",
    "from typing import List, Any\n",
    "\n",
    "# Fill the short Id of your Trial (ex: tr-EKRx-3HRt)\n",
    "trialId = 'tr-OxkW-mB8I'\n",
    "if trialId is None:\n",
    "  raise Exception('Please specify a Trial Id')\n",
    "\n",
    "# Convert short Id to coreItemId\n",
    "coreItemId = jinko.getCoreItemId(trialId, 1)\n",
    "\n",
    "# List all Trial versions\n",
    "versions: List[Any] = jinko.makeRequest('/core/v2/trial_manager/trial/%s/status'%(coreItemId['id'])).json()\n",
    "\n",
    "# Get the latest completed version\n",
    "latestCompletedVersion = next((item for item in versions if item['status'] == 'completed'), None)\n",
    "if latestCompletedVersion is None:\n",
    "  raise Exception('No completed Trial version found')\n",
    "\n",
    "# Retrieve time series\n",
    "response = jinko.makeRequest('/core/v2/result_manager/timeseries_summary', method='POST'\n",
    "    , json={\n",
    "      \"select\": [\"Blood.Drug\"],\n",
    "      \"trialId\": latestCompletedVersion['simulationId']\n",
    "    })\n",
    "archive = zipfile.ZipFile(io.BytesIO(response.content))\n",
    "filename = archive.namelist()[0]\n",
    "print(filename)\n",
    "\n",
    "csvTimeseries = archive.read(filename).decode('utf-8')\n",
    "\n",
    "# Retrieve scalar results\n",
    "response = jinko.makeRequest('/core/v2/result_manager/scalars_summary', method='POST', json={\n",
    "  \"select\": [\n",
    "    \"fullDose.tmin\",\n",
    "    \"primingDose.tmin\",\n",
    "    \"administrationMode\"\n",
    "  ],\n",
    "  \"trialId\": latestCompletedVersion['simulationId']\n",
    "})\n",
    "archive = zipfile.ZipFile(io.BytesIO(response.content))\n",
    "filename = archive.namelist()[0]\n",
    "print(filename)\n",
    "\n",
    "csvScalars = archive.read(filename).decode('utf-8')\n"
   ]
  },
  {
   "cell_type": "code",
   "execution_count": null,
   "id": "c28a055c-280b-4497-bd43-e4f8429232c2",
   "metadata": {
    "tags": []
   },
   "outputs": [],
   "source": [
    "import pandas as pd\n",
    "\n",
    "# Load timeseries into a dataframe\n",
    "dfTs = pd.read_csv(io.StringIO(csvTimeseries))\n",
    "\n",
    "print(\"Timeseries data : \\n\")\n",
    "print(dfTs[1:3])\n",
    "print(\"\\n\")\n",
    "\n",
    "# Load scalars into a dataframe\n",
    "dfScalars = pd.read_csv(io.StringIO(csvScalars))\n",
    "\n",
    "# Pivot to a wide format \n",
    "dfScalars = dfScalars.pivot(index = [\"armId\",\"patientId\"], columns=\"scalarId\", values = \"value\")\n",
    "\n",
    "print(\"Pivotted scalar table: \\n\")\n",
    "print(dfScalars[1:3])\n",
    "print(\"\\n\")\n",
    "\n",
    "# Merge both tables together to obtain protocol descriptors per arm\n",
    "df = dfTs.merge(right=dfScalars,left_on=[\"Patient Id\",\"Arm\"],right_on=[\"patientId\",\"armId\"])\n",
    "\n",
    "print(\"Merged table: \\n\")\n",
    "print(df[1:3])\n",
    "print(\"\\n\")\n",
    "\n",
    "# Convert time to days\n",
    "df[\"Time\"]=df[\"Time\"].map(lambda x: x / (60 * 60 * 24))"
   ]
  },
  {
   "cell_type": "code",
   "execution_count": null,
   "id": "e768c432-016a-49a1-9e83-fdccdbae13bc",
   "metadata": {
    "tags": []
   },
   "outputs": [],
   "source": [
    "import plotly.express as px\n",
    "import plotly.io as pio\n",
    "# This config was required in order for the plot to show in the notebook\n",
    "pio.renderers.default = 'iframe'\n",
    "\n",
    "fig = px.line(df,\n",
    "              x=\"Time\",\n",
    "              y=\"Value\",\n",
    "              facet_col=\"fullDose.tmin\", \n",
    "              facet_row=\"primingDose.tmin\",\n",
    "              color=\"administrationMode\",\n",
    "              labels={\n",
    "                \"Time\": \"Time (days)\",\n",
    "                \"Value\": \"Concentration (µg/mL)\",\n",
    "                \"fullDose.tmin\": \"Full dose (mg)\",\n",
    "                \"primingDose.tmin\": \"Priming dose (mg)\",\n",
    "                \"administrationMode\": \"Administration\"\n",
    "                },\n",
    "              log_y=True\n",
    "             )\n",
    "fig.show()"
   ]
  },
  {
   "cell_type": "code",
   "execution_count": null,
   "id": "b9704d8a-ad47-4829-b491-b0e00eed103d",
   "metadata": {},
   "outputs": [],
   "source": []
  }
 ],
 "metadata": {
  "kernelspec": {
   "display_name": "python-jinko kernel",
   "language": "python",
   "name": "python-jinko"
  },
  "language_info": {
   "codemirror_mode": {
    "name": "ipython",
    "version": 3
   },
   "file_extension": ".py",
   "mimetype": "text/x-python",
   "name": "python",
   "nbconvert_exporter": "python",
   "pygments_lexer": "ipython3",
   "version": "3.10.9"
  }
 },
 "nbformat": 4,
 "nbformat_minor": 5
}
