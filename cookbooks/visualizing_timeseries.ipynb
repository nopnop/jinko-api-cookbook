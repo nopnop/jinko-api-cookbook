{
 "cells": [
  {
   "cell_type": "markdown",
   "id": "97de1512",
   "metadata": {},
   "source": [
    "This cookbook will guide you through the creation of a simple visualization from an existing trial in jinko. In particular, you will be able to retrive timeseries and plot them using plotly.\n",
    "\n",
    "It uses the trial [tr-OxkW-mB8I](https://jinko.ai/tr-OxkW-mB8I), located in the common [API cookbooks project](https://jinko.ai/project/e0fbb5bb-8929-439a-bad6-9e12d19d9ae4)."
   ]
  },
  {
   "cell_type": "code",
   "execution_count": null,
   "id": "2bd348f8-3c99-4291-987c-acf8d51fb269",
   "metadata": {
    "tags": []
   },
   "outputs": [],
   "source": [
    "# Initialize your connection to Jinko\n",
    "\n",
    "import sys; sys.path.insert(0, '../lib')\n",
    "import jinko_helpers as jinko\n",
    "\n",
    "# Configuration\n",
    "\n",
    "# Fill your API key (ex: 'd74cc07e-4a86-4aab-952a-a5814ae6e1ee')\n",
    "# If not set, it will be retrieved from the JINKO_API_KEY environment variable.\n",
    "# If environment variable is not set, you will be asked for it interactively\n",
    "apiKey = None\n",
    "\n",
    "# Fill your Project Id (ex: '14495063-918c-441a-a898-3131d70b02b0')\n",
    "# If not set, it will be retrieved from the JINKO_PROJECT_ID environment variable.\n",
    "# If environment variable is not set, you will be asked for it interactively\n",
    "projectId = None\n",
    "\n",
    "# This function ensures that authentication is correct\n",
    "# It it also possible to override the base url by passing baseUrl=...\n",
    "jinko.initialize(projectId, apiKey = apiKey)"
   ]
  },
  {
   "cell_type": "markdown",
   "id": "46877af5",
   "metadata": {},
   "source": [
    "The first step will be to fetch the trial outputs and the data we want to plot."
   ]
  },
  {
   "cell_type": "code",
   "execution_count": null,
   "id": "7a9a222a-e9a6-44ac-bdb8-2dd87cfb2fa2",
   "metadata": {
    "tags": []
   },
   "outputs": [],
   "source": [
    "import zipfile\n",
    "import io\n",
    "from typing import List, Any\n",
    "import json\n",
    "\n",
    "# Fill the short Id of your Trial\n",
    "trialShortId = 'tr-OxkW-mB8I' # edit this line if necessary\n",
    "if trialShortId is None:\n",
    "  raise Exception('Please specify a Trial Id')\n",
    "\n",
    "# Convert short Id to coreItemId\n",
    "coreItemId = jinko.getCoreItemId(trialShortId, 1)\n",
    "\n",
    "# List all Trial versions\n",
    "versions: List[Any] = jinko.makeRequest('/core/v2/trial_manager/trial/%s/status'%(coreItemId['id'])).json()\n",
    "\n",
    "# Get the latest completed version\n",
    "latestCompletedVersion = next((item for item in versions if item['status'] == 'completed'), None)\n",
    "if latestCompletedVersion is None:\n",
    "  raise Exception('No completed Trial version found')\n",
    "\n",
    "print(\"Successfully fetched this simulation:\\n\",json.dumps(latestCompletedVersion,indent=1))\n",
    "\n",
    "# Store the trial Id and the snapshot Id to use in the API requests\n",
    "simulationId = latestCompletedVersion['simulationId']\n",
    "trialId = simulationId['coreItemId']\n",
    "trialSnapshotId = simulationId['snapshotId']"
   ]
  },
  {
   "cell_type": "code",
   "execution_count": null,
   "id": "c74d4caa",
   "metadata": {},
   "outputs": [],
   "source": [
    "# Retrieve results summary\n",
    "response = jinko.makeRequest('/core/v2/trial_manager/trial/%s/snapshots/%s/results_summary'%(trialId,trialSnapshotId), method='GET')\n",
    "responseSummary = json.loads(response.content)\n",
    "\n",
    "# Print a summary of the results content\n",
    "print(\"Keys in the results summary:\\n\",list(responseSummary.keys()),\"\\n\")\n",
    "print(\"Available patients:\\n\",responseSummary['patients'],\"\\n\")\n",
    "print(\"Available arms:\\n\",responseSummary['arms'],\"\\n\")\n",
    "print(\"Available scalars:\\n\",[scalar['id'] for scalar in responseSummary['scalars']],\"\\n\")\n",
    "print(\"Available cross-arm scalars:\\n\",[scalar['id'] for scalar in responseSummary['scalarsCrossArm']],\"\\n\")\n",
    "print(\"Available categoricals:\\n\",[scalar['id'] for scalar in responseSummary['categoricals']],\"\\n\")\n",
    "print(\"Available cross-arm categoricals:\\n\",[scalar['id'] for scalar in responseSummary['categoricalsCrossArm']],\"\\n\")\n",
    "\n",
    "# Store the list of scenario descriptors fetch them\n",
    "scenarioDescriptors = [scalar['id'] for scalar in (responseSummary['scalars']+responseSummary['categoricals']) if \"ScenarioOverride\" in scalar['type']['labels']]\n",
    "print(\"List of scenario overrides:\\n\",scenarioDescriptors,\"\\n\")"
   ]
  },
  {
   "cell_type": "code",
   "execution_count": null,
   "id": "ef0d71cb",
   "metadata": {},
   "outputs": [],
   "source": [
    "# Retrieve timeseries ids\n",
    "response = jinko.makeRequest('/core/v2/trial_manager/trial/%s/snapshots/%s/output_ids'%(trialId,trialSnapshotId), method='GET')\n",
    "responseSummary = json.loads(response.content.decode(\"utf-8\"))\n",
    "print(\"Available timeseries:\\n\",responseSummary,\"\\n\")\n",
    "# Store the list of time series to fetch them later\n",
    "timeseriesList=responseSummary"
   ]
  },
  {
   "cell_type": "code",
   "execution_count": null,
   "id": "bd364c09",
   "metadata": {},
   "outputs": [],
   "source": [
    "# Retrieve time series\n",
    "response = jinko.makeRequest('/core/v2/result_manager/timeseries_summary', method='POST'\n",
    "    , json={\n",
    "      \"select\": timeseriesList,\n",
    "      \"trialId\": simulationId\n",
    "    })\n",
    "# Timeseries are stored in a zip file\n",
    "archive = zipfile.ZipFile(io.BytesIO(response.content))\n",
    "filename = archive.namelist()[0]\n",
    "print(\"Successfully fetched:\\n\",filename)\n",
    "\n",
    "csvTimeseries = archive.read(filename).decode('utf-8')"
   ]
  },
  {
   "cell_type": "code",
   "execution_count": null,
   "id": "ef26f6e2",
   "metadata": {},
   "outputs": [],
   "source": [
    "# Retrieve scalar results containing scenario overrides\n",
    "response = jinko.makeRequest('/core/v2/result_manager/scalars_summary', method='POST', json={\n",
    "  \"select\": scenarioDescriptors,\n",
    "  \"trialId\": simulationId\n",
    "})\n",
    "archive = zipfile.ZipFile(io.BytesIO(response.content))\n",
    "filename = archive.namelist()[0]\n",
    "print(\"Successfully fetched:\\n\",filename)\n",
    "\n",
    "csvScalars = archive.read(filename).decode('utf-8')\n"
   ]
  },
  {
   "cell_type": "code",
   "execution_count": null,
   "id": "291b04d8",
   "metadata": {},
   "outputs": [],
   "source": [
    "We will now process the data using the pandas library, and transform it into a table taht can easily be plotted."
   ]
  },
  {
   "cell_type": "code",
   "execution_count": null,
   "id": "c28a055c-280b-4497-bd43-e4f8429232c2",
   "metadata": {
    "tags": []
   },
   "outputs": [],
   "source": [
    "import pandas as pd\n",
    "\n",
    "# Load timeseries into a dataframe\n",
    "dfTs = pd.read_csv(io.StringIO(csvTimeseries))\n",
    "print(\"Raw timeseries data : \\n\",dfTs[1:3],\"\\n\")\n",
    "\n",
    "# Load scalars into a dataframe\n",
    "dfScalars = pd.read_csv(io.StringIO(csvScalars))\n",
    "print(\"Raw scalar data  :\\n\",dfScalars[1:3],\"\\n\")\n",
    "\n",
    "# Pivot to a wide format to obtain protocol overrides in columns\n",
    "dfScalars = dfScalars.pivot(index = [\"armId\",\"patientId\"], columns=\"scalarId\", values = \"value\")\n",
    "\n",
    "print(\"Pivotted scalar table: \\n\")\n",
    "print(dfScalars[1:3])\n",
    "print(\"\\n\")\n",
    "\n",
    "# Merge both tables together to obtain protocol descriptors per arm\n",
    "df = dfTs.merge(right=dfScalars,left_on=[\"Patient Id\",\"Arm\"],right_on=[\"patientId\",\"armId\"])\n",
    "\n",
    "print(\"Merged table: \\n\")\n",
    "print(df[1:3])\n",
    "print(\"\\n\")\n",
    "\n",
    "# Convert time to days\n",
    "df[\"Time\"]=df[\"Time\"].map(lambda x: x / (60 * 60 * 24))\n",
    "\n",
    "# Filter the data set to keep only the variable we would like to plot\n",
    "dfToPlot = df.query('Descriptor==\"Blood.Drug\"')"
   ]
  },
  {
   "cell_type": "code",
   "execution_count": null,
   "id": "fe87fe29",
   "metadata": {},
   "outputs": [],
   "source": [
    "Finally we plot the time series data by facetting over scenario overrides."
   ]
  },
  {
   "cell_type": "code",
   "execution_count": null,
   "id": "e768c432-016a-49a1-9e83-fdccdbae13bc",
   "metadata": {
    "tags": []
   },
   "outputs": [],
   "source": [
    "import plotly.express as px\n",
    "import plotly.io as pio\n",
    "# The renderer needs to be adjusted depending on the use case\n",
    "# pio.renderers.default = 'iframe' # for running in jupyter lab\n",
    "pio.renderers.default = 'vscode' # for running in vs code\n",
    "\n",
    "fig = px.line(dfToPlot,\n",
    "              x=\"Time\",\n",
    "              y=\"Value\",\n",
    "              facet_col=\"fullDose.tmin\", \n",
    "              facet_row=\"primingDose.tmin\",\n",
    "              color=\"administrationMode\",\n",
    "              labels={\n",
    "                \"Time\": \"Time (days)\",\n",
    "                \"Value\": \"Concentration (µg/mL)\",\n",
    "                \"fullDose.tmin\": \"Full dose (mg)\",\n",
    "                \"primingDose.tmin\": \"Priming dose (mg)\",\n",
    "                \"administrationMode\": \"Administration\"\n",
    "                },\n",
    "              log_y=True\n",
    "             )\n",
    "fig.show()"
   ]
  },
  {
   "cell_type": "code",
   "execution_count": null,
   "id": "b9704d8a-ad47-4829-b491-b0e00eed103d",
   "metadata": {},
   "outputs": [],
   "source": []
  }
 ],
 "metadata": {
  "kernelspec": {
   "display_name": "Python 3 (ipykernel)",
   "language": "python",
   "name": "python3"
  },
  "language_info": {
   "codemirror_mode": {
    "name": "ipython",
    "version": 3
   },
   "file_extension": ".py",
   "mimetype": "text/x-python",
   "name": "python",
   "nbconvert_exporter": "python",
   "pygments_lexer": "ipython3",
   "version": "3.11.9"
  }
 },
 "nbformat": 4,
 "nbformat_minor": 5
}
