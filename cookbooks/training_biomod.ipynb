{
 "cells": [
  {
   "cell_type": "markdown",
   "id": "97de1512",
   "metadata": {},
   "source": [
    "# Biomod Training\n",
    "\n",
    "## Introduction\n",
    "\n",
    "This cookbook is the starting point of the api training program, specially designed for biomodelers "
   ]
  },
  {
   "cell_type": "markdown",
   "id": "d0db0b68",
   "metadata": {},
   "source": [
    "# API resources\n",
    "\n",
    "- [Quick start](https://doc.jinko.ai/docs/quick-start): How to create an api token  \n",
    "- [API doc](https://doc.jinko.ai/api/#/): auto-generated documentation of the routes\n",
    "- [This cookbook project](https://git.novadiscovery.net/jinko/api/jinko-api-cookbook): examples of cookbooks already created by the team "
   ]
  },
  {
   "cell_type": "markdown",
   "id": "106a453a",
   "metadata": {},
   "source": [
    "# Step 1 : Create your api token\n",
    "\n",
    "Follow the [quick start](https://doc.jinko.ai/docs/quick-start) instructions.  \n",
    "\n",
    "You can create an api token either for the [cookbooks project](https://jinko.ai/project/e0fbb5bb-8929-439a-bad6-9e12d19d9ae4)  or for the  project you want.  \n",
    "Note that a [dedicated folder](https://jinko.ai/project/e0fbb5bb-8929-439a-bad6-9e12d19d9ae4?labels=c2cc5ff2-8f0b-45da-a57f-f40db00dfd2b) has been created for this training "
   ]
  },
  {
   "cell_type": "code",
   "execution_count": null,
   "id": "f4a8a8c1",
   "metadata": {},
   "outputs": [],
   "source": [
    "# Jinko specifics imports & initialization\n",
    "# Please fold this section and do not change\n",
    "import jinko_helpers as jinko\n",
    "\n",
    "# Connect to Jinko (see README.md for more options)\n",
    "jinko.initialize()"
   ]
  },
  {
   "cell_type": "markdown",
   "id": "236d4a02",
   "metadata": {},
   "source": [
    "# Step 2: Reference the imports and constants\n",
    "\n",
    "In the cell below, you can put all your needed imports and constants"
   ]
  },
  {
   "cell_type": "code",
   "execution_count": null,
   "id": "b8a8364c",
   "metadata": {},
   "outputs": [],
   "source": [
    "# Cookbook specifics imports\n",
    "import json\n",
    "import os\n",
    "\n",
    "# Cookbook specifics constants:\n",
    "# put here the constants that are specific to your cookbook like\n",
    "# the reference to the Jinko items, the name of the model, etc.\n",
    "\n",
    "# folder_id can be retrieved in the url, pattern is `https://jinko.ai/project/<project_id>?labels=<folder_id>`\n",
    "folder_id = \"xxx-xxx-xxx\"\n",
    "\n",
    "resources_dir = os.path.normpath(\"resources/run_a_trial\")\n",
    "model_file = os.path.join(resources_dir, \"computational_model.json\")\n",
    "solving_options_file = os.path.join(resources_dir, \"solving_options.json\")\n",
    "vpop_file = os.path.join(resources_dir, \"vpop.csv\")\n",
    "protocol_file = os.path.join(resources_dir, \"protocol.json\")"
   ]
  },
  {
   "cell_type": "markdown",
   "id": "cb7a6106",
   "metadata": {},
   "source": [
    "# Step 3: Example"
   ]
  },
  {
   "cell_type": "markdown",
   "id": "5d641040",
   "metadata": {},
   "source": [
    "In this workflow, we are going to : \n",
    " - post a CM with its solving_options\n",
    " - post a Vpop\n",
    " - post a protocol "
   ]
  },
  {
   "cell_type": "markdown",
   "id": "e830d86f",
   "metadata": {},
   "source": [
    "Post the CM and solving options:"
   ]
  },
  {
   "cell_type": "code",
   "execution_count": null,
   "id": "351f3857",
   "metadata": {},
   "outputs": [],
   "source": [
    "# Load the model\n",
    "with open(model_file, \"r\") as f:\n",
    "    model = json.load(f)\n",
    "\n",
    "# Load the solving options\n",
    "with open(solving_options_file, \"r\") as f:\n",
    "    solving_options = json.load(f)\n",
    "\n",
    "# Post the model with its options\n",
    "# https://doc.jinko.ai/api/#/paths/core-v2-model_manager-jinko_model/post\n",
    "response = jinko.make_request(\n",
    "    path=\"/core/v2/model_manager/jinko_model\",\n",
    "    method=\"POST\",\n",
    "    json={\"model\": model, \"solvingOptions\": solving_options},\n",
    "    options={\"name\": \"simple tumor model\", \"folder_id\": folder_id},\n",
    ")\n",
    "\n",
    "# Get the ids of the resource\n",
    "project_item_info = jinko.get_project_item_info_from_response(response)\n",
    "model_core_item_id = project_item_info[\"coreItemId\"][\"id\"]\n",
    "model_snapshot_id = project_item_info[\"coreItemId\"][\"snapshotId\"]\n",
    "\n",
    "# Get the URL of the resource\n",
    "print(f\"Resource link: {jinko.get_project_item_url_from_response(response)}\")"
   ]
  },
  {
   "cell_type": "markdown",
   "id": "5c93ad42",
   "metadata": {},
   "source": [
    "Post the CSV vpop:"
   ]
  },
  {
   "cell_type": "code",
   "execution_count": null,
   "id": "60811dec",
   "metadata": {},
   "outputs": [],
   "source": [
    "with open(vpop_file, \"r\") as file:\n",
    "    vpop = file.read()\n",
    "\n",
    "# https://doc.jinko.ai/api/#/paths/core-v2-vpop_manager-vpop/post\n",
    "\n",
    "response = jinko.make_request(\n",
    "    path=f\"/core/v2/vpop_manager/vpop\",\n",
    "    method=\"POST\",\n",
    "    csv_data=vpop,\n",
    "    options={\n",
    "        \"name\": \"vpop for simple tumor model\",\n",
    "        \"folder_id\": folder_id,\n",
    "    },\n",
    ")\n",
    "\n",
    "project_item_info = jinko.get_project_item_info_from_response(response)\n",
    "vpop_core_item_id = project_item_info[\"coreItemId\"][\"id\"]\n",
    "vpop_snapshot_id = project_item_info[\"coreItemId\"][\"snapshotId\"]\n",
    "\n",
    "print(f\"Resource link: {jinko.get_project_item_url_from_response(response)}\")"
   ]
  },
  {
   "cell_type": "markdown",
   "id": "3f1b4d10",
   "metadata": {},
   "source": [
    "Post the protocol:"
   ]
  },
  {
   "cell_type": "code",
   "execution_count": null,
   "id": "935494f4",
   "metadata": {},
   "outputs": [],
   "source": [
    "# Load the protocol\n",
    "with open(protocol_file, \"r\") as f:\n",
    "    protocol = json.load(f)\n",
    "\n",
    "# Post the protocol\n",
    "# https://doc.jinko.ai/api/#/paths/core-v2-scenario_manager-protocol_design/post\n",
    "response = jinko.make_request(\n",
    "    path=\"/core/v2/scenario_manager/protocol_design\",\n",
    "    method=\"POST\",\n",
    "    json=protocol,\n",
    "    options={\n",
    "        \"name\": \"protocol for simple tumor model\",\n",
    "        \"folder_id\": folder_id,\n",
    "    },\n",
    ")\n",
    "\n",
    "project_item_info = jinko.get_project_item_info_from_response(response)\n",
    "protocol_core_item_id = project_item_info[\"coreItemId\"][\"id\"]\n",
    "protocol_snapshot_id = project_item_info[\"coreItemId\"][\"snapshotId\"]\n",
    "\n",
    "print(f\"Resource link: {jinko.get_project_item_url_from_response(response)}\")"
   ]
  },
  {
   "cell_type": "markdown",
   "id": "672a94ae",
   "metadata": {},
   "source": [
    "# Step 4 : time for you to code"
   ]
  },
  {
   "cell_type": "markdown",
   "id": "f6daeb01",
   "metadata": {},
   "source": [
    "Here is the suggested challenge:\n",
    " - create measures associated to the CM\n",
    " - create the trial\n",
    " - run the trial\n",
    " - download trial results (either scalar results or time series)\n",
    " - plot what you want ;)"
   ]
  }
 ],
 "metadata": {
  "kernelspec": {
   "display_name": "jinko-api-doc-PBqBA53s-py3.12",
   "language": "python",
   "name": "python3"
  },
  "language_info": {
   "codemirror_mode": {
    "name": "ipython",
    "version": 3
   },
   "file_extension": ".py",
   "mimetype": "text/x-python",
   "name": "python",
   "nbconvert_exporter": "python",
   "pygments_lexer": "ipython3",
   "version": "3.12.4"
  }
 },
 "nbformat": 4,
 "nbformat_minor": 5
}
