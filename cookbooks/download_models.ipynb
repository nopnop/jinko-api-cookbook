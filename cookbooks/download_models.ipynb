{
 "cells": [
  {
   "cell_type": "markdown",
   "metadata": {},
   "source": [
    "# Download\n",
    "\n",
    "With this cookbook, one can download one or more CM, at a specified version in a given folder"
   ]
  },
  {
   "cell_type": "code",
   "execution_count": null,
   "metadata": {},
   "outputs": [],
   "source": [
    "# Initialize your connection to Jinko\n",
    "\n",
    "import jinko_helpers as jinko\n",
    "\n",
    "# This function ensures that authentication is correct\n",
    "# It it also possible to override the base url by passing baseUrl=...\n",
    "jinko.initialize()"
   ]
  },
  {
   "cell_type": "code",
   "execution_count": null,
   "metadata": {},
   "outputs": [],
   "source": [
    "# Cookbook specifics imports\n",
    "import os\n",
    "import json\n",
    "\n",
    "# Cookbook specifics constants:\n",
    "# put here the constants that are specific to your cookbook like\n",
    "# the reference to the Jinko items, the name of the model, etc.\n",
    "\n",
    "# folder_id can be retrieved in the url, pattern is `https://jinko.ai/project/<project_id>?labels=<folder_id>`\n",
    "folder_id = \"50c56cbf-1215-4387-9723-e1538ae1eee0\"\n",
    "\n",
    "resources_dir = os.path.normpath(\"resources/download_models\")\n",
    "if not os.path.exists(resources_dir):\n",
    "    os.makedirs(resources_dir)"
   ]
  },
  {
   "cell_type": "markdown",
   "metadata": {},
   "source": [
    "## Step 1 : Display all available models"
   ]
  },
  {
   "cell_type": "code",
   "execution_count": null,
   "metadata": {},
   "outputs": [],
   "source": [
    "# List all models in a particular folder\n",
    "model_dict = jinko.get_models_in_folder(folder_id)\n",
    "\n",
    "print(\"All models in the folder:\")\n",
    "print(json.dumps(model_dict, indent=4))"
   ]
  },
  {
   "cell_type": "markdown",
   "metadata": {},
   "source": [
    "## Step 2 : Pick one of the methods below to download the models"
   ]
  },
  {
   "cell_type": "markdown",
   "metadata": {},
   "source": [
    "### download all models of the folder"
   ]
  },
  {
   "cell_type": "code",
   "execution_count": null,
   "metadata": {},
   "outputs": [],
   "source": [
    "for model_name in model_dict:\n",
    "    print(\"Downloading model \" + str(model_name) + \":\")\n",
    "    jinko.download_model(\n",
    "        model_sid=model_dict[model_name][\"sid\"], file_path_for_saving=resources_dir\n",
    "    )"
   ]
  },
  {
   "cell_type": "markdown",
   "metadata": {},
   "source": [
    "### download a specific model "
   ]
  },
  {
   "cell_type": "code",
   "execution_count": null,
   "metadata": {},
   "outputs": [],
   "source": [
    "MODEL_NAME = \"simple tumor model\"\n",
    "\n",
    "print(\"Downloading model \" + str(MODEL_NAME) + \":\")\n",
    "simple_tumor_model = jinko.download_model(\n",
    "    model_sid=model_dict[MODEL_NAME][\"sid\"], file_path_for_saving=resources_dir\n",
    ")"
   ]
  },
  {
   "cell_type": "markdown",
   "metadata": {},
   "source": [
    "### download a specific model at a given version"
   ]
  },
  {
   "cell_type": "markdown",
   "metadata": {},
   "source": [
    "list all versions of a model"
   ]
  },
  {
   "cell_type": "code",
   "execution_count": null,
   "metadata": {},
   "outputs": [],
   "source": [
    "MODEL_NAME = \"simple tumor model\"\n",
    "jinko.list_project_item_versions(sid=model_dict[MODEL_NAME][\"sid\"])"
   ]
  },
  {
   "cell_type": "markdown",
   "metadata": {},
   "source": [
    "download the first version"
   ]
  },
  {
   "cell_type": "code",
   "execution_count": null,
   "metadata": {},
   "outputs": [],
   "source": [
    "MODEL_REVISION = 1  # picks the first model version\n",
    "\n",
    "print(\"Downloading model \" + str(MODEL_NAME) + \":\")\n",
    "simple_tumor_model = jinko.download_model(\n",
    "    model_sid=model_dict[MODEL_NAME][\"sid\"],\n",
    "    model_revision=MODEL_REVISION,\n",
    "    file_path_for_saving=resources_dir,\n",
    ")"
   ]
  }
 ],
 "metadata": {
  "kernelspec": {
   "display_name": "jinko-api-cookbook-qhtqbAjx-py3.12",
   "language": "python",
   "name": "python3"
  },
  "language_info": {
   "codemirror_mode": {
    "name": "ipython",
    "version": 3
   },
   "file_extension": ".py",
   "mimetype": "text/x-python",
   "name": "python",
   "nbconvert_exporter": "python",
   "pygments_lexer": "ipython3",
   "version": "3.12.4"
  }
 },
 "nbformat": 4,
 "nbformat_minor": 2
}
