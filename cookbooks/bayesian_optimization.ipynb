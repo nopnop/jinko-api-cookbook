{
 "cells": [
  {
   "cell_type": "markdown",
   "metadata": {},
   "source": [
    "# Clinical trial optimization \n",
    "This cookbook will serve as a prototype of the trial optimization feature."
   ]
  },
  {
   "cell_type": "markdown",
   "metadata": {},
   "source": [
    "## Loading dependencies"
   ]
  },
  {
   "cell_type": "code",
   "execution_count": null,
   "metadata": {},
   "outputs": [],
   "source": [
    "# Cookbook specifics imports\n",
    "import matplotlib.pyplot as plt\n",
    "from modAL.models import BayesianOptimizer\n",
    "from modAL.acquisition import max_EI\n",
    "import numpy as np\n",
    "from sklearn.gaussian_process import GaussianProcessRegressor\n",
    "from sklearn.gaussian_process.kernels import Matern\n",
    "from sklearn.model_selection import train_test_split"
   ]
  },
  {
   "cell_type": "code",
   "execution_count": null,
   "metadata": {},
   "outputs": [],
   "source": [
    "# initializing the learner\n",
    "kernel = Matern(length_scale=1.0)\n",
    "regressor = GaussianProcessRegressor(kernel=kernel)\n",
    "\n",
    "d = 8\n",
    "n, n_training = 10000, 100\n",
    "a = 0.3 * np.ones((d,))\n",
    "X_full = np.random.randn(n, d)\n",
    "y_full = 1 - np.sum((X_full - a) ** 2, axis=1)\n",
    "i_max = np.argmax(y_full)\n",
    "\n",
    "\n",
    "def fitness(x):\n",
    "    return 1 - np.sum((x - a) ** 2)\n",
    "\n",
    "\n",
    "optimizer = BayesianOptimizer(\n",
    "    estimator=regressor,\n",
    "    # X_training     = X_initial, y_training = y_initial,\n",
    "    X_training=X_full[:n_training, :],\n",
    "    y_training=y_full[:n_training],\n",
    "    query_strategy=max_EI,\n",
    ")\n",
    "X_max, y_max = optimizer.get_max()\n",
    "print(f\"Training set optimal value: {y_max}\")\n",
    "print(f\"fitness: {fitness(X_max)}\")"
   ]
  },
  {
   "cell_type": "code",
   "execution_count": null,
   "metadata": {},
   "outputs": [],
   "source": [
    "num_queries = 5\n",
    "queried = []\n",
    "for n_query in range(num_queries):\n",
    "    query_idx, query_inst = optimizer.query(X_full)\n",
    "    queried.append(query_idx[0])\n",
    "    y = fitness(X_full[query_idx])\n",
    "    optimizer.teach(X_full[query_idx, :].reshape(1, -1), np.array([y]))\n",
    "    # X_max, y_max = optimizer.get_max()\n",
    "    print(f\"iteration = {n_query+1}, queried index: {query_idx}, fitness = {y:.3g}\")\n",
    "X_max, y_max = optimizer.get_max()\n",
    "print(f\"X_max={X_max}, y_max={y_max:.3g}\")"
   ]
  },
  {
   "cell_type": "code",
   "execution_count": null,
   "metadata": {},
   "outputs": [],
   "source": [
    "x = X_full[:1000, :]\n",
    "y_pred, y_std = optimizer.predict(x, return_std=True)\n",
    "plt.figure()\n",
    "plt.scatter(x[:, 0], y_pred, s=10, c=\"b\", zorder=-1)\n",
    "plt.errorbar(x[:, 0], y_pred, yerr=y_std, fmt=\".\", zorder=0, label=\"GP regressor\")\n",
    "plt.scatter(\n",
    "    optimizer.X_training[:, 0],\n",
    "    optimizer.y_training,\n",
    "    c=\"k\",\n",
    "    s=10,\n",
    "    label=\"Training\",\n",
    "    zorder=1,\n",
    ")\n",
    "plt.scatter(X_full[queried, 0], y_full[queried], c=\"r\", s=10, label=\"Queried\", zorder=2)\n",
    "plt.scatter(\n",
    "    X_full[i_max, 0],\n",
    "    y_full[i_max],\n",
    "    s=100,\n",
    "    marker=\"*\",\n",
    "    zorder=1.5,\n",
    "    c=\"g\",\n",
    "    label=\"full design best\",\n",
    ")\n",
    "plt.legend()"
   ]
  }
 ],
 "metadata": {
  "kernelspec": {
   "display_name": "jinko-api-cookbook-6UM2g0mU-py3.12",
   "language": "python",
   "name": "python3"
  },
  "language_info": {
   "codemirror_mode": {
    "name": "ipython",
    "version": 3
   },
   "file_extension": ".py",
   "mimetype": "text/x-python",
   "name": "python",
   "nbconvert_exporter": "python",
   "pygments_lexer": "ipython3",
   "version": "3.12.4"
  }
 },
 "nbformat": 4,
 "nbformat_minor": 2
}
