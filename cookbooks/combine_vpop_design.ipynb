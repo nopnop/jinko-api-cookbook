{
 "cells": [
  {
   "cell_type": "markdown",
   "metadata": {},
   "source": [
    "# Combine Vpop designs and upload them to jinko"
   ]
  },
  {
   "cell_type": "code",
   "execution_count": null,
   "metadata": {},
   "outputs": [],
   "source": [
    "# Jinko specifics imports & initialization\n",
    "# Please fold this section and do not change\n",
    "import jinko_helpers as jinko\n",
    "\n",
    "# Connect to Jinko (see README.md for more options) and Patritumab deruxtecan project\n",
    "jinko.initialize()"
   ]
  },
  {
   "cell_type": "code",
   "execution_count": null,
   "metadata": {},
   "outputs": [],
   "source": [
    "# Cookbook specific imports\n",
    "from crabbit import merge_vpop_designs\n",
    "\n",
    "# Cookbook specific constants\n",
    "folder_id = \"965f821b-dc35-4cd8-a026-dd276ddcf536\""
   ]
  },
  {
   "cell_type": "markdown",
   "metadata": {},
   "source": [
    "### Download the VpopDesigns you want to merge\n",
    "\n",
    "In this use case, both vpop designs come from the same jinko.ai folder, fell free to change it"
   ]
  },
  {
   "cell_type": "code",
   "execution_count": null,
   "metadata": {},
   "outputs": [],
   "source": [
    "# Check that we are in the correct folder and the desired items exist\n",
    "# Make a request to get all project items in the specified folder and filter out only VpopDesign items\n",
    "vpop_designs = jinko.make_request(\n",
    "    f\"/app/v1/project-item?folderId={folder_id}&type=VpopDesign\"\n",
    ").json()\n",
    "\n",
    "print(\"Available VPOP Designs in the folder:\")\n",
    "for design in vpop_designs:\n",
    "    print(f\"- {design['name']}\")"
   ]
  },
  {
   "cell_type": "code",
   "execution_count": null,
   "metadata": {},
   "outputs": [],
   "source": [
    "# Name of the VpopDesign to download\n",
    "vpop_design_name_to_download = [\"vpop design parameters\", \"vpop design compartments\"]\n",
    "\n",
    "# it's the element of vpop_designs whose name is vpop_design_name_to_to_download\n",
    "vpop_design_urls_to_merge = [\n",
    "    jinko.get_project_item_url_from_sid(vpop_design[\"sid\"])\n",
    "    for vpop_design in vpop_designs\n",
    "    if vpop_design[\"name\"] in vpop_design_name_to_download\n",
    "]"
   ]
  },
  {
   "cell_type": "markdown",
   "metadata": {},
   "source": [
    "### Merge the vpop designs"
   ]
  },
  {
   "cell_type": "code",
   "execution_count": null,
   "metadata": {},
   "outputs": [],
   "source": [
    "vpop_design_merged = merge_vpop_designs(vpop_design_urls_to_merge)"
   ]
  },
  {
   "cell_type": "markdown",
   "metadata": {},
   "source": [
    "### Get the Ids of the combined model"
   ]
  },
  {
   "cell_type": "code",
   "execution_count": null,
   "metadata": {},
   "outputs": [],
   "source": [
    "# Make a request to get all project items in the specified folder and filter out only ComputationalModel items\n",
    "models = jinko.make_request(\n",
    "    f\"/app/v1/project-item\",\n",
    "    params={\"folderId\": folder_id, \"type\": \"ComputationalModel\"},\n",
    ").json()\n",
    "\n",
    "print(\"Available Models in the folder:\")\n",
    "for model in models:\n",
    "    print(f\"- {model['name']}\")"
   ]
  },
  {
   "cell_type": "markdown",
   "metadata": {},
   "source": [
    "### Upload the combined VpopDesign to jinko with the attached model"
   ]
  },
  {
   "cell_type": "code",
   "execution_count": null,
   "metadata": {},
   "outputs": [],
   "source": [
    "# Name of the model corresponding to the combined vpop\n",
    "model_name = \"simple tumor model\"\n",
    "\n",
    "# it's the element of vpop_designs whose name is vpop_design_name_to_to_download\n",
    "model_source_id = next(\n",
    "    (model[\"coreId\"] for model in models if model[\"name\"] == model_name), None\n",
    ")\n",
    "\n",
    "vpop_generator = {\"contents\": vpop_design_merged, \"tag\": \"VpopGeneratorFromDesign\"}\n",
    "\n",
    "# https://doc.jinko.ai/api/#/paths/core-v2-vpop_manager-vpop/post\n",
    "response = jinko.make_request(\n",
    "    path=\"/core/v2/vpop_manager/vpop_generator\",\n",
    "    method=\"POST\",\n",
    "    json=vpop_generator,\n",
    "    options={\n",
    "        \"name\": \"Combined Vpop Design\",\n",
    "        \"folder_id\": folder_id,\n",
    "    },\n",
    ")\n",
    "\n",
    "\n",
    "project_item_info = jinko.get_project_item_info_from_response(response)\n",
    "print(f\"Resource link: {jinko.get_project_item_url_from_response(response)}\")"
   ]
  }
 ],
 "metadata": {
  "kernelspec": {
   "display_name": "jinko-api-cookbook-qhtqbAjx-py3.12",
   "language": "python",
   "name": "python3"
  },
  "language_info": {
   "codemirror_mode": {
    "name": "ipython",
    "version": 3
   },
   "file_extension": ".py",
   "mimetype": "text/x-python",
   "name": "python",
   "nbconvert_exporter": "python",
   "pygments_lexer": "ipython3",
   "version": "3.12.4"
  }
 },
 "nbformat": 4,
 "nbformat_minor": 2
}
