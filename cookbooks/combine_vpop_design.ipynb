{
 "cells": [
  {
   "cell_type": "markdown",
   "metadata": {},
   "source": [
    "# Combine Vpop designs and upload them to jinko"
   ]
  },
  {
   "cell_type": "code",
   "execution_count": null,
   "metadata": {},
   "outputs": [],
   "source": [
    "# Jinko specifics imports & initialization\n",
    "# Please fold this section and do not change\n",
    "import jinko_helpers as jinko\n",
    "\n",
    "# Connect to Jinko (see README.md for more options) and Patritumab deruxtecan project\n",
    "jinko.initialize()"
   ]
  },
  {
   "cell_type": "code",
   "execution_count": null,
   "metadata": {},
   "outputs": [],
   "source": [
    "# Cookbook specific imports\n",
    "import json\n",
    "\n",
    "# Cookbook specific constants\n",
    "folder_id = \"965f821b-dc35-4cd8-a026-dd276ddcf536\""
   ]
  },
  {
   "cell_type": "code",
   "execution_count": null,
   "metadata": {},
   "outputs": [],
   "source": [
    "# utils function\n",
    "\n",
    "\n",
    "def merge_vpop_design(vpop_design_list):\n",
    "    final_design = {\n",
    "        \"contents\": {\n",
    "            \"correlations\": [],\n",
    "            \"marginalCategoricals\": [],\n",
    "            \"marginalDistributions\": [],\n",
    "        }\n",
    "    }\n",
    "    for vpop_design in vpop_design_list:\n",
    "        final_design[\"contents\"][\"correlations\"].extend(\n",
    "            vpop_design[\"contents\"][\"correlations\"]\n",
    "        )\n",
    "        final_design[\"contents\"][\"marginalCategoricals\"].extend(\n",
    "            vpop_design[\"contents\"][\"marginalCategoricals\"]\n",
    "        )\n",
    "        final_design[\"contents\"][\"marginalDistributions\"].extend(\n",
    "            vpop_design[\"contents\"][\"marginalDistributions\"]\n",
    "        )\n",
    "        final_design[\"coreVersion\"] = vpop_design[\"coreVersion\"]\n",
    "    return final_design"
   ]
  },
  {
   "cell_type": "markdown",
   "metadata": {},
   "source": [
    "### Download the VpopDesigns you want to merge\n",
    "\n",
    "In this use case, both vpop designs come from the same jinko.ai folder, fell free to change it"
   ]
  },
  {
   "cell_type": "code",
   "execution_count": null,
   "metadata": {},
   "outputs": [],
   "source": [
    "# Check that we are in the correct folder and the desired items exist\n",
    "# Make a request to get all project items in the specified folder and filter out only VpopDesign items\n",
    "vpop_designs = jinko.make_request(\n",
    "    f\"/app/v1/project-item?folderId={folder_id}&type=VpopDesign\"\n",
    ").json()\n",
    "\n",
    "print(\"Available VPOP Designs in the folder:\")\n",
    "for design in vpop_designs:\n",
    "    print(f\"- {design['name']}\")"
   ]
  },
  {
   "cell_type": "code",
   "execution_count": null,
   "metadata": {},
   "outputs": [],
   "source": [
    "# Name of the VpopDesign to download\n",
    "vpop_design_name_to_download = [\"vpop design parameters\", \"vpop design compartments\"]\n",
    "\n",
    "# it's the element of vpop_designs whose name is vpop_design_name_to_to_download\n",
    "vpop_design_ids_to_download = [\n",
    "    vpop_design[\"coreId\"][\"id\"]\n",
    "    for vpop_design in vpop_designs\n",
    "    if vpop_design[\"name\"] in vpop_design_name_to_download\n",
    "]\n",
    "\n",
    "# Get the latest version of the desired VpopDesign\n",
    "vpop_design_downloaded = []\n",
    "for vpop_design_id in vpop_design_ids_to_download:\n",
    "    vpop_design_downloaded.append(\n",
    "        jinko.make_request(\n",
    "            f\"/core/v2/vpop_manager/vpop_generator/{vpop_design_id}\"\n",
    "        ).json()\n",
    "    )"
   ]
  },
  {
   "cell_type": "markdown",
   "metadata": {},
   "source": [
    "### Merge the vpop designs"
   ]
  },
  {
   "cell_type": "code",
   "execution_count": null,
   "metadata": {},
   "outputs": [],
   "source": [
    "vpop_design_merged = merge_vpop_design(vpop_design_downloaded)"
   ]
  },
  {
   "cell_type": "markdown",
   "metadata": {},
   "source": [
    "### Get the Ids of the combined model"
   ]
  },
  {
   "cell_type": "code",
   "execution_count": null,
   "metadata": {},
   "outputs": [],
   "source": [
    "# Make a request to get all project items in the specified folder and filter out only ComputationalModel items\n",
    "models = jinko.make_request(\n",
    "    f\"/app/v1/project-item?folderId={folder_id}&type=ComputationalModel\"\n",
    ").json()\n",
    "\n",
    "print(\"Available Models in the folder:\")\n",
    "for model in models:\n",
    "    print(f\"- {model['name']}\")"
   ]
  },
  {
   "cell_type": "markdown",
   "metadata": {},
   "source": [
    "### Upload the combined VpopDesign to jinko with the attached model"
   ]
  },
  {
   "cell_type": "code",
   "execution_count": null,
   "metadata": {},
   "outputs": [],
   "source": [
    "# Name of the model corresponding to the combined vpop\n",
    "model_name = \"simple tumor model\"\n",
    "\n",
    "# it's the element of vpop_designs whose name is vpop_design_name_to_to_download\n",
    "model_source_id = next(\n",
    "    (model[\"coreId\"] for model in models if model[\"name\"] == model_name), None\n",
    ")"
   ]
  },
  {
   "cell_type": "code",
   "execution_count": null,
   "metadata": {},
   "outputs": [],
   "source": [
    "# Name of the model corresponding to the combined vpop\n",
    "model_name = \"simple tumor model\"\n",
    "\n",
    "# it's the element of vpop_designs whose name is vpop_design_name_to_to_download\n",
    "model_source_id = next(\n",
    "    (model[\"coreId\"] for model in models if model[\"name\"] == model_name), None\n",
    ")\n",
    "\n",
    "vpop_design_merged[\"tag\"] = \"VpopGeneratorFromDesign\"\n",
    "vpop_design_merged[\"contents\"][\"computationalModelId\"] = {\n",
    "    \"coreItemId\": model_source_id[\"id\"],\n",
    "    \"snapshotId\": model_source_id[\"snapshotId\"],\n",
    "}\n",
    "\n",
    "# https://doc.jinko.ai/api/#/paths/core-v2-vpop_manager-vpop/post\n",
    "response = jinko.make_request(\n",
    "    path=\"/core/v2/vpop_manager/vpop_generator\",\n",
    "    method=\"POST\",\n",
    "    data=json.dumps(vpop_design_merged),\n",
    "    options={\n",
    "        \"name\": \"Combined Vpop Design\",\n",
    "        \"folder_id\": folder_id,\n",
    "    },\n",
    ")\n",
    "\n",
    "project_item_info = jinko.get_project_item_info_from_response(response)\n",
    "print(f\"Resource link: {jinko.get_project_item_url_from_response(response)}\")"
   ]
  }
 ],
 "metadata": {
  "kernelspec": {
   "display_name": "jinko-api-doc-qhtqbAjx-py3.12",
   "language": "python",
   "name": "python3"
  },
  "language_info": {
   "codemirror_mode": {
    "name": "ipython",
    "version": 3
   },
   "file_extension": ".py",
   "mimetype": "text/x-python",
   "name": "python",
   "nbconvert_exporter": "python",
   "pygments_lexer": "ipython3",
   "version": "3.12.4"
  }
 },
 "nbformat": 4,
 "nbformat_minor": 2
}
