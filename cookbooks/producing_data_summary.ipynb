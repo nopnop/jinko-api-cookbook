{
 "cells": [
  {
   "cell_type": "markdown",
   "id": "e1a89fbd-c05e-4ee5-adef-61c5a3e9bdbe",
   "metadata": {},
   "source": [
    "# Producing a summary table for simulated data\n",
    "## Introduction\n",
    "\n",
    "Summary tables are used to describe the characteristics of the patients included in a trial. This cookbook will explain how to generate one."
   ]
  },
  {
   "cell_type": "code",
   "execution_count": null,
   "id": "010fcb40-638a-4fa7-83c7-1636c33774a1",
   "metadata": {},
   "outputs": [],
   "source": [
    "# Jinko specifics imports & initialization\n",
    "# Please fold this section and do not change\n",
    "import jinko_helpers as jinko\n",
    "\n",
    "# Connect to Jinko (see README.md for more options)\n",
    "jinko.initialize()"
   ]
  },
  {
   "cell_type": "code",
   "execution_count": null,
   "id": "8e9b0cf8-a716-4715-b396-1e783ffad9e9",
   "metadata": {},
   "outputs": [],
   "source": [
    "# Cookbook specific imports\n",
    "from IPython.display import HTML\n",
    "import io\n",
    "import json\n",
    "import numpy as np\n",
    "import pandas as pd\n",
    "import zipfile\n",
    "\n",
    "# Cookbook specific constants:\n",
    "# Put here the constants that are specific to your cookbook like\n",
    "# the reference to the Jinko items, the name of the model, etc.\n",
    "\n",
    "# @param {\"name\":\"trialId\", \"type\": \"string\"}\n",
    "# The trial's short id can be retrieved in the url, pattern is `https://jinko.ai/<trial_sid>`\n",
    "trial_sid = \"tr-9Bid-BL1I\""
   ]
  },
  {
   "cell_type": "markdown",
   "id": "36e446fa-20e3-4195-9be4-cb9d626d4127",
   "metadata": {},
   "source": [
    "## Step 1 : Loading the trial\n",
    "### Getting the latest completed version"
   ]
  },
  {
   "cell_type": "code",
   "execution_count": null,
   "id": "f0dc546a-4d06-4ace-afe6-f29aa5bf4689",
   "metadata": {},
   "outputs": [],
   "source": [
    "# Convert short id to core item id\n",
    "trial_core_item_id = jinko.get_core_item_id(trial_sid, 1)\n",
    "\n",
    "# List all trial versions\n",
    "# https://doc.jinko.ai/api/#/paths/core-v2-trial_manager-trial-trialId--status/get\n",
    "response = jinko.make_request(\n",
    "    f'/core/v2/trial_manager/trial/{trial_core_item_id[\"id\"]}/status'\n",
    ")\n",
    "versions = response.json()\n",
    "\n",
    "# Get the latest completed version\n",
    "try:\n",
    "    latest_completed_version = next(\n",
    "        (item for item in versions if item[\"status\"] == \"completed\"), None\n",
    "    )\n",
    "    if latest_completed_version is None:\n",
    "        raise Exception(\"No completed trial version found\")\n",
    "    else:\n",
    "        print(\n",
    "            \"Successfully fetched this simulation:\\n\",\n",
    "            json.dumps(latest_completed_version, indent=1),\n",
    "        )\n",
    "        simulation_id = latest_completed_version[\"simulationId\"]\n",
    "        trial_core_item_id = simulation_id[\"coreItemId\"]\n",
    "        trial_snapshot_id = simulation_id[\"snapshotId\"]\n",
    "except Exception as e:\n",
    "    print(f\"Error processing trial versions: {e}\")\n",
    "    raise"
   ]
  },
  {
   "cell_type": "markdown",
   "id": "276b0b09-275c-4000-9935-ea465d537c24",
   "metadata": {},
   "source": [
    "## Step 2 : Getting and post processing the trial resuls\n",
    "### Displaying a summary of imported simulated data"
   ]
  },
  {
   "cell_type": "code",
   "execution_count": null,
   "id": "45b3d05a-071b-4cf7-9579-efac8767a419",
   "metadata": {},
   "outputs": [],
   "source": [
    "response_summary = jinko.get_trial_scalars_summary(trial_core_item_id, trial_snapshot_id, print_summary=True)\n",
    "\n",
    "# Store the list of scenario descriptors fetch them\n",
    "scenario_descriptors = [\n",
    "    scalar[\"id\"]\n",
    "    for scalar in (response_summary[\"scalars\"] + response_summary[\"categoricals\"])\n",
    "    if \"ScenarioOverride\" in scalar[\"type\"][\"labels\"]\n",
    "]\n",
    "print(\"List of scenario overrides:\\n\", scenario_descriptors, \"\\n\")"
   ]
  },
  {
   "cell_type": "markdown",
   "id": "76172f5d-2195-4383-89f4-0aee2c461bd3",
   "metadata": {},
   "source": [
    "### Retrieving scalar results"
   ]
  },
  {
   "cell_type": "code",
   "execution_count": null,
   "id": "1a86de1b",
   "metadata": {},
   "outputs": [],
   "source": [
    "json_data = {\n",
    "    \"trialId\": {\"coreItemId\": trial_core_item_id, \"snapshotId\": trial_snapshot_id}\n",
    "}\n",
    "\n",
    "# https://doc.jinko.ai/api/#/paths/core-v2-result_manager-scalars_summary/post\n",
    "response = jinko.make_request(\n",
    "    path=\"/core/v2/result_manager/trial_visualization\",\n",
    "    method=\"POST\",\n",
    "    json=json_data,\n",
    ")"
   ]
  },
  {
   "cell_type": "markdown",
   "id": "c96c9d25-21b8-4898-9617-5dd45318b1b9",
   "metadata": {},
   "source": [
    "### Loading scalars into a dataframe"
   ]
  },
  {
   "cell_type": "code",
   "execution_count": null,
   "id": "72739975-95b4-44c2-8a58-2a52590be62d",
   "metadata": {},
   "outputs": [],
   "source": [
    "df_scalars = jinko.get_trial_scalars_as_dataframe(\n",
    "    trial_core_item_id, trial_snapshot_id, scalar_ids=[\n",
    "            \"Blood.Drug.max\",\n",
    "            \"bloodFlowRate.tmin\",\n",
    "            \"initialCountCancerCells.tmin\",\n",
    "            \"initialTumorBurden.tmin\",\n",
    "            \"kccCancerCell.tmin\",\n",
    "            \"lymphaticFlowRate.tmin\",\n",
    "            \"lymphDrainingRate.tmin\",\n",
    "            \"tumorBurdenChangeFromBaseline.tend\",\n",
    "            \"Tumor.CancerCell.tmin\",\n",
    "            \"vmaxCancerCellDeath.tmin\",\n",
    "        ]\n",
    ")\n",
    "print(\"Raw scalar data (first rows):\\n\")\n",
    "display(df_scalars.head())\n",
    "print(\"\\nNumber of patients in the original table:\", len(df_scalars))\n",
    "\n",
    "# Filtering patients (keeping only cross arm baseline values and IV 10mg dose)\n",
    "df_scalars = df_scalars[df_scalars[\"armId\"].isin([\"crossArms\", \"iv-1-10\"])]\n",
    "print(f\"\\nNumber of patients in the table after filtering:\", len(df_scalars))\n",
    "\n",
    "# Pivotting to a wide format\n",
    "df_scalars = df_scalars.drop(\"armId\", axis=1)\n",
    "df_scalars = df_scalars.pivot(index=\"patientId\", columns=\"scalarId\", values=\"value\")\n",
    "\n",
    "# Checking the result\n",
    "print(\"\\nPivoted scalar table (first rows):\")\n",
    "display(df_scalars.head())\n",
    "\n",
    "# Checking if there are NaN values in the table\n",
    "nan_rows = df_scalars.isna().any(axis=1)\n",
    "id_to_remove = nan_rows[nan_rows].index.values\n",
    "print(\n",
    "    \"\\n\",\n",
    "    len(id_to_remove),\n",
    "    \"patient(s) containing NaN values in the table will be removed:\",\n",
    ")\n",
    "# display(df_scalars[df_scalars.index.isin(id_to_remove)])\n",
    "\n",
    "# Removing corresponding row(s)\n",
    "df_scalars = df_scalars.drop(index=id_to_remove)"
   ]
  },
  {
   "cell_type": "code",
   "execution_count": null,
   "id": "5a0d703f-f9d9-46f8-a7db-c044d4745c20",
   "metadata": {},
   "outputs": [],
   "source": [
    "# Creating a grouping column\n",
    "df_scalars[\"Group\"] = [\"Group1\"] * (df_scalars.shape[0] // 2) + [\"Group2\"] * (\n",
    "    df_scalars.shape[0] - df_scalars.shape[0] // 2\n",
    ")\n",
    "\n",
    "# Creating a additional fake categorical column\n",
    "df_scalars[\"TumorType\"] = np.random.choice(\n",
    "    [\"Type1\", \"Type2\", \"Type3\"], int(df_scalars.shape[0])\n",
    ")\n",
    "\n",
    "display(df_scalars.head())"
   ]
  },
  {
   "cell_type": "markdown",
   "id": "9bffe490-2f1b-4620-8078-82ab92e0422a",
   "metadata": {},
   "source": [
    "## Step 3 : Producing the summary table\n",
    "### Defining columns to summarize"
   ]
  },
  {
   "cell_type": "code",
   "execution_count": null,
   "id": "af43ed09-6868-46ed-a88e-8a445941151b",
   "metadata": {},
   "outputs": [],
   "source": [
    "columns_to_summarize = df_scalars.columns.values.tolist()\n",
    "columns_to_summarize.remove(\"Group\")\n",
    "stratify_by = \"Group\""
   ]
  },
  {
   "cell_type": "markdown",
   "id": "61bd0f32-cfe6-46fb-bdce-d061bbfe1539",
   "metadata": {},
   "source": [
    "### Creating functions to compute summarized statistics (mean and std, or category counts)"
   ]
  },
  {
   "cell_type": "code",
   "execution_count": null,
   "id": "f34870e3-503d-443e-9d94-47e47bf214ae",
   "metadata": {},
   "outputs": [],
   "source": [
    "def agg_fun(col):\n",
    "    mean = col.mean()\n",
    "    std = col.std()\n",
    "    return f\"{mean:.2e} ({std:.2e})\"\n",
    "\n",
    "\n",
    "def category_count_fun(x, categories):\n",
    "    counts = x.value_counts().reindex(categories, fill_value=0)\n",
    "    to_print = str(\n",
    "        \"\".join([f\"{category}: {count}\\n\" for category, count in counts.items()])\n",
    "    )\n",
    "    to_print = to_print[:-4]\n",
    "    return to_print"
   ]
  },
  {
   "cell_type": "code",
   "execution_count": null,
   "id": "12d2f592-d6cf-4d9a-b856-811b2b90b04d",
   "metadata": {},
   "outputs": [],
   "source": [
    "df_scalars[\"TumorType\"].dtype.name == \"object\"\n",
    "df_scalars.groupby(stratify_by)[\"TumorType\"].apply(\n",
    "    category_count_fun, categories=sorted(df_scalars[\"TumorType\"].unique())\n",
    ")"
   ]
  },
  {
   "cell_type": "markdown",
   "id": "72c9b8d3-045b-414b-8e5c-4b1101addd67",
   "metadata": {},
   "source": [
    "### Computing summary statistics"
   ]
  },
  {
   "cell_type": "code",
   "execution_count": null,
   "id": "2b920e7f-8fe5-4c13-a4a9-3c89b4b7ad3d",
   "metadata": {},
   "outputs": [],
   "source": [
    "# Dictionary to store the results\n",
    "summary_dict = {}\n",
    "\n",
    "# Looping through the columns and applying the function\n",
    "for col in columns_to_summarize:\n",
    "    if pd.api.types.is_numeric_dtype(df_scalars[col]):\n",
    "        summary_dict[col] = df_scalars.groupby(stratify_by)[col].apply(agg_fun)\n",
    "    elif (\n",
    "        df_scalars[\"TumorType\"].dtype.name == \"category\"\n",
    "        or df_scalars[\"TumorType\"].dtype.name == \"object\"\n",
    "    ):\n",
    "        summary_dict[col] = df_scalars.groupby(stratify_by)[col].apply(\n",
    "            category_count_fun, categories=sorted(df_scalars[col].unique())\n",
    "        )\n",
    "\n",
    "# Converting the dictionary to a data drame and transposing it\n",
    "summary_df = pd.DataFrame(summary_dict).transpose()\n",
    "\n",
    "# Renaming the first index value if necessary\n",
    "summary_df.columns.name = \"Descriptors\"\n",
    "\n",
    "# Display the summarized DataFrame\n",
    "display(HTML(summary_df.to_html().replace(\"\\\\n\", \"<br>\")))"
   ]
  }
 ],
 "metadata": {
  "kernelspec": {
   "display_name": "Python 3",
   "language": "python",
   "name": "python3"
  },
  "language_info": {
   "codemirror_mode": {
    "name": "ipython",
    "version": 3
   },
   "file_extension": ".py",
   "mimetype": "text/x-python",
   "name": "python",
   "nbconvert_exporter": "python",
   "pygments_lexer": "ipython3",
   "version": "3.12.10"
  }
 },
 "nbformat": 4,
 "nbformat_minor": 5
}
