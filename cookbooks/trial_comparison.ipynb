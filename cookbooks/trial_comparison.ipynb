{
 "cells": [
  {
   "cell_type": "markdown",
   "id": "97de1512",
   "metadata": {},
   "source": [
    "# Comparison of trial curves (survival analysis)\n",
    "\n",
    "## Introduction\n",
    "\n",
    "This cookbook will guide you through the creation of a simple visualization of the same output over several trials. Additionnally, it also compares each Kaplan-Meier curves to data with a log rank test. \n",
    "\n",
    "\n",
    "Linked resources: [Jinko](https://jinko.ai/project/e0fbb5bb-8929-439a-bad6-9e12d19d9ae4?labels=24574ece-6bde-4d76-896a-187426965a51)."
   ]
  },
  {
   "cell_type": "code",
   "execution_count": null,
   "id": "f4a8a8c1",
   "metadata": {},
   "outputs": [],
   "source": [
    "# Jinko specifics imports & initialization\n",
    "# Please fold this section and do not change\n",
    "import jinko_helpers as jinko\n",
    "\n",
    "\n",
    "# This function ensures that authentication is correct\n",
    "# It it also possible to override the base url by passing baseUrl=...\n",
    "# If everything is well setup, it should print \"Authentication successful\"\n",
    "jinko.initialize()"
   ]
  },
  {
   "cell_type": "code",
   "execution_count": null,
   "id": "b8a8364c",
   "metadata": {},
   "outputs": [],
   "source": [
    "# Cookbook specifics imports\n",
    "\n",
    "import io\n",
    "import pandas as pd\n",
    "import zipfile\n",
    "from typing import List, Any\n",
    "from sksurv.nonparametric import kaplan_meier_estimator\n",
    "from lifelines.statistics import logrank_test\n",
    "import matplotlib.pyplot as plt"
   ]
  },
  {
   "cell_type": "markdown",
   "id": "7ab2c4d7-727c-4adc-b748-7792e2d50f80",
   "metadata": {},
   "source": [
    "## Fill with informations on what you want to see"
   ]
  },
  {
   "cell_type": "code",
   "execution_count": null,
   "id": "aa7d074c-9c91-4c74-8b36-745d0d3c66ca",
   "metadata": {},
   "outputs": [],
   "source": [
    "# Cookbook specifics constants\n",
    "\n",
    "# Fill the short Id of your Trials (ex: tr-EKRx-3HRt)\n",
    "trialIdList = [\"tr-gLnd-8yYx\", \"tr-f9PT-uDkz\"]\n",
    "\n",
    "# Fill the Id of the biomarkers you want to retrieve. Then, it will be transformed into a Kaplan-Meier curve.\n",
    "# See Section \"Plot the Kaplan Meier curves\" in Cell \"Load and Plots all trials\"\n",
    "biomarkersId = [\n",
    "    \"timeToClinicalProgression-at-P2Y\",\n",
    "]\n",
    "\n",
    "# Fill the arm that you want to observe.\n",
    "arm = \"Treated\"\n",
    "\n",
    "# if you want to compare results with data\n",
    "compare_with_data = True"
   ]
  },
  {
   "cell_type": "markdown",
   "id": "1f6ec429",
   "metadata": {},
   "source": [
    "## Let's use the API and plot the data"
   ]
  },
  {
   "cell_type": "markdown",
   "id": "ab8791be-a046-4837-a119-84f673d198f2",
   "metadata": {},
   "source": [
    "### Load data\n",
    "\n",
    "If you have data, you can load them here. If you don't, you can skip this cell. There is a dummy example of what datas should look like for this script."
   ]
  },
  {
   "cell_type": "code",
   "execution_count": null,
   "id": "de3d902e-8027-4c2a-9715-d189a94e7b50",
   "metadata": {},
   "outputs": [],
   "source": [
    "# Time at which a patient is censored or encounter the event\n",
    "durationData = [20, 40, 80, 120, 120, 160, 180, 300, 380, 500, 600]\n",
    "\n",
    "# Status of the patients: True: event occurred, False: censor. All patients that did not encounter the event are censored\n",
    "statusData = [True, True, True, False, True, True, False, True, True, True, False]"
   ]
  },
  {
   "cell_type": "markdown",
   "id": "2fc5ed2a",
   "metadata": {},
   "source": [
    "### Load and plots all trials"
   ]
  },
  {
   "cell_type": "code",
   "execution_count": null,
   "id": "93bf3446",
   "metadata": {},
   "outputs": [],
   "source": [
    "for trialId in trialIdList:\n",
    "    # Retrieve your trial information\n",
    "    ## Convert short Id to coreItemId\n",
    "    coreItemId = jinko.get_core_item_id(trialId, 1)\n",
    "    # Get the last version of your Trial\n",
    "    ## List all Trial versions\n",
    "    versions: List[Any] = jinko.make_request(\n",
    "        \"/core/v2/trial_manager/trial/%s/status\" % (coreItemId[\"id\"])\n",
    "    ).json()\n",
    "    ## Get the latest completed version\n",
    "    latestCompletedVersion = next(\n",
    "        (item for item in versions if item[\"status\"] == \"completed\"), None\n",
    "    )\n",
    "    if latestCompletedVersion is None:\n",
    "        raise Exception(\"No completed Trial version found\")\n",
    "\n",
    "    dfBiomarkers_raw = jinko.get_trial_scalars_as_dataframe(\n",
    "        latestCompletedVersion[\"simulationId\"][\"coreItemId\"], latestCompletedVersion[\"simulationId\"][\"snapshotId\"], scalar_ids=biomarkersId\n",
    "    )\n",
    "\n",
    "    # Plot the Kaplan Meier curves\n",
    "    ## Convert the `armId` column to two groups (e.g., ArmA and ArmB)\n",
    "    dfBiomarkers_raw[\"armId\"] = dfBiomarkers_raw[\"armId\"].map(lambda x: x.split(\"_\")[0])\n",
    "    ## Split the data by arm\n",
    "    grouped = dfBiomarkers_raw.groupby(\"armId\")\n",
    "    group = grouped.get_group(arm)\n",
    "    time = group[\"value\"].values\n",
    "    event_occurred = [True] * len(time)  # Assuming all events are uncensored\n",
    "    max_time = max(time)\n",
    "    event_occurred = [False if t == max_time else True for t in time]\n",
    "    ## Construct the Kaplan - Meier curve\n",
    "    time_simulation, survival_simulation, conf_int = kaplan_meier_estimator(\n",
    "        event_occurred, time, conf_type=\"log-log\"\n",
    "    )\n",
    "    ## Plot curves\n",
    "    plt.step(\n",
    "        time_simulation, survival_simulation, where=\"post\", label=f\"Trial id {trialId}\"\n",
    "    )\n",
    "\n",
    "    # Compare with data, only if compare_with_data = 1\n",
    "    if compare_with_data == 1:\n",
    "        results = logrank_test(\n",
    "            time,\n",
    "            durationData,\n",
    "            event_observed_A=event_occurred,\n",
    "            event_observed_B=statusData,\n",
    "        )\n",
    "        print(\n",
    "            \"The logrank test for trial \",\n",
    "            trialId,\n",
    "            \" compare with data, is: p_value = \",\n",
    "            results.p_value,\n",
    "        )\n",
    "\n",
    "\n",
    "# Customize plot\n",
    "## Add data, only if compare_with_data = 1\n",
    "if compare_with_data == 1:\n",
    "    timeData, survivalData = kaplan_meier_estimator(statusData, durationData)\n",
    "    plt.plot(\n",
    "        timeData,\n",
    "        survivalData,\n",
    "        linestyle=\"--\",\n",
    "        marker=\"o\",\n",
    "        color=\"red\",\n",
    "        markersize=1,\n",
    "        label=\"Extracted Data\",\n",
    "    )\n",
    "\n",
    "plt.ylabel(\"Survival probability\")\n",
    "plt.xlabel(\"Time (months)\")\n",
    "plt.title(\"Kaplan-Meier Curves by Treatment Arm with Extracted Data\")\n",
    "plt.legend(title=\"Treatment Arm\")\n",
    "plt.grid(True)\n",
    "plt.show()"
   ]
  }
 ],
 "metadata": {
  "kernelspec": {
   "display_name": "jinko-api-doc-qhtqbAjx-py3.12",
   "language": "python",
   "name": "python3"
  },
  "language_info": {
   "codemirror_mode": {
    "name": "ipython",
    "version": 3
   },
   "file_extension": ".py",
   "mimetype": "text/x-python",
   "name": "python",
   "nbconvert_exporter": "python",
   "pygments_lexer": "ipython3",
   "version": "3.12.4"
  }
 },
 "nbformat": 4,
 "nbformat_minor": 5
}
