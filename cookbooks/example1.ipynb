{
 "cells": [
  {
   "cell_type": "code",
   "execution_count": null,
   "metadata": {},
   "outputs": [],
   "source": [
    "import sys; sys.path.insert(0, '../lib')\n",
    "import jinko_helpers as jinko\n",
    "\n",
    "# Configuration\n",
    "\n",
    "# Fill your API key (ex: 'd74cc07e-4a86-4aab-952a-a5814ae6e1ee')\n",
    "# If not set, it will be retrieved from the JINKO_API_KEY environment variable.\n",
    "# If environment variable is not set, you will be asked for it interactively\n",
    "apiKey = None\n",
    "\n",
    "# Fill your Project Id (ex: '14495063-918c-441a-a898-3131d70b02b0')\n",
    "# If not set, it will be retrieved from the JINKO_PROJECT_ID environment variable.\n",
    "# If environment variable is not set, you will be asked for it interactively\n",
    "projectId = None\n",
    "\n",
    "# This function ensures that authentication is correct\n",
    "# It it also possible to override the base url by passing baseUrl=...\n",
    "jinko.initialize(projectId, apiKey = apiKey)"
   ]
  },
  {
   "cell_type": "code",
   "execution_count": null,
   "metadata": {},
   "outputs": [],
   "source": [
    "import zipfile\n",
    "import io\n",
    "from typing import List, Any\n",
    "\n",
    "# Fill the short Id of your Trial (ex: tr-EKRx-3HRt)\n",
    "trialId = 'tr-GgOU-4DTm'\n",
    "if trialId is None:\n",
    "  raise Exception('Please specify a Trial Id')\n",
    "\n",
    "# Convert short Id to coreItemId\n",
    "coreItemId = jinko.getCoreItemId(trialId, 1)\n",
    "\n",
    "# List all Trial versions\n",
    "versions: List[Any] = jinko.makeRequest('/core/v2/trial_manager/trial/%s/status'%(coreItemId['id'])).json()\n",
    "\n",
    "# Get the latest completed version\n",
    "latestCompletedVersion = next((item for item in versions if item['status'] == 'completed'), None)\n",
    "if latestCompletedVersion is None:\n",
    "  raise Exception('No completed Trial version found')\n",
    "\n",
    "# Retrieve scalar results\n",
    "response = jinko.makeRequest('/core/v2/result_manager/scalars_summary', method='POST', json={\n",
    "  \"select\": [\n",
    "    \"x-max-on-medium-minus-its-control\",\n",
    "  ],\n",
    "  \"trialId\": latestCompletedVersion['simulationId']\n",
    "})\n",
    "archive = zipfile.ZipFile(io.BytesIO(response.content))\n",
    "filename = archive.namelist()[0]\n",
    "csv = archive.read(filename).decode('utf-8')\n",
    "\n",
    "print(csv)"
   ]
  },
  {
   "cell_type": "code",
   "execution_count": null,
   "metadata": {},
   "outputs": [],
   "source": []
  }
 ],
 "metadata": {
  "kernelspec": {
   "display_name": "Python 3 (ipykernel)",
   "language": "python",
   "name": "python3"
  },
  "language_info": {
   "codemirror_mode": {
    "name": "ipython",
    "version": 3
   },
   "file_extension": ".py",
   "mimetype": "text/x-python",
   "name": "python",
   "nbconvert_exporter": "python",
   "pygments_lexer": "ipython3",
   "version": "3.10.12"
  }
 },
 "nbformat": 4,
 "nbformat_minor": 4
}
