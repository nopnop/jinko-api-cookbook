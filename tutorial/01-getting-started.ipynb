{
 "cells": [
  {
   "cell_type": "code",
   "execution_count": 3,
   "metadata": {},
   "outputs": [],
   "source": [
    "import sys; sys.path.insert(0, '../lib')\n",
    "import jinko_helpers as jinko\n",
    "\n",
    "# Configuration\n",
    "\n",
    "# Fill your API key (ex: 'd74cc07e-4a86-4aab-952a-a5814ae6e1ee')\n",
    "# If not set, it will be retrieved from the JINKO_API_KEY environment variable.\n",
    "# If environment variable is not set, you will be asked for it interactively\n",
    "apiKey = None\n",
    "\n",
    "# Fill your Project Id (ex: '14495063-918c-441a-a898-3131d70b02b0')\n",
    "# If not set, it will be retrieved from the JINKO_PROJECT_ID environment variable.\n",
    "# If environment variable is not set, you will be asked for it interactively\n",
    "projectId = None\n",
    "\n",
    "# This function ensures that authentication is correct\n",
    "# It it also possible to override the base url by passing baseUrl=...\n",
    "jinko.initialize(projectId, apiKey = apiKey)"
   ]
  }
 ],
 "metadata": {
  "kernelspec": {
   "display_name": "python-jinko kernel",
   "language": "python",
   "name": "python-jinko"
  },
  "language_info": {
   "codemirror_mode": {
    "name": "ipython",
    "version": 3
   },
   "file_extension": ".py",
   "mimetype": "text/x-python",
   "name": "python",
   "nbconvert_exporter": "python",
   "pygments_lexer": "ipython3",
   "version": "3.10.9"
  }
 },
 "nbformat": 4,
 "nbformat_minor": 4
}
